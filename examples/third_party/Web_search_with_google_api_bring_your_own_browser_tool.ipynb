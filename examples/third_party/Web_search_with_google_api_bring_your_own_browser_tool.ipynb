{
 "cells": [
  {
   "metadata": {},
   "cell_type": "markdown",
   "source": [
    "## Building a Bring Your Own Browser (BYOB) Tool for Web Browsing and Summarization\n",
    "\n",
    "**Disclaimer: This cookbook is for educational purposes only. Ensure that you comply with all applicable laws and service terms when using web search and scraping technologies. This cookbook will restrict the search to openai.com domain to retrieve the public information illustrate the concepts.**\n",
    "\n",
    "Large Language Models (LLMs) like GPT-4 have a knowledge cutoff date, which means they lack information about events that occurred after that point. In scenarios where the most recent data is essential, it's necessary to provide LLMs with access to current web information to ensure accurate and relevant responses.\n",
    "\n",
    "In this guide, we will build a Bring Your Own Browser (BYOB) tool using Python to overcome this limitation. Our goal is to create a system that helps us compile a list of the most recent product launches by OpenAI. By integrating web search capabilities with an LLM, we'll enable the model to generate responses based on the latest information available online.\n",
    "\n",
    "While you can use any publicly available search APIs, we'll utilize Google's Custom Search API to perform web searches. The retrieved information from the search results will be processed and passed to the LLM to generate the final response through Retrieval-Augmented Generation (RAG).\n",
    "\n",
    "**Bring Your Own Browser (BYOB)** tools allow users to perform web browsing tasks programmatically. In this notebook, we'll create a BYOB tool that:\n",
    "\n",
    "#1 Performs web searches using a publicly available API such as the Google Custom Search API.  \n",
    "#2 Retrieves and cleans text content from web pages, and Summarizes the content using an LLM such as gpt-4o-mini    \n",
    "#3 Performs Retrieval-Augmented Generation (RAG) to generate a final outcome with reference to sources\n",
    "\n",
    "### Setting up a BYOB tool\n",
    "Before we begin, ensure you have the following: **Python 3.7 or later** installed on your machine. You will also need a Google Custom Search API key and Custom Search Engine ID (CSE ID). Necessary Python packages installed: `requests`, `beautifulsoup4`, `openai`. And ensure the OPENAI_API_KEY is set up as an environment variable."
   ],
   "id": "7f59879cabc55a5e"
  },
  {
   "metadata": {},
   "cell_type": "markdown",
   "source": [
    "#### Step 1: Set Up a Search Engine to Provide Web Search Results\n",
    "You can use any publicly available web search APIs to perform this task. We will configure a custom search engine using Google's Custom Search API. This engine will fetch a list of relevant web pages based on the user's query, focusing on obtaining the most recent and pertinent results.  \n",
    "\n",
    "**a. Obtain API Credentials:** Acquire a Google API key and a Custom Search Engine ID (CSE ID) from the Google Developers Console. You can navigate to this [Programmable Search Engine Link](https://developers.google.com/custom-search/v1/overview) to set up an API key as well as Search Engine ID. \n",
    "\n",
    "**b. Configure Search Function:** The `search` function below sets up the search based on search term, the API and CSE ID keys, as well as number of search results to return. We'll introduce a parameter `site_filter` to restrict the output to only `openai.com`\n",
    "  "
   ],
   "id": "1a766088c001c30b"
  },
  {
   "metadata": {
    "ExecuteTime": {
     "end_time": "2024-09-09T22:17:03.723361Z",
     "start_time": "2024-09-09T22:17:03.718273Z"
    }
   },
   "cell_type": "code",
   "source": [
    "def search(search_item, api_key, cse_id, search_depth=10, site_filter=None):\n",
    "    service_url = 'https://www.googleapis.com/customsearch/v1'\n",
    "\n",
    "    params = {\n",
    "        'q': search_item,\n",
    "        'key': api_key,\n",
    "        'cx': cse_id,\n",
    "        'num': search_depth\n",
    "    }\n",
    "\n",
    "    try:\n",
    "        response = requests.get(service_url, params=params)\n",
    "        response.raise_for_status()\n",
    "        results = response.json()\n",
    "\n",
    "        # Check if 'items' exists in the results\n",
    "        if 'items' in results:\n",
    "            if site_filter is not None:\n",
    "                \n",
    "                # Filter results to include only those with site_filter in the link\n",
    "                filtered_results = [result for result in results['items'] if site_filter in result['link']]\n",
    "\n",
    "                if filtered_results:\n",
    "                    return filtered_results\n",
    "                else:\n",
    "                    print(\"No results with 'openai.com' found.\")\n",
    "                    return []\n",
    "            else:\n",
    "                if 'items' in results:\n",
    "                    return results['items']\n",
    "                else:\n",
    "                    print(\"No search results found.\")\n",
    "                    return []\n",
    "\n",
    "    except requests.exceptions.RequestException as e:\n",
    "        print(f\"An error occurred during the search: {e}\")\n",
    "        return []\n"
   ],
   "id": "7df836efe1589633",
   "outputs": [],
   "execution_count": 108
  },
  {
   "metadata": {},
   "cell_type": "markdown",
   "source": [
    "**c. Identify the search terms for search engine:** Typically the natural language prompt does not produce the desired results on the search engine. An effective approach is to use LLM to produce the right search term before invoking the search function.   \n",
    "\n",
    "In this example, we have the `search_query` as the user's desire to list OpenAI product launches in the reverse chronological order. In order to retrieve meaningful results, we first invoke the search engine to produce relevant search terms. "
   ],
   "id": "dcee6754a2e6cd24"
  },
  {
   "metadata": {
    "ExecuteTime": {
     "end_time": "2024-09-09T22:17:05.622263Z",
     "start_time": "2024-09-09T22:17:05.071412Z"
    }
   },
   "cell_type": "code",
   "source": [
    "from openai import OpenAI\n",
    "\n",
    "client = OpenAI()\n",
    "\n",
    "search_query = \"List the latest OpenAI product launches in chronological order from latest to oldest in the past 2 years\"\n",
    "\n",
    "search_term = client.chat.completions.create(\n",
    "    model=\"gpt-4o\",\n",
    "    messages=[\n",
    "        {\"role\": \"system\", \"content\": \"Provide a google search term based on search query provided below in 3-4 words\"},\n",
    "        {\"role\": \"user\", \"content\": search_query}]\n",
    ").choices[0].message.content\n",
    "\n",
    "print(search_term)"
   ],
   "id": "3752702114df8160",
   "outputs": [
    {
     "name": "stdout",
     "output_type": "stream",
     "text": [
      "Latest OpenAI product launches\n"
     ]
    }
   ],
   "execution_count": 109
  },
  {
   "metadata": {},
   "cell_type": "markdown",
   "source": "**d. Invoke the search function:** Given the search result, we will invoke the search function to retrieve the results. The results only have the link of the web page and a snippet at this point. ",
   "id": "62b7194aedbc3a21"
  },
  {
   "metadata": {
    "ExecuteTime": {
     "end_time": "2024-09-09T22:17:27.471447Z",
     "start_time": "2024-09-09T22:17:27.014223Z"
    }
   },
   "cell_type": "code",
   "source": [
    "from dotenv import load_dotenv\n",
    "import os\n",
    "\n",
    "load_dotenv('.env')\n",
    "\n",
    "api_key = os.getenv('API_KEY')\n",
    "cse_id = os.getenv('CSE_ID')\n",
    "\n",
    "search_items = search(search_item=search_term, api_key=api_key, cse_id=cse_id, search_depth=10, site_filter=\"https://openai.com\")\n"
   ],
   "id": "891e924b15957206",
   "outputs": [],
   "execution_count": 112
  },
  {
   "metadata": {
    "ExecuteTime": {
     "end_time": "2024-09-09T22:17:28.022414Z",
     "start_time": "2024-09-09T22:17:28.019267Z"
    }
   },
   "cell_type": "code",
   "source": [
    "for item in search_items:\n",
    "    print(f\"Link: {item['link']}\")\n",
    "    print(f\"Snippet: {item['snippet']}\\n\")"
   ],
   "id": "ceedee1eb3ffec85",
   "outputs": [
    {
     "name": "stdout",
     "output_type": "stream",
     "text": [
      "Link: https://openai.com/news/\n",
      "Snippet: Product · Product. Jul 25, 2024. SearchGPT is a prototype of new AI search features. Home > News > Card ... (opens in a new window) (opens in a new window)\n",
      "\n",
      "Link: https://openai.com/index/new-models-and-developer-products-announced-at-devday/\n",
      "Snippet: Nov 6, 2023 ... GPT-4 Turbo with 128K context · We released the first version of GPT-4 in March and made GPT-4 generally available to all developers in July.\n",
      "\n",
      "Link: https://openai.com/\n",
      "Snippet: We believe our research will eventually lead to artificial general intelligence, a system that can solve human-level problems. Building safe and beneficial ...\n",
      "\n",
      "Link: https://openai.com/news/product/\n",
      "Snippet: Discover the latest product advancements from OpenAI and the ways they're being used by individuals and businesses.\n",
      "\n"
     ]
    }
   ],
   "execution_count": 113
  },
  {
   "metadata": {},
   "cell_type": "markdown",
   "source": [
    "#### Step 2: Build a Search Dictionary with Titles, URLs, and Summaries of Web Pages\n",
    "After obtaining the search results, we'll extract and organize the relevant information.\n",
    "\n",
    "**a. Scrape Web Page Content:** For each URL in the search results, scrape the web page to extract textual content while filtering out non-relevant data like scripts and advertisements.    \n",
    "\n",
    "**b. Summarize Content:** Use an AI assistant or LLM to generate concise summaries of the scraped content, focusing on information pertinent to the user's query.  \n",
    "  \n",
    "**c. Create a Structured Dictionary:** Organize the data into a dictionary or a DataFrame containing the title, URL, and summary for each web page.  \n"
   ],
   "id": "c2f754f92866307e"
  },
  {
   "metadata": {
    "ExecuteTime": {
     "end_time": "2024-09-09T22:24:14.130730Z",
     "start_time": "2024-09-09T22:24:14.123598Z"
    }
   },
   "cell_type": "code",
   "source": [
    "import requests\n",
    "from bs4 import BeautifulSoup\n",
    "\n",
    "TRUNCATE_SCRAPED_TEXT = 50000  # Adjust based on your model's context window\n",
    "SEARCH_DEPTH = 5\n",
    "\n",
    "def retrieve_content(url, max_tokens=TRUNCATE_SCRAPED_TEXT):\n",
    "        try:\n",
    "            headers = {'User-Agent': 'Mozilla/5.0'}\n",
    "            response = requests.get(url, headers=headers, timeout=10)\n",
    "            response.raise_for_status()\n",
    "\n",
    "            soup = BeautifulSoup(response.content, 'html.parser')\n",
    "            for script_or_style in soup(['script', 'style']):\n",
    "                script_or_style.decompose()\n",
    "\n",
    "            text = soup.get_text(separator=' ', strip=True)\n",
    "            characters = max_tokens * 4  # Approximate conversion\n",
    "            text = text[:characters]\n",
    "            return text\n",
    "        except requests.exceptions.RequestException as e:\n",
    "            print(f\"Failed to retrieve {url}: {e}\")\n",
    "            return None\n",
    "        \n",
    "def summarize_content(content, search_term, character_limit=500):\n",
    "        prompt = (\n",
    "            f\"You are an AI assistant tasked with summarizing content relevant to '{search_term}'. \"\n",
    "            f\"Please provide a concise summary in {character_limit} characters or less.\"\n",
    "        )\n",
    "        try:\n",
    "            response = client.chat.completions.create(\n",
    "                model=\"gpt-4o-mini\",\n",
    "                messages=[\n",
    "                    {\"role\": \"system\", \"content\": prompt},\n",
    "                    {\"role\": \"user\", \"content\": content}]\n",
    "            )\n",
    "            summary = response.choices[0].message.content\n",
    "            return summary\n",
    "        except Exception as e:\n",
    "            print(f\"An error occurred during summarization: {e}\")\n",
    "            return None\n",
    "\n",
    "def get_search_results(search_items, character_limit=500):\n",
    "    # Generate a summary of search results for the given search term\n",
    "    results_list = []\n",
    "    for idx, item in enumerate(search_items, start=1):\n",
    "        url = item.get('link')\n",
    "        \n",
    "        snippet = item.get('snippet', '')\n",
    "        web_content = retrieve_content(url, TRUNCATE_SCRAPED_TEXT)\n",
    "        \n",
    "        if web_content is None:\n",
    "            print(f\"Error: skipped URL: {url}\")\n",
    "        else:\n",
    "            summary = summarize_content(web_content, search_term, character_limit)\n",
    "            result_dict = {\n",
    "                'order': idx,\n",
    "                'URL': url,\n",
    "                'title': snippet,\n",
    "                'Summary': summary\n",
    "            }\n",
    "            results_list.append(result_dict)\n",
    "    return results_list"
   ],
   "id": "f4981ca230333116",
   "outputs": [],
   "execution_count": 116
  },
  {
   "metadata": {
    "ExecuteTime": {
     "end_time": "2024-09-09T22:24:23.854127Z",
     "start_time": "2024-09-09T22:24:14.782714Z"
    }
   },
   "cell_type": "code",
   "source": [
    "results = get_search_results(search_items)\n",
    "\n",
    "for result in results:\n",
    "    print(f\"Search order: {result['order']}\")\n",
    "    print(f\"Link: {result['URL']}\")\n",
    "    print(f\"Snippet: {result['title']}\")\n",
    "    print(f\"Summary: {result['Summary']}\")\n",
    "    print('-' * 80)"
   ],
   "id": "6b9afc6c933a6a67",
   "outputs": [
    {
     "name": "stdout",
     "output_type": "stream",
     "text": [
      "Search order: 1\n",
      "Link: https://openai.com/news/\n",
      "Snippet: Product · Product. Jul 25, 2024. SearchGPT is a prototype of new AI search features. Home > News > Card ... (opens in a new window) (opens in a new window)\n",
      "Summary: OpenAI has launched several new products recently, including **SearchGPT** (July 2024), a prototype enhancing AI search capabilities, and **GPT-4o mini** (July 2024), aimed at providing cost-efficient AI solutions. Other notable releases include **ChatGPT Edu** (May 2024) for educational applications, and improved data analysis features in ChatGPT. In May 2024, OpenAI also introduced **OpenAI for Nonprofits**, expanding access to AI for non-profit organizations. Continuous improvements to the fine-tuning API and custom model capabilities were also emphasized.\n",
      "--------------------------------------------------------------------------------\n",
      "Search order: 2\n",
      "Link: https://openai.com/index/new-models-and-developer-products-announced-at-devday/\n",
      "Snippet: Nov 6, 2023 ... GPT-4 Turbo with 128K context · We released the first version of GPT-4 in March and made GPT-4 generally available to all developers in July.\n",
      "Summary: On November 6, 2023, OpenAI launched several new products and updates at DevDay, including GPT-4 Turbo featuring a 128K context window and reduced pricing. Key offerings include a new Assistants API for building custom AI applications, multimodal capabilities like vision and DALL·E 3, and a text-to-speech API. Key improvements in function calling, instruction following, and a new fine-tuning program for GPT-4 were announced, alongside lower prices across several models and enhanced rate limits. OpenAI also introduced a Copyright Shield for legal protection regarding copyright claims.\n",
      "--------------------------------------------------------------------------------\n",
      "Search order: 3\n",
      "Link: https://openai.com/\n",
      "Snippet: We believe our research will eventually lead to artificial general intelligence, a system that can solve human-level problems. Building safe and beneficial ...\n",
      "Summary: OpenAI has recently launched several innovative products and features. Notably, ChatGPT has been enhanced to see, hear, and speak, making it more interactive. The introduction of Sora enables realistic video generation from text inputs. OpenAI has partnered with Apple to integrate ChatGPT into Apple products, expanding accessibility and usability. Additionally, compliance and administrative tools for ChatGPT Enterprise have been introduced, along with improvements to data analysis capabilities. These advancements showcase OpenAI's commitment to enhancing user experience and functionality.\n",
      "--------------------------------------------------------------------------------\n",
      "Search order: 4\n",
      "Link: https://openai.com/news/product/\n",
      "Snippet: Discover the latest product advancements from OpenAI and the ways they're being used by individuals and businesses.\n",
      "Summary: Recently, OpenAI launched several significant products. On July 25, 2024, they introduced SearchGPT, a prototype enhancing AI search functionalities. Additionally, on July 18, 2024, they unveiled GPT-4o mini, aimed at providing cost-effective intelligence. On May 30, 2024, the \"OpenAI for Education\" initiative was also highlighted, aiming to integrate AI into educational settings. These innovations continue to expand OpenAI's offerings across various sectors, including education and business.\n",
      "--------------------------------------------------------------------------------\n"
     ]
    }
   ],
   "execution_count": 117
  },
  {
   "metadata": {},
   "cell_type": "markdown",
   "source": [
    "#### Step 3: Generate a RAG Response to the User Query\n",
    "With the structured data, we'll enhance the LLM's response by incorporating the most recent information.\n",
    "\n",
    "Combine Summaries: Aggregate the summaries from all relevant web pages into a single context.\n",
    "Perform Retrieval-Augmented Generation: Feed the combined summaries into the LLM as additional context to generate a comprehensive and up-to-date response to the user's query.\n",
    "Deliver the Final Response: Present the LLM's output, which now includes information beyond its original knowledge cutoff, providing accurate and current insights.\n"
   ],
   "id": "3f81cf3fd1a942c3"
  },
  {
   "metadata": {
    "ExecuteTime": {
     "end_time": "2024-09-09T22:25:22.712463Z",
     "start_time": "2024-09-09T22:25:13.168676Z"
    }
   },
   "cell_type": "code",
   "source": [
    "import json \n",
    "\n",
    "final_prompt = (\n",
    "    f\"The user will provide a dictionary of search results in JSON format for search query {search_term} Based on on the search results provided by the user, provide a detailed response to this query: **'{search_query}'**. Make sure to cite all the sources at the end of your answer.\"\n",
    ")\n",
    "\n",
    "response = client.chat.completions.create(\n",
    "    model=\"gpt-4o\",\n",
    "    messages=[\n",
    "        {\"role\": \"system\", \"content\": final_prompt},\n",
    "        {\"role\": \"user\", \"content\": json.dumps(results)}],\n",
    "    temperature=0\n",
    "\n",
    ")\n",
    "summary = response.choices[0].message.content\n",
    "\n"
   ],
   "id": "2894a01ce6c44d36",
   "outputs": [],
   "execution_count": 119
  },
  {
   "metadata": {
    "ExecuteTime": {
     "end_time": "2024-09-09T22:25:41.136505Z",
     "start_time": "2024-09-09T22:25:41.133460Z"
    }
   },
   "cell_type": "code",
   "source": "print(summary)",
   "id": "e8eaca26946d2f9f",
   "outputs": [
    {
     "name": "stdout",
     "output_type": "stream",
     "text": [
      "Based on the provided search results, here is a chronological list of the latest OpenAI product launches from the past two years, starting from the most recent:\n",
      "\n",
      "1. **SearchGPT** - July 25, 2024\n",
      "   - A prototype enhancing AI search capabilities.\n",
      "   - [Source](https://openai.com/news/)\n",
      "\n",
      "2. **GPT-4o mini** - July 18, 2024\n",
      "   - Aimed at providing cost-efficient AI solutions.\n",
      "   - [Source](https://openai.com/news/product/)\n",
      "\n",
      "3. **ChatGPT Edu** - May 30, 2024\n",
      "   - Designed for educational applications.\n",
      "   - [Source](https://openai.com/news/product/)\n",
      "\n",
      "4. **OpenAI for Nonprofits** - May 2024\n",
      "   - Expanding access to AI for non-profit organizations.\n",
      "   - [Source](https://openai.com/news/)\n",
      "\n",
      "5. **GPT-4 Turbo** - November 6, 2023\n",
      "   - Features a 128K context window and reduced pricing.\n",
      "   - [Source](https://openai.com/index/new-models-and-developer-products-announced-at-devday/)\n",
      "\n",
      "6. **Assistants API** - November 6, 2023\n",
      "   - For building custom AI applications.\n",
      "   - [Source](https://openai.com/index/new-models-and-developer-products-announced-at-devday/)\n",
      "\n",
      "7. **Multimodal capabilities (vision and DALL·E 3)** - November 6, 2023\n",
      "   - Enhancements in vision and image generation.\n",
      "   - [Source](https://openai.com/index/new-models-and-developer-products-announced-at-devday/)\n",
      "\n",
      "8. **Text-to-Speech API** - November 6, 2023\n",
      "   - New API for converting text to speech.\n",
      "   - [Source](https://openai.com/index/new-models-and-developer-products-announced-at-devday/)\n",
      "\n",
      "9. **ChatGPT enhancements (see, hear, and speak)** - Date not specified\n",
      "   - Making ChatGPT more interactive.\n",
      "   - [Source](https://openai.com/)\n",
      "\n",
      "10. **Sora** - Date not specified\n",
      "    - Enables realistic video generation from text inputs.\n",
      "    - [Source](https://openai.com/)\n",
      "\n",
      "11. **Integration of ChatGPT into Apple products** - Date not specified\n",
      "    - Expanding accessibility and usability.\n",
      "    - [Source](https://openai.com/)\n",
      "\n",
      "12. **Compliance and administrative tools for ChatGPT Enterprise** - Date not specified\n",
      "    - Enhancements for enterprise use.\n",
      "    - [Source](https://openai.com/)\n",
      "\n",
      "13. **Improved data analysis features in ChatGPT** - Date not specified\n",
      "    - Enhancements to data analysis capabilities.\n",
      "    - [Source](https://openai.com/)\n",
      "\n",
      "14. **Continuous improvements to the fine-tuning API and custom model capabilities** - Date not specified\n",
      "    - Ongoing enhancements to fine-tuning and custom models.\n",
      "    - [Source](https://openai.com/news/)\n",
      "\n",
      "15. **Copyright Shield** - November 6, 2023\n",
      "    - Legal protection regarding copyright claims.\n",
      "    - [Source](https://openai.com/index/new-models-and-developer-products-announced-at-devday/)\n",
      "\n",
      "These product launches highlight OpenAI's continuous efforts to innovate and expand its AI capabilities across various sectors, including education, enterprise, and general user applications.\n",
      "\n",
      "### Sources:\n",
      "- [OpenAI News](https://openai.com/news/)\n",
      "- [OpenAI Product Announcements](https://openai.com/index/new-models-and-developer-products-announced-at-devday/)\n",
      "- [OpenAI Homepage](https://openai.com/)\n",
      "- [OpenAI Product Page](https://openai.com/news/product/)\n"
     ]
    }
   ],
   "execution_count": 120
  },
  {
   "metadata": {},
   "cell_type": "code",
   "source": "",
   "id": "c406132b9024c804",
   "outputs": [],
   "execution_count": null
  }
 ],
 "metadata": {
  "kernelspec": {
   "display_name": "Python 3",
   "language": "python",
   "name": "python3"
  },
  "language_info": {
   "codemirror_mode": {
    "name": "ipython",
    "version": 2
   },
   "file_extension": ".py",
   "mimetype": "text/x-python",
   "name": "python",
   "nbconvert_exporter": "python",
   "pygments_lexer": "ipython2",
   "version": "2.7.6"
  }
 },
 "nbformat": 4,
 "nbformat_minor": 5
}
