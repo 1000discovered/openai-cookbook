{
 "cells": [
  {
   "cell_type": "markdown",
   "metadata": {},
   "source": [
    "# Making slides with the Assistants API and DALL-E3\n",
    "\n",
    "This notebook illustrates the use of the new [**Assistants API**](https://platform.openai.com/docs/assistants/overview) and [**DALL-E3**](https://platform.openai.com/docs/guides/images?context=node) in crafting informative and visually appealing slides. <br>\n",
    "Creating engaging slides is a pivotal aspect of many jobs, but it can be a laborious and time-consuming task. Additionally, extracting insights from data and articulating them effectively on slides can be challenging. <br><br> This cookbook recipe will demonstrate how you can utilize the new Assistants API, with GPT-Vision, and DALL-E3 to create slides for you without you having to touch Microsoft PowerPoint or Google Slides, saving you valuable time and effort!"
   ]
  },
  {
   "cell_type": "markdown",
   "metadata": {},
   "source": [
    "## 0. Setup"
   ]
  },
  {
   "cell_type": "code",
   "execution_count": 1,
   "metadata": {},
   "outputs": [],
   "source": [
    "from IPython.display import display, Image\n",
    "from openai import OpenAI\n",
    "import pandas as pd\n",
    "import json\n",
    "import io\n",
    "from PIL import Image\n",
    "import requests\n",
    "\n",
    "\n",
    "client = OpenAI()\n",
    "\n",
    "#Lets import some helper functions for assistants from https://cookbook.openai.com/examples/assistants_api_overview_python\n",
    "def show_json(obj):\n",
    "    display(json.loads(obj.model_dump_json()))\n",
    "\n",
    "def submit_message(assistant_id, thread, user_message,file_ids=None):\n",
    "    params = {\n",
    "        'thread_id': thread.id,\n",
    "        'role': 'user',\n",
    "        'content': user_message,\n",
    "    }\n",
    "    if file_ids:\n",
    "        params['file_ids']=file_ids\n",
    "\n",
    "    client.beta.threads.messages.create(\n",
    "        **params\n",
    ")\n",
    "    return client.beta.threads.runs.create(\n",
    "    thread_id=thread.id,\n",
    "    assistant_id=assistant_id,\n",
    ")\n",
    "\n",
    "def get_response(thread):\n",
    "    return client.beta.threads.messages.list(thread_id=thread.id)\n"
   ]
  },
  {
   "cell_type": "markdown",
   "metadata": {},
   "source": [
    "## 1. Creating the content"
   ]
  },
  {
   "cell_type": "markdown",
   "metadata": {},
   "source": [
    "In this recipe, we will be creating a brief fictional presentation for the quarterly financial review of our company, NotReal Corporation. In the presentation, we want to highlight some key trends we are seeing that are affecting the profitability of our company.<br> Let's say we have the some financial data at our disposal. Let's load in the data, and take a look..."
   ]
  },
  {
   "cell_type": "code",
   "execution_count": 2,
   "metadata": {},
   "outputs": [
    {
     "data": {
      "text/html": [
       "<div>\n",
       "<style scoped>\n",
       "    .dataframe tbody tr th:only-of-type {\n",
       "        vertical-align: middle;\n",
       "    }\n",
       "\n",
       "    .dataframe tbody tr th {\n",
       "        vertical-align: top;\n",
       "    }\n",
       "\n",
       "    .dataframe thead th {\n",
       "        text-align: right;\n",
       "    }\n",
       "</style>\n",
       "<table border=\"1\" class=\"dataframe\">\n",
       "  <thead>\n",
       "    <tr style=\"text-align: right;\">\n",
       "      <th></th>\n",
       "      <th>Year</th>\n",
       "      <th>Quarter</th>\n",
       "      <th>Distribution channel</th>\n",
       "      <th>Revenue ($M)</th>\n",
       "      <th>Costs ($M)</th>\n",
       "      <th>Customer count</th>\n",
       "      <th>Time</th>\n",
       "    </tr>\n",
       "  </thead>\n",
       "  <tbody>\n",
       "    <tr>\n",
       "      <th>0</th>\n",
       "      <td>2021</td>\n",
       "      <td>Q1</td>\n",
       "      <td>Online Sales</td>\n",
       "      <td>1.50</td>\n",
       "      <td>1.301953</td>\n",
       "      <td>150</td>\n",
       "      <td>2021 Q1</td>\n",
       "    </tr>\n",
       "    <tr>\n",
       "      <th>1</th>\n",
       "      <td>2021</td>\n",
       "      <td>Q1</td>\n",
       "      <td>Direct Sales</td>\n",
       "      <td>1.50</td>\n",
       "      <td>1.380809</td>\n",
       "      <td>151</td>\n",
       "      <td>2021 Q1</td>\n",
       "    </tr>\n",
       "    <tr>\n",
       "      <th>2</th>\n",
       "      <td>2021</td>\n",
       "      <td>Q1</td>\n",
       "      <td>Retail Partners</td>\n",
       "      <td>1.50</td>\n",
       "      <td>1.348246</td>\n",
       "      <td>152</td>\n",
       "      <td>2021 Q1</td>\n",
       "    </tr>\n",
       "    <tr>\n",
       "      <th>3</th>\n",
       "      <td>2021</td>\n",
       "      <td>Q2</td>\n",
       "      <td>Online Sales</td>\n",
       "      <td>1.52</td>\n",
       "      <td>1.308608</td>\n",
       "      <td>152</td>\n",
       "      <td>2021 Q2</td>\n",
       "    </tr>\n",
       "    <tr>\n",
       "      <th>4</th>\n",
       "      <td>2021</td>\n",
       "      <td>Q2</td>\n",
       "      <td>Direct Sales</td>\n",
       "      <td>1.52</td>\n",
       "      <td>1.413305</td>\n",
       "      <td>153</td>\n",
       "      <td>2021 Q2</td>\n",
       "    </tr>\n",
       "  </tbody>\n",
       "</table>\n",
       "</div>"
      ],
      "text/plain": [
       "   Year Quarter Distribution channel  Revenue ($M)  Costs ($M)  \\\n",
       "0  2021      Q1         Online Sales          1.50    1.301953   \n",
       "1  2021      Q1         Direct Sales          1.50    1.380809   \n",
       "2  2021      Q1      Retail Partners          1.50    1.348246   \n",
       "3  2021      Q2         Online Sales          1.52    1.308608   \n",
       "4  2021      Q2         Direct Sales          1.52    1.413305   \n",
       "\n",
       "   Customer count     Time  \n",
       "0             150  2021 Q1  \n",
       "1             151  2021 Q1  \n",
       "2             152  2021 Q1  \n",
       "3             152  2021 Q2  \n",
       "4             153  2021 Q2  "
      ]
     },
     "execution_count": 2,
     "metadata": {},
     "output_type": "execute_result"
    }
   ],
   "source": [
    "financial_data_path = 'data/NotRealCorp_financial_data.json'\n",
    "financial_data = pd.read_json(financial_data_path)\n",
    "financial_data.head(5)\n"
   ]
  },
  {
   "cell_type": "markdown",
   "metadata": {},
   "source": [
    "As you can see, this data has quarterly revenue, costs and customer data across different distribution channels. Let's create an Assistant\n",
    "that can act as a personal analyst and make a nice visualization for our PowerPoint!"
   ]
  },
  {
   "cell_type": "markdown",
   "metadata": {},
   "source": [
    "First, we need to upload our file so our Assistant can access it."
   ]
  },
  {
   "cell_type": "code",
   "execution_count": 3,
   "metadata": {},
   "outputs": [],
   "source": [
    "file = client.files.create(\n",
    "  file=open('data/NotRealCorp_financial_data.json',\"rb\"),\n",
    "  purpose='assistants',\n",
    ")\n"
   ]
  },
  {
   "cell_type": "markdown",
   "metadata": {},
   "source": [
    "Now, we're ready to create our Assistant. We can instruct our assistant to act as a data scientist, and take any queries we give it and run the necessary code to output the proper data visualization. We can also turn on the tool of Code Interpreter, so our Assistant will be able to code. Finally, we can specifiy any files we want to use, which in this case is just the `financial_data` file we created above."
   ]
  },
  {
   "cell_type": "code",
   "execution_count": 4,
   "metadata": {},
   "outputs": [],
   "source": [
    "assistant = client.beta.assistants.create(\n",
    "  instructions=\"You are a data scientist assistant. When given data and a query, write the proper code and create the proper visualization\",\n",
    "  model=\"gpt-4-1106-preview\",\n",
    "  tools=[{\"type\": \"code_interpreter\"}],\n",
    "  file_ids=[file.id]\n",
    ")\n"
   ]
  },
  {
   "cell_type": "markdown",
   "metadata": {},
   "source": [
    "Let's create a thread now, and as our first request ask the Assistant to calculate quarterly profits, and then plot the profits by distribution channel over time. The assistant will automatically calculate the profit for each quarter, and also create a new column combining quarter and year, without us having to ask for that directly. We can also specify the colors of each line."
   ]
  },
  {
   "cell_type": "code",
   "execution_count": 5,
   "metadata": {},
   "outputs": [],
   "source": [
    "thread = client.beta.threads.create(\n",
    "  messages=[\n",
    "    {\n",
    "      \"role\": \"user\",\n",
    "      \"content\": \"Calculate profit (revenue minus cost) by quarter and year, and visualize as a line plot across the distribution channels, where the colors of the lines are green, light red, and light blue\",\n",
    "      \"file_ids\": [file.id]\n",
    "    }\n",
    "  ]\n",
    ")\n"
   ]
  },
  {
   "cell_type": "markdown",
   "metadata": {},
   "source": [
    "No we can execute the run of our thread"
   ]
  },
  {
   "cell_type": "code",
   "execution_count": 6,
   "metadata": {},
   "outputs": [],
   "source": [
    "\n",
    "run = client.beta.threads.runs.create(\n",
    "    thread_id=thread.id,\n",
    "    assistant_id=assistant.id,\n",
    ")\n"
   ]
  },
  {
   "cell_type": "markdown",
   "metadata": {},
   "source": [
    "We can now start a loop that will check if the image has been created. Note: This may take a few minutes"
   ]
  },
  {
   "cell_type": "code",
   "execution_count": 7,
   "metadata": {},
   "outputs": [],
   "source": [
    "messages = client.beta.threads.messages.list(thread_id=thread.id)\n"
   ]
  },
  {
   "cell_type": "code",
   "execution_count": 8,
   "metadata": {},
   "outputs": [
    {
     "name": "stdout",
     "output_type": "stream",
     "text": [
      "Assistant still working...\n",
      "Assistant still working...\n",
      "Assistant still working...\n",
      "Assistant still working...\n",
      "Assistant still working...\n",
      "Assistant still working...\n",
      "Assistant still working...\n",
      "Assistant still working...\n",
      "Assistant still working...\n",
      "Assistant still working...\n",
      "Assistant still working...\n",
      "Plot created!\n"
     ]
    }
   ],
   "source": [
    "import time\n",
    "\n",
    "while True:\n",
    "    messages = client.beta.threads.messages.list(thread_id=thread.id)\n",
    "    try:\n",
    "        #See if image has been created\n",
    "        messages.data[0].content[0].image_file\n",
    "        print('Plot created!')\n",
    "        break\n",
    "    except:\n",
    "        time.sleep(10)\n",
    "        print('Assistant still working...')\n"
   ]
  },
  {
   "cell_type": "markdown",
   "metadata": {},
   "source": [
    "Let's see the messages the Assistant added."
   ]
  },
  {
   "cell_type": "code",
   "execution_count": 9,
   "metadata": {},
   "outputs": [
    {
     "data": {
      "text/plain": [
       "[MessageContentImageFile(image_file=ImageFile(file_id='file-D9tKO1cYsQZRIOevecE8PLxQ'), type='image_file'),\n",
       " MessageContentText(text=Text(annotations=[], value=\"With the profit calculated for each quarter, year, and distribution channel, the next step is to visualize this data as a line plot. We'll plot profit against time (combination of year and quarter) for each distribution channel and use the specified colors for the lines: green, light red, and light blue.\"), type='text'),\n",
       " MessageContentText(text=Text(annotations=[], value=\"The DataFrame has now been reconstructed with columns for the year, quarter, distribution channel, revenue, costs, customer count, and a time column that combines year and quarter. With this structure in place, we can now proceed to calculate the profit by quarter and year and then visualize it across the different distribution channels as requested.\\n\\nWe will calculate the profit by subtracting the costs from the revenue for each row, then aggregate this by quarter and year to find the profit for each distribution channel over time. Once we have this, we can create a line plot with the specified color scheme. Let's start by calculating the profit.\"), type='text'),\n",
       " MessageContentText(text=Text(annotations=[], value=\"The JSON data appears to have a structure where each column in the intended DataFrame is represented as a key in the JSON object, with the values being another object containing numbered keys as indices. This is an unusual format and is effectively transposing the usual row-based JSON structure.\\n\\nTo convert this into a usable DataFrame, we need to reconstruct the DataFrame from the JSON objects, treating keys as column names and nesting objects' numeric keys' values as the row data. Here's how we can achieve this:\\n\\n1. Iterate over the key-value pairs in the JSON data, treating each key as a column name.\\n2. Combine the values associated with the same numeric keys across all columns, which will form the actual rows of the DataFrame.\\n\\nLet's reconstruct the DataFrame using this approach.\"), type='text'),\n",
       " MessageContentText(text=Text(annotations=[], value=\"It appears that the content of the JSON file may be nested incorrectly or the structure is more complex than anticipated. The DataFrame created from the JSON has many columns with numeric extensions and only one row of data. The normalization did not result in a clean DataFrame we can use directly for analysis. We'll attempt to inspect the JSON data more closely to understand its structure and identify how to properly convert it into a usable DataFrame. Let's take a closer look at the raw JSON data.\"), type='text'),\n",
       " MessageContentText(text=Text(annotations=[], value=\"It appears that the file may not be a standard CSV, or it contains JSON data based on the error output showing JSON structure. The column names and a part of the JSON structure are visible in the output. Let's try reading the file as JSON and then convert it into a DataFrame to work with it.\"), type='text'),\n",
       " MessageContentText(text=Text(annotations=[], value=\"Before we can calculate profit by quarter and year and visualize the data, we need to inspect the uploaded file to understand the structure and content of the data. Let's start by loading the data and take a quick look at the first few rows to get an idea of what we're working with.\"), type='text'),\n",
       " MessageContentText(text=Text(annotations=[], value='Calculate profit (revenue minus cost) by quarter and year, and visualize as a line plot across the distribution channels, where the colors of the lines are green, light red, and light blue'), type='text')]"
      ]
     },
     "execution_count": 9,
     "metadata": {},
     "output_type": "execute_result"
    }
   ],
   "source": [
    "messages = client.beta.threads.messages.list(thread_id=thread.id)\n",
    "[message.content[0] for message in messages.data]\n"
   ]
  },
  {
   "cell_type": "markdown",
   "metadata": {},
   "source": [
    "We can see that the last message (latest message is shown first) from the assistant contains the image file we are looking for.  We can write a quick helper function to convert our output file to a png"
   ]
  },
  {
   "cell_type": "code",
   "execution_count": 13,
   "metadata": {},
   "outputs": [],
   "source": [
    "def convert_file_to_png(file_id, write_path):\n",
    "    data = client.files.content(file_id)\n",
    "    data_bytes = data.read()\n",
    "    with open(write_path, \"wb\") as file:\n",
    "        file.write(data_bytes)\n"
   ]
  },
  {
   "cell_type": "code",
   "execution_count": 16,
   "metadata": {},
   "outputs": [],
   "source": [
    "plot_file_id = messages.data[0].content[0].image_file.file_id\n",
    "image_path = \"../images/NotRealCorp_chart.png\"\n",
    "convert_file_to_png(plot_file_id,image_path)\n",
    "\n",
    "#Upload\n",
    "plot_file = client.files.create(\n",
    "  file=open(image_path, \"rb\"),\n",
    "  purpose='assistants'\n",
    ")\n",
    "\n"
   ]
  },
  {
   "cell_type": "markdown",
   "metadata": {},
   "source": [
    "Let's load in the plot!"
   ]
  },
  {
   "cell_type": "markdown",
   "metadata": {},
   "source": [
    "![Financial data plot](../images/NotRealCorp_chart.png)"
   ]
  },
  {
   "cell_type": "markdown",
   "metadata": {},
   "source": [
    "Nice! So, with just one sentence, we were able to have our assistant use code interpreter to\n",
    "calculate the profitability, and graph the three lineplots of the various distribution channels.<br><br>\n",
    "Now we have a nice visual for our slide, but we want some insights to go along with it. Let's use GPT-Vision to help us generate those."
   ]
  },
  {
   "cell_type": "markdown",
   "metadata": {},
   "source": [
    "## 2. Generating insights"
   ]
  },
  {
   "cell_type": "markdown",
   "metadata": {},
   "source": [
    "To get insights from our image, we simply need to add a new message to our thread. Our Assistant will know to use GPT-Vision, and can give us some concise takeaways from the visual provided."
   ]
  },
  {
   "cell_type": "code",
   "execution_count": 15,
   "metadata": {},
   "outputs": [
    {
     "data": {
      "text/plain": [
       "Run(id='run_ZYc98irhdOZbduQsJQ9A1tHJ', assistant_id='asst_yjGxM3J9nrccJy8S40V0wgr8', cancelled_at=None, completed_at=None, created_at=1701805023, expires_at=1701805623, failed_at=None, file_ids=['file-pPIOhXgzBb0i3jskv2BZSLL9'], instructions='You are a data scientist assistant. When given data and a query, write the proper code and create the proper visualization', last_error=None, metadata={}, model='gpt-4-1106-preview', object='thread.run', required_action=None, started_at=None, status='queued', thread_id='thread_bWFhNOorgF64jvhVQERECdSz', tools=[ToolAssistantToolsCode(type='code_interpreter')])"
      ]
     },
     "execution_count": 15,
     "metadata": {},
     "output_type": "execute_result"
    }
   ],
   "source": [
    "submit_message(assistant.id,thread,\"Give me two medium length sentences (~20-30 words per sentence) of the \\\n",
    "      most important insights from the plot you just created.\\\n",
    "             These will be used for a slide deck, and they should be about the\\\n",
    "                     'so what' behind the data.\"\n",
    ")\n"
   ]
  },
  {
   "cell_type": "markdown",
   "metadata": {},
   "source": [
    "Now, once the run has completed, we can get the latest message"
   ]
  },
  {
   "cell_type": "code",
   "execution_count": 17,
   "metadata": {},
   "outputs": [
    {
     "name": "stdout",
     "output_type": "stream",
     "text": [
      "The line plot reveals that Online Sales consistently generates the highest profit across quarters, highlighting its effectiveness as a distribution channel. Direct Sales shows the least profit, indicating a potential area for strategic reassessment and improvement.\n"
     ]
    }
   ],
   "source": [
    "# Hard coded wait for a response, as the assistant may iterate on the bullets.\n",
    "time.sleep(10)\n",
    "response = get_response(thread)\n",
    "bullet_points = response.data[0].content[0].text.value\n",
    "print(bullet_points)\n"
   ]
  },
  {
   "cell_type": "markdown",
   "metadata": {},
   "source": [
    "Cool! Now we have some two insights to accompany our plot. Now let's get a compelling title for the slide."
   ]
  },
  {
   "cell_type": "code",
   "execution_count": 18,
   "metadata": {},
   "outputs": [
    {
     "data": {
      "text/plain": [
       "Run(id='run_5mxOWT6XgCNxz006DSAApacH', assistant_id='asst_yjGxM3J9nrccJy8S40V0wgr8', cancelled_at=None, completed_at=None, created_at=1701805214, expires_at=1701805814, failed_at=None, file_ids=['file-pPIOhXgzBb0i3jskv2BZSLL9'], instructions='You are a data scientist assistant. When given data and a query, write the proper code and create the proper visualization', last_error=None, metadata={}, model='gpt-4-1106-preview', object='thread.run', required_action=None, started_at=None, status='queued', thread_id='thread_bWFhNOorgF64jvhVQERECdSz', tools=[ToolAssistantToolsCode(type='code_interpreter')])"
      ]
     },
     "execution_count": 18,
     "metadata": {},
     "output_type": "execute_result"
    }
   ],
   "source": [
    "submit_message(assistant.id,thread,\"Given the plot and bullet points you created,\\\n",
    " come up with a very brief title for a slide. It should reflect just the main insights you came up with.\"\n",
    ")\n"
   ]
  },
  {
   "cell_type": "markdown",
   "metadata": {},
   "source": [
    "And the title is"
   ]
  },
  {
   "cell_type": "code",
   "execution_count": 19,
   "metadata": {},
   "outputs": [
    {
     "name": "stdout",
     "output_type": "stream",
     "text": [
      "\"Maximizing Profits: Online Sales Lead While Direct Sales Lag Behind\"\n"
     ]
    }
   ],
   "source": [
    "#Wait as assistant may take a few steps\n",
    "time.sleep(10)\n",
    "response = get_response(thread)\n",
    "title = response.data[0].content[0].text.value\n",
    "print(title)\n"
   ]
  },
  {
   "cell_type": "markdown",
   "metadata": {},
   "source": [
    "## 3. DALL-E3 title image"
   ]
  },
  {
   "cell_type": "markdown",
   "metadata": {},
   "source": [
    "Nice, now we have a title, a plot and two bullet points. We're almost ready to put this all on a slide, but as a final step, let's have DALL-E3 come up with an image to use as the title slide of the presentation. <br><br>\n",
    "*Note:* DALL-E3 is not yet available within the assistants API but is coming soon! <br> <br>\n",
    "We'll feed in a brief description of our company (NotRealCorp) and have DALL-E3 do the rest!"
   ]
  },
  {
   "cell_type": "code",
   "execution_count": 20,
   "metadata": {},
   "outputs": [],
   "source": [
    "company_summary = \"NotReal Corp is a prominent hardware company that manufactures and sells processors, graphics cards and other essential computer hardware.\"\n"
   ]
  },
  {
   "cell_type": "code",
   "execution_count": 21,
   "metadata": {},
   "outputs": [],
   "source": [
    "response = client.images.generate(\n",
    "  model='dall-e-3',\n",
    "  prompt=f\"given this company summary {company_summary}, create an inspirational \\\n",
    "    photo showing the growth and path forward. This will be used at a quarterly\\\n",
    "       financial planning meeting\",\n",
    "       size=\"1024x1024\",\n",
    "       quality=\"hd\",\n",
    "       n=1\n",
    ")\n",
    "image_url = response.data[0].url\n"
   ]
  },
  {
   "cell_type": "markdown",
   "metadata": {},
   "source": [
    "Cool, now we can add this image to our thread. First, we can save the image locally, then upload it to the assistants API using the `File` upload endpoint. Let's also take a look at our image"
   ]
  },
  {
   "cell_type": "code",
   "execution_count": 24,
   "metadata": {},
   "outputs": [],
   "source": [
    "dalle_img_path = '../images/dalle_image.png'\n",
    "img = requests.get(image_url)\n",
    "\n",
    "#Save locally\n",
    "with open(dalle_img_path,'wb') as file:\n",
    "  file.write(img.content)\n",
    "\n",
    "#Upload\n",
    "dalle_file = client.files.create(\n",
    "  file=open(dalle_img_path, \"rb\"),\n",
    "  purpose='assistants'\n",
    ")\n"
   ]
  },
  {
   "cell_type": "markdown",
   "metadata": {},
   "source": [
    "  \n",
    "![Image](../images/dalle_image.png)\n"
   ]
  },
  {
   "cell_type": "markdown",
   "metadata": {},
   "source": [
    "## 4. Creating the slides"
   ]
  },
  {
   "cell_type": "markdown",
   "metadata": {},
   "source": [
    "We now have all the content we need to create the slides. While we could simply add a message asking for slides, but let's instead give the assistant a slide template, using the `python-pptx` library, to use. This will ensure we get a deck in the style we want. See the `Extensions` section at the end of the notebook for notes on creating the template."
   ]
  },
  {
   "cell_type": "code",
   "execution_count": null,
   "metadata": {},
   "outputs": [],
   "source": [
    "title_template = \"\"\"\n",
    "from pptx import Presentation\n",
    "from pptx.util import Inches, Pt\n",
    "from pptx.enum.text import PP_PARAGRAPH_ALIGNMENT\n",
    "from pptx.dml.color import RGBColor\n",
    "\n",
    "# Create a new presentation object\n",
    "prs = Presentation()\n",
    "\n",
    "# Add a blank slide layout\n",
    "blank_slide_layout = prs.slide_layouts[6]\n",
    "slide = prs.slides.add_slide(blank_slide_layout)\n",
    "\n",
    "# Set the background color of the slide to black\n",
    "background = slide.background\n",
    "fill = background.fill\n",
    "fill.solid()\n",
    "fill.fore_color.rgb = RGBColor(0, 0, 0)\n",
    "\n",
    "# Add image to the left side of the slide with a margin at the top and bottom\n",
    "left = Inches(0)\n",
    "top = Inches(0)\n",
    "height = prs.slide_height\n",
    "width = prs.slide_width * 3/5\n",
    "pic = slide.shapes.add_picture(image_path, left, top, width=width, height=height)\n",
    "\n",
    "# Add title text box positioned higher\n",
    "left = prs.slide_width * 3/5\n",
    "top = Inches(2)\n",
    "width = prs.slide_width * 2/5\n",
    "height = Inches(1)\n",
    "title_box = slide.shapes.add_textbox(left, top, width, height)\n",
    "title_frame = title_box.text_frame\n",
    "title_p = title_frame.add_paragraph()\n",
    "title_p.text = title_text\n",
    "title_p.font.bold = True\n",
    "title_p.font.size = Pt(38)\n",
    "title_p.font.color.rgb = RGBColor(255, 255, 255)\n",
    "title_p.alignment = PP_PARAGRAPH_ALIGNMENT.CENTER\n",
    "\n",
    "# Add subtitle text box\n",
    "left = prs.slide_width * 3/5\n",
    "top = Inches(3)\n",
    "width = prs.slide_width * 2/5\n",
    "height = Inches(1)\n",
    "subtitle_box = slide.shapes.add_textbox(left, top, width, height)\n",
    "subtitle_frame = subtitle_box.text_frame\n",
    "subtitle_p = subtitle_frame.add_paragraph()\n",
    "subtitle_p.text = subtitle_text\n",
    "subtitle_p.font.size = Pt(22)\n",
    "subtitle_p.font.color.rgb = RGBColor(255, 255, 255)\n",
    "subtitle_p.alignment = PP_PARAGRAPH_ALIGNMENT.CENTER\n",
    "\"\"\"\n",
    "\n",
    "data_vis_template = \"\"\"\n",
    "from pptx import Presentation\n",
    "from pptx.util import Inches, Pt\n",
    "from pptx.enum.text import PP_PARAGRAPH_ALIGNMENT\n",
    "from pptx.dml.color import RGBColor\n",
    "\n",
    "# Create a new presentation object\n",
    "prs = Presentation()\n",
    "\n",
    "# Add a blank slide layout\n",
    "blank_slide_layout = prs.slide_layouts[6]\n",
    "slide = prs.slides.add_slide(blank_slide_layout)\n",
    "\n",
    "# Set the background color of the slide to black\n",
    "background = slide.background\n",
    "fill = background.fill\n",
    "fill.solid()\n",
    "fill.fore_color.rgb = RGBColor(0, 0, 0)\n",
    "\n",
    "# Define placeholders\n",
    "image_path = data_vis_img\n",
    "title_text = \"Maximizing Profits: The Dominance of Online Sales & Direct Sales Optimization\"\n",
    "bullet_points = \"• Online Sales consistently lead in profitability across quarters, indicating a strong digital market presence.\\n• Direct Sales show fluctuations, suggesting variable performance and the need for targeted improvements in that channel.\"\n",
    "\n",
    "# Add image placeholder on the left side of the slide\n",
    "left = Inches(0.2)\n",
    "top = Inches(1.8)\n",
    "height = prs.slide_height - Inches(3)\n",
    "width = prs.slide_width * 3/5\n",
    "pic = slide.shapes.add_picture(image_path, left, top, width=width, height=height)\n",
    "\n",
    "# Add title text spanning the whole width\n",
    "left = Inches(0)\n",
    "top = Inches(0)\n",
    "width = prs.slide_width\n",
    "height = Inches(1)\n",
    "title_box = slide.shapes.add_textbox(left, top, width, height)\n",
    "title_frame = title_box.text_frame\n",
    "title_frame.margin_top = Inches(0.1)\n",
    "title_p = title_frame.add_paragraph()\n",
    "title_p.text = title_text\n",
    "title_p.font.bold = True\n",
    "title_p.font.size = Pt(28)\n",
    "title_p.font.color.rgb = RGBColor(255, 255, 255)\n",
    "title_p.alignment = PP_PARAGRAPH_ALIGNMENT.CENTER\n",
    "\n",
    "# Add hardcoded \"Key Insights\" text and bullet points\n",
    "left = prs.slide_width * 2/3\n",
    "top = Inches(1.5)\n",
    "width = prs.slide_width * 1/3\n",
    "height = Inches(4.5)\n",
    "insights_box = slide.shapes.add_textbox(left, top, width, height)\n",
    "insights_frame = insights_box.text_frame\n",
    "insights_p = insights_frame.add_paragraph()\n",
    "insights_p.text = \"Key Insights:\"\n",
    "insights_p.font.bold = True\n",
    "insights_p.font.size = Pt(24)\n",
    "insights_p.font.color.rgb = RGBColor(0, 128, 100)\n",
    "insights_p.alignment = PP_PARAGRAPH_ALIGNMENT.LEFT\n",
    "insights_frame.add_paragraph()\n",
    "\n",
    "\n",
    "bullet_p = insights_frame.add_paragraph()\n",
    "bullet_p.text = bullet_points\n",
    "bullet_p.font.size = Pt(12)\n",
    "bullet_p.font.color.rgb = RGBColor(255, 255, 255)\n",
    "bullet_p.line_spacing = 1.5\n",
    "\"\"\"\n",
    "\n"
   ]
  },
  {
   "cell_type": "markdown",
   "metadata": {},
   "source": [
    "Let's set a few quick variables for our slides. We want the company name, NotRealCorp, to be on the title slide, and the title of the presentation should 'Quartlerly financial planning metting, Q3, 2023'."
   ]
  },
  {
   "cell_type": "code",
   "execution_count": null,
   "metadata": {},
   "outputs": [],
   "source": [
    "title_text = \"NotRealCorp\"\n",
    "subtitle_text = \"Quarterly financial planning meeting, Q3 2023\"\n"
   ]
  },
  {
   "cell_type": "markdown",
   "metadata": {},
   "source": [
    "Now we can have our assistant create the slide. The assistant will automatically pull the bullet points and titles it made earlier into the slides. Just for "
   ]
  },
  {
   "cell_type": "markdown",
   "metadata": {},
   "source": [
    "Now, we have a PPTX file saved with all of our created content!. <br>\n",
    "We don't have a `seed` parameter yet in the Assistants API, so the DALL-E3 image and wordings will be slightly different from what you see when you run this notebook, due to the non-deterministic quality of LLMs, but the outputs should be directionally the same."
   ]
  },
  {
   "cell_type": "markdown",
   "metadata": {},
   "source": [
    "Let's look at the screenshots of the .pptx we just created using JUST the assistants API and DALL-E3, we have the following:"
   ]
  },
  {
   "cell_type": "markdown",
   "metadata": {},
   "source": [
    "And for the data slide, we have:"
   ]
  },
  {
   "cell_type": "markdown",
   "metadata": {},
   "source": [
    "Woo! While these slides could use some small formatting tweaks, we have made some great content, using just the Assistants API, GPT-4, GPT-Vision, and DALL-E3. Hopefully this helps make the slide creation process a bit easier, and provides a glimpse into how helpful the Assistants API can be!"
   ]
  },
  {
   "cell_type": "markdown",
   "metadata": {},
   "source": [
    "Here we have a template to create a Title Slide. The template below was created by uploading the image of a desirable title slide to GPT-V, and asking for the `python-pptx` code to create that template. The inputs to the template are the image_path, title_text, and subtitle_text."
   ]
  },
  {
   "cell_type": "code",
   "execution_count": null,
   "metadata": {},
   "outputs": [],
   "source": [
    "submit_message(assistant.id,thread,f\"Use the included code template to create a PPTX slide that follows the template format, but uses the image, company name/title, and document name/subtitle included:\\\n",
    "{title_template}. IMPORTANT: Use the image file included in this message as the image_path image in this first slide, and use the Company Name {title_text} as the title_text variable, and \\\n",
    "  use the subtitle_text {subtitle_text} a the subtitle_text variable. \\\n",
    "    NEST, create a SECOND slide using the following code template: {data_vis_template} to create a PPTX slide that follows the template format, but uses the company name/title, and document name/subtitle included:\\\n",
    "{data_vis_template}. IMPORTANT: Use the line plot image, that is the second attached image in this message, that you created earlier in the thread as the data_vis_img image, and use the data visualization title that you created earlier for the variable title_text, and\\\n",
    "  the bullet points of insights you created earlier for the bullet_points variable. Output these TWO SLIDES as a .pptx file. Make sure the output is two slides, with each slide matching the respective template given in this message.\",\n",
    "              file_ids=[dalle_file.id, plot_file.id]\n",
    ")\n"
   ]
  },
  {
   "cell_type": "code",
   "execution_count": null,
   "metadata": {},
   "outputs": [],
   "source": [
    "#May take 1-3 mins\n",
    "while True:\n",
    "    try:\n",
    "        response = get_response(thread)\n",
    "        pptx_id = response.data[0].content[0].text.annotations[0].file_path.file_id\n",
    "        print(\"Successfully retrieved pptx_id:\", pptx_id)  # Add this line\n",
    "        break\n",
    "    except Exception as e:  # Catch the exception and print it\n",
    "        print(\"Assistant still working on PPTX...\")\n",
    "        time.sleep(10)\n"
   ]
  },
  {
   "cell_type": "code",
   "execution_count": null,
   "metadata": {},
   "outputs": [],
   "source": [
    "pptx_id = response.data[0].content[0].text.annotations[0].file_path.file_id\n",
    "ppt_file= client.files.content(pptx_id)\n",
    "file_obj = io.BytesIO(ppt_file.read())\n",
    "with open(\"data/created_slides.pptx\", \"wb\") as f:\n",
    "    f.write(file_obj.getbuffer())\n"
   ]
  },
  {
   "cell_type": "code",
   "execution_count": null,
   "metadata": {},
   "outputs": [],
   "source": [
    "![Title slide](data/title_slide.png)\n"
   ]
  },
  {
   "cell_type": "code",
   "execution_count": null,
   "metadata": {},
   "outputs": [],
   "source": [
    "![Data slide](data/data_viz_slide.png)\n"
   ]
  }
 ],
 "metadata": {
  "kernelspec": {
   "display_name": "openai",
   "language": "python",
   "name": "python3"
  },
  "language_info": {
   "codemirror_mode": {
    "name": "ipython",
    "version": 3
   },
   "file_extension": ".py",
   "mimetype": "text/x-python",
   "name": "python",
   "nbconvert_exporter": "python",
   "pygments_lexer": "ipython3",
   "version": "3.9.16"
  }
 },
 "nbformat": 4,
 "nbformat_minor": 2
}
