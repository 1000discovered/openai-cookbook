openapi: 3.1.0
info:
  title: Canvas LMS API
  description: >
    This is the API of the Canvas LMS, providing access to various resources such as accounts, courses, users,
    assignments, quizzes, files, and more.
  version: 1.0.0
servers:
  - url: https://canvas.instructure.com
    description: Canvas LMS Production Server
paths:
  /api/v1/accounts:
    get:
      summary: List accounts
      operationId: listAccounts
      responses:
        "200":
          description: A paginated list of accounts
          content:
            application/json:
              schema:
                type: array
                items:
                  $ref: "#/components/schemas/Account"
  /api/v1/accounts/{account_id}:
    get:
      summary: Get a single account
      operationId: getAccount
      parameters:
        - name: account_id
          in: path
          required: true
          schema:
            type: integer
      responses:
        "200":
          description: Account details
          content:
            application/json:
              schema:
                $ref: "#/components/schemas/Account"
  /api/v1/courses:
    get:
      summary: List courses
      operationId: listCourses
      responses:
        "200":
          description: A paginated list of courses
          content:
            application/json:
              schema:
                type: array
                items:
                  $ref: "#/components/schemas/Course"
  /api/v1/courses/{course_id}:
    get:
      summary: Get a single course
      operationId: getCourse
      parameters:
        - name: course_id
          in: path
          required: true
          schema:
            type: integer
      responses:
        "200":
          description: Course details
          content:
            application/json:
              schema:
                $ref: "#/components/schemas/Course"
  /api/v1/courses/{course_id}/assignments:
    get:
      summary: List assignments
      operationId: listAssignments
      parameters:
        - name: course_id
          in: path
          required: true
          schema:
            type: integer
      responses:
        "200":
          description: A paginated list of assignments
          content:
            application/json:
              schema:
                type: array
                items:
                  $ref: "#/components/schemas/Assignment"
  /api/v1/courses/{course_id}/assignments/{assignment_id}:
    get:
      summary: Get a single assignment
      operationId: getAssignment
      parameters:
        - name: course_id
          in: path
          required: true
          schema:
            type: integer
        - name: assignment_id
          in: path
          required: true
          schema:
            type: integer
      responses:
        "200":
          description: Assignment details
          content:
            application/json:
              schema:
                $ref: "#/components/schemas/Assignment"
  /api/v1/courses/{course_id}/quizzes:
    get:
      summary: List quizzes
      operationId: listQuizzes
      parameters:
        - name: course_id
          in: path
          required: true
          schema:
            type: integer
      responses:
        "200":
          description: A paginated list of quizzes
          content:
            application/json:
              schema:
                type: array
                items:
                  $ref: "#/components/schemas/Quiz"
  /api/v1/courses/{course_id}/quizzes/{quiz_id}:
    get:
      summary: Get a single quiz
      operationId: getQuiz
      parameters:
        - name: course_id
          in: path
          required: true
          schema:
            type: integer
        - name: quiz_id
          in: path
          required: true
          schema:
            type: integer
      responses:
        "200":
          description: Quiz details
          content:
            application/json:
              schema:
                $ref: "#/components/schemas/Quiz"
  /api/v1/courses/{course_id}/students/{student_id}/grades:
     get:
       summary: List grades for a student
       operationId: listGrades
       parameters:
         - name: course_id
           in: path
           required: true
           schema:
             type: integer
         - name: student_id
           in: path
           required: true
           schema:
             type: integer
       responses:
         '200':
           description: A list of grades for the student
           content:
             application/json:
               schema:
                 type: array
                 items:
                   $ref: '#/components/schemas/Grade'
  /api/v1/courses/{course_id}/students/{student_id}/grades/{grade_id}:
    get:
      summary: Get a single grade
      operationId: getGrade
      parameters:
        - name: course_id
          in: path
          required: true
          schema:
            type: integer
        - name: student_id
          in: path
          required: true
          schema:
            type: integer
        - name: grade_id
          in: path
          required: true
          schema:
            type: integer
      responses:
        '200':
          description: Grade details
          content:
            application/json:
              schema:
                $ref: '#/components/schemas/Grade'
  /api/v1/courses/{course_id}/syllabus:
    get:
      summary: Get course syllabus
      operationId: getSyllabus
      parameters:
        - name: course_id
          in: path
          required: true
          schema:
            type: integer
      responses:
        '200':
          description: Syllabus details
          content:
            application/json:
              schema:
                $ref: '#/components/schemas/Syllabus'
  /api/v1/courses/{course_id}/modules:
    get:
      summary: List modules
      operationId: listModules
      parameters:
        - name: course_id
          in: path
          required: true
          schema:
            type: integer
      responses:
        '200':
          description: A list of modules in the course
          content:
            application/json:
              schema:
                type: array
                items:
                  $ref: '#/components/schemas/Module'
  /api/v1/courses/{course_id}/modules/{module_id}:
    get:
      summary: Get a single module
      operationId: getModule
      parameters:
        - name: course_id
          in: path
          required: true
          schema:
            type: integer
        - name: module_id
          in: path
          required: true
          schema:
            type: integer
      responses:
        '200':
          description: Module details
          content:
            application/json:
              schema:
                $ref: '#/components/schemas/Module'
components:
  schemas:
    Account:
      type: object
      properties:
        id:
          type: integer
        name:
          type: string
        workflow_state:
          type: string
    Course:
      type: object
      properties:
        id:
          type: integer
        name:
          type: string
        account_id:
          type: integer
        start_at:
          type: string
          format: date-time
        end_at:
          type: string
          format: date-time
    Assignment:
      type: object
      properties:
        id:
          type: integer
        name:
          type: string
        description:
          type: string
        due_at:
          type: string
          format: date-time
        points_possible:
          type: number
    Quiz:
      type: object
      properties:
        id:
          type: integer
        title:
          type: string
        description:
          type: string
        due_at:
          type: string
          format: date-time
        points_possible:
          type: number
    Grade:
      type: object
      properties:
        id:
          type: integer
        student_id:
          type: integer
        course_id:
          type: integer
        assignment_id:
          type: integer
        score:
          type: number
        grade:
          type: string
    Syllabus:
      type: object
      properties:
        id:
          type: integer
        name:
          type: string
        account_id:
          type: integer
        start_at:
          type: string
          format: date-time
        end_at:
          type: string
          format: date-time
        syllabus_body:
          type: string
        syllabus_url:
          type: string
    Module:
     type: object
     properties:
       id:
         type: integer
       name:
         type: string
       position:
         type: integer
       unlock_at:
         type: string
         format: date-time
       require_sequential_progress:
         type: boolean
       state:
         type: string
  securitySchemes:
    bearerAuth:
      type: http
      scheme: bearer
      bearerFormat: JWT
security:
  - bearerAuth: []
