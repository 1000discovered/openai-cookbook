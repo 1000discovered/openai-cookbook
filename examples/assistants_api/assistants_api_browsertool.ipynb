{
 "cells": [
  {
   "metadata": {},
   "cell_type": "markdown",
   "source": "#### Use Assistants API Browser tool to retrieve and summarize web search results with annotations   ",
   "id": "52503a21880a4e2f"
  },
  {
   "metadata": {},
   "cell_type": "markdown",
   "source": [
    "**[Note: Assistants Browser tool is in private alpha at present, this cookbook is to be published when it is offered as public beta.]**\n",
    "\n",
    "OpenAI's Assistants API allows developers to integrate AI-powered assistants into their applications. These assistants can perform a wide range of tasks, such as answering questions, generating text, translating languages, and more. Assistants API also provides developers access to built in tools such as File Search and Code Interpreter.  \n",
    "\n",
    "Focus of this cookbook is to walk through the usage of the new Browser tool that allows developers to search, retrieve and summarize web content given an input prompt. Browser tool extends the capability of "
   ],
   "id": "3e33daa1b7e0fad7"
  },
  {
   "metadata": {},
   "cell_type": "markdown",
   "source": [
    "##### Step 1: Setup an assistant with the browser tool\n",
    "You can learn more about setting up and invoking assistants https://platform.openai.com/docs/assistants/overview. In summary, you need to create an assistant, create a thread, add message to the thread, and invoke run function on the given thread and assistant id.   "
   ],
   "id": "9bef15ed0b7e5850"
  },
  {
   "metadata": {
    "ExecuteTime": {
     "end_time": "2024-07-09T18:31:44.820596Z",
     "start_time": "2024-07-09T18:31:44.542769Z"
    }
   },
   "cell_type": "code",
   "source": [
    "from openai import OpenAI\n",
    "\n",
    "# Model for assistant \n",
    "model = \"gpt-4o\"\n",
    "\n",
    "# Definition of the browser tool \n",
    "BROWSER_TOOL = [\n",
    "    {\n",
    "        \"type\": \"browser\",\n",
    "        \"browser\": {\n",
    "            \"locale\": \"en-US\"\n",
    "        }\n",
    "    }\n",
    "]\n",
    "\n",
    "# System prompts \n",
    "system_prompt = \"Conduct a thorough search on the topic provided by the user and output your findings. Provide more detailed text of each citation.\"\n",
    "\n",
    "# Create a client \n",
    "client = OpenAI()\n",
    "\n",
    "# Create an assistant \n",
    "assistant = client.beta.assistants.create(\n",
    "            name=\"INTERNET SEARCH ASSISTANT\",\n",
    "            instructions=system_prompt,\n",
    "            model=model,\n",
    "            tools=BROWSER_TOOL\n",
    "        )"
   ],
   "id": "25b9e053dbb18beb",
   "outputs": [],
   "execution_count": 118
  },
  {
   "metadata": {},
   "cell_type": "markdown",
   "source": [
    "##### Step 2: Invoke the assistant with a user message\n",
    "In the step below, we'll create a thread, create and append message to the thread, and invoke run to execute assistant on the given thread (without streaming).  "
   ],
   "id": "9aea7b73682608d0"
  },
  {
   "metadata": {
    "ExecuteTime": {
     "end_time": "2024-07-09T18:31:55.494710Z",
     "start_time": "2024-07-09T18:31:46.821644Z"
    }
   },
   "cell_type": "code",
   "source": [
    "user_message = \"Housing market in the US in the next two years 2025 and 2026\"\n",
    "\n",
    "# Create a thread of conversation \n",
    "thread = client.beta.threads.create()\n",
    "\n",
    "# Create a message on the thread \n",
    "messages = client.beta.threads.messages.create(\n",
    "            thread_id=thread.id,\n",
    "            role=\"user\",\n",
    "            content=user_message\n",
    "        )\n",
    "\n",
    "# Run the assistant with given thread \n",
    "run = client.beta.threads.runs.create_and_poll(\n",
    "            thread_id=thread.id,\n",
    "            assistant_id=assistant.id,\n",
    "            temperature=1,\n",
    "            top_p=1\n",
    "        )"
   ],
   "id": "c13a2f096a71923a",
   "outputs": [],
   "execution_count": 119
  },
  {
   "metadata": {},
   "cell_type": "markdown",
   "source": [
    "##### Step 3: Retrieve the message text value and annotations \n",
    "The Browser tool will return a response from the LLM that summarizes a variety of sources on the topic, with annotations. You can retrieve the message and annotations as outlined below"
   ],
   "id": "4662c96cc63bced1"
  },
  {
   "metadata": {
    "ExecuteTime": {
     "end_time": "2024-07-09T18:31:58.678254Z",
     "start_time": "2024-07-09T18:31:58.543435Z"
    }
   },
   "cell_type": "code",
   "source": [
    "# get the message back from the run \n",
    "message = client.beta.threads.messages.list(\n",
    "            thread_id=thread.id,\n",
    "            after=messages.id,\n",
    "            order=\"asc\"\n",
    "        )\n",
    "\n",
    "message_content = message.data[0].content[0].text.value \n",
    "\n",
    "print(message_content)"
   ],
   "id": "cf08f8dca2c230a5",
   "outputs": [
    {
     "name": "stdout",
     "output_type": "stream",
     "text": [
      "The US housing market over the next two years (2025 and 2026) is expected to see modest growth, driven by a combination of demand from demographic trends and easing monetary policy, but tempered by ongoing affordability concerns.\n",
      "\n",
      "### Home Price Projections\n",
      "\n",
      "**Goldman Sachs** predicts a robust rebound in home prices, with growth rates of 3.8% for 2025 and 4.9% for 2026【7†source】. This outlook is supported by expectations of steady demand and a slight increase in housing supply. **Moody's**, in contrast, is more conservative, forecasting a slower growth rate of 0.3% in 2025 and 0.9% in 2026. They cite increasing housing supply from demographic changes and slightly lower mortgage rates as factors that will moderate price gains【5†source】.\n",
      "\n",
      "### Factors Influencing the Market\n",
      "\n",
      "The market dynamics will be influenced by several key factors:\n",
      "1. **Demographic Trends**: The influx of Millennials and Generation Z entering prime home-buying years is expected to sustain demand. Additionally, new job creation and immigration will contribute to the need for more housing【6†source】【8†source】.\n",
      "2. **Monetary Policy and Interest Rates**: Easing inflation and potentially lower interest rates could make borrowing more affordable, thereby supporting housing demand. However, high rates in the near term may keep some buyers sidelined【6†source】【7†source】.\n",
      "3. **Supply and Affordability**: A gradual increase in housing supply is anticipated as more homeowners sell due to easing conditions and demographic factors (e.g., life events). However, affordability will remain a significant issue, particularly if wages do not keep pace with home prices and interest rates remain relatively high【5†source】【8†source】.\n",
      "\n",
      "### Market Activity and Sales\n",
      "\n",
      "**Goldman Sachs** expects that new home sales and existing home sales will see steady improvements, driven by a balance of supply and persistent demand【7†source】. **Bank of America** also forecasts continued price increases in 2025 but anticipates a slight dip in 2026 as the effects of the pandemic-driven demand surge wane【8†source】. This dip could potentially bring some relief to the affordability constraints currently hindering the market.\n",
      "\n",
      "### Consumer Sentiment\n",
      "\n",
      "Consumer optimism around decreasing mortgage rates is rising, which could further boost the housing market. An increase in positive sentiment about future rate declines might encourage more potential buyers to enter the market, supporting higher sales volumes【6†source】.\n",
      "\n",
      "### Challenges\n",
      "\n",
      "The key challenge remains affordability. Stalled wage growth relative to home prices and higher short-term interest rates mean that many potential buyers are adopting a \"wait and see\" approach, hoping for a market correction before making a purchase【8†source】. This cautious behavior could lead to prolonged periods of lower market activity and inventory turnover.\n",
      "\n",
      "In summary, the US housing market in 2025 and 2026 is expected to experience modest price growth with positive underlying demand factors but will continue to grapple with affordability issues and the balancing act of supply and demand adjustments.\n"
     ]
    }
   ],
   "execution_count": 120
  },
  {
   "metadata": {},
   "cell_type": "markdown",
   "source": [
    "The citations to the URLs retrieved by the API are stored in the `FileCitationAnnotation` object storied as list of annotations. This object includes fields that specify the annotation text appearing in the `message_content` variable, such as `text='【7†source】'`, the position of the annotation in the text (`start_index=371` to `end_index=381`), and the corresponding best-matching URL for the source ` `. For example, the URL citation for the first record in the list is:\n",
    "```json\n",
    "url_citation = {\n",
    "    'url': 'https://www.noradarealestate.com/blog/goldman-sachs-housing-market-forecast/',\n",
    "    'title': \"Goldman Sachs' 5-Year Housing Forecast from 2024 to 2027\"\n",
    "}\n",
    "```"
   ],
   "id": "3363b601c60c56d7"
  },
  {
   "metadata": {
    "ExecuteTime": {
     "end_time": "2024-07-09T18:32:18.977647Z",
     "start_time": "2024-07-09T18:32:18.975035Z"
    }
   },
   "cell_type": "code",
   "source": [
    "annotations = message.data[0].content[0].text.annotations\n",
    "\n",
    "print(annotations)"
   ],
   "id": "55f67e40579beb3a",
   "outputs": [
    {
     "name": "stdout",
     "output_type": "stream",
     "text": [
      "[FileCitationAnnotation(end_index=381, file_citation=None, start_index=371, text='【7†source】', type='url_citation', url_citation={'url': 'https://www.noradarealestate.com/blog/goldman-sachs-housing-market-forecast/', 'title': \"Goldman Sachs' 5-Year Housing Forecast from 2024 to 2027\"}), FileCitationAnnotation(end_index=744, file_citation=None, start_index=734, text='【5†source】', type='url_citation', url_citation={'url': 'https://www.fastcompany.com/91140840/housing-market-home-price-outlook-2024-2025-2026-2027', 'title': \"Where will U.S. home prices go through 2027? Goldman Sachs Vs. Moody's\\xa0forecasts - Fast Company\"}), FileCitationAnnotation(end_index=1081, file_citation=None, start_index=1071, text='【6†source】', type='url_citation', url_citation={'url': 'https://gordcollins.com/real-estate/real-estate-forecast-next-5-years/', 'title': 'Housing Market Forecast 2024 2025 | Predictions for Next 5 Years'}), FileCitationAnnotation(end_index=1091, file_citation=None, start_index=1081, text='【8†source】', type='url_citation', url_citation={'url': 'https://www.noradarealestate.com/blog/housing-market-predictions-2026-economists-weigh-in/', 'title': 'Housing Market Predictions 2026: Economists Weigh In'}), FileCitationAnnotation(end_index=1340, file_citation=None, start_index=1330, text='【6†source】', type='url_citation', url_citation={'url': 'https://gordcollins.com/real-estate/real-estate-forecast-next-5-years/', 'title': 'Housing Market Forecast 2024 2025 | Predictions for Next 5 Years'}), FileCitationAnnotation(end_index=1350, file_citation=None, start_index=1340, text='【7†source】', type='url_citation', url_citation={'url': 'https://www.noradarealestate.com/blog/goldman-sachs-housing-market-forecast/', 'title': \"Goldman Sachs' 5-Year Housing Forecast from 2024 to 2027\"}), FileCitationAnnotation(end_index=1694, file_citation=None, start_index=1684, text='【5†source】', type='url_citation', url_citation={'url': 'https://www.fastcompany.com/91140840/housing-market-home-price-outlook-2024-2025-2026-2027', 'title': \"Where will U.S. home prices go through 2027? Goldman Sachs Vs. Moody's\\xa0forecasts - Fast Company\"}), FileCitationAnnotation(end_index=1704, file_citation=None, start_index=1694, text='【8†source】', type='url_citation', url_citation={'url': 'https://www.noradarealestate.com/blog/housing-market-predictions-2026-economists-weigh-in/', 'title': 'Housing Market Predictions 2026: Economists Weigh In'}), FileCitationAnnotation(end_index=1899, file_citation=None, start_index=1889, text='【7†source】', type='url_citation', url_citation={'url': 'https://www.noradarealestate.com/blog/goldman-sachs-housing-market-forecast/', 'title': \"Goldman Sachs' 5-Year Housing Forecast from 2024 to 2027\"}), FileCitationAnnotation(end_index=2072, file_citation=None, start_index=2062, text='【8†source】', type='url_citation', url_citation={'url': 'https://www.noradarealestate.com/blog/housing-market-predictions-2026-economists-weigh-in/', 'title': 'Housing Market Predictions 2026: Economists Weigh In'}), FileCitationAnnotation(end_index=2478, file_citation=None, start_index=2468, text='【6†source】', type='url_citation', url_citation={'url': 'https://gordcollins.com/real-estate/real-estate-forecast-next-5-years/', 'title': 'Housing Market Forecast 2024 2025 | Predictions for Next 5 Years'}), FileCitationAnnotation(end_index=2756, file_citation=None, start_index=2746, text='【8†source】', type='url_citation', url_citation={'url': 'https://www.noradarealestate.com/blog/housing-market-predictions-2026-economists-weigh-in/', 'title': 'Housing Market Predictions 2026: Economists Weigh In'})]\n"
     ]
    }
   ],
   "execution_count": 121
  },
  {
   "metadata": {},
   "cell_type": "markdown",
   "source": [
    "### Step 4: Post-Processing\n",
    "\n",
    "After retrieving the message containing the text and its annotations, you can process this information based on your application's requirements using the data in the `Annotations`. Below are two examples to illustrate this.\n",
    "\n",
    "**Example 1: Adding Annotations to the Text**\n",
    "\n",
    "The annotations referenced in the text value returned by the Browser tool (stored in the `message_content` variable) do not include the actual URLs of the web pages. \n",
    "\n",
    "The following `add_annotations_to_text` function takes a string `message_content` and a list of `annotations`. Each annotation contains information about a portion of the text that needs to be replaced with a URL. The function processes these annotations to replace the specified parts of the message_content with corresponding URLs."
   ],
   "id": "84520c60140fef0d"
  },
  {
   "metadata": {
    "ExecuteTime": {
     "end_time": "2024-07-09T18:32:21.546235Z",
     "start_time": "2024-07-09T18:32:21.541855Z"
    }
   },
   "cell_type": "code",
   "source": [
    "def add_annotations_to_text(message_content, annotations):\n",
    "    \"\"\"\n",
    "    Replaces source text in message_content with URLs from annotations.\n",
    "\n",
    "    :param message_content: str, the original text with annotations\n",
    "    :param annotations: list, list of annotation dictionaries with replacement information\n",
    "    :return: str, the modified message content with URLs\n",
    "    \"\"\"\n",
    "    # Sort annotations by start_index in descending order to avoid index shifting issues during replacement\n",
    "    \n",
    "    annotations = sorted(annotations, key=lambda x: x.start_index, reverse=True)\n",
    "    \n",
    "    for annotation in annotations:\n",
    "        start_index = annotation.start_index\n",
    "        end_index = annotation.end_index\n",
    "        url = annotation.url_citation['url']\n",
    "        title = annotation.url_citation['title']\n",
    "        \n",
    "        # Construct the replacement text\n",
    "        replacement_text = f'[{title}]({url})'\n",
    "        \n",
    "        # Replace the text in message_content\n",
    "        message_content = message_content[:start_index] + replacement_text + message_content[end_index:]\n",
    "    \n",
    "    return message_content\n",
    "\n",
    "# Invoke the function to update the annotations within the text \n",
    "annotated_message_content = add_annotations_to_text(message_content, annotations)\n",
    "\n",
    "print(annotated_message_content)"
   ],
   "id": "dd3d55d9a416abc",
   "outputs": [
    {
     "name": "stdout",
     "output_type": "stream",
     "text": [
      "The US housing market over the next two years (2025 and 2026) is expected to see modest growth, driven by a combination of demand from demographic trends and easing monetary policy, but tempered by ongoing affordability concerns.\n",
      "\n",
      "### Home Price Projections\n",
      "\n",
      "**Goldman Sachs** predicts a robust rebound in home prices, with growth rates of 3.8% for 2025 and 4.9% for 2026[Goldman Sachs' 5-Year Housing Forecast from 2024 to 2027](https://www.noradarealestate.com/blog/goldman-sachs-housing-market-forecast/). This outlook is supported by expectations of steady demand and a slight increase in housing supply. **Moody's**, in contrast, is more conservative, forecasting a slower growth rate of 0.3% in 2025 and 0.9% in 2026. They cite increasing housing supply from demographic changes and slightly lower mortgage rates as factors that will moderate price gains[Where will U.S. home prices go through 2027? Goldman Sachs Vs. Moody's forecasts - Fast Company](https://www.fastcompany.com/91140840/housing-market-home-price-outlook-2024-2025-2026-2027).\n",
      "\n",
      "### Factors Influencing the Market\n",
      "\n",
      "The market dynamics will be influenced by several key factors:\n",
      "1. **Demographic Trends**: The influx of Millennials and Generation Z entering prime home-buying years is expected to sustain demand. Additionally, new job creation and immigration will contribute to the need for more housing[Housing Market Forecast 2024 2025 | Predictions for Next 5 Years](https://gordcollins.com/real-estate/real-estate-forecast-next-5-years/)[Housing Market Predictions 2026: Economists Weigh In](https://www.noradarealestate.com/blog/housing-market-predictions-2026-economists-weigh-in/).\n",
      "2. **Monetary Policy and Interest Rates**: Easing inflation and potentially lower interest rates could make borrowing more affordable, thereby supporting housing demand. However, high rates in the near term may keep some buyers sidelined[Housing Market Forecast 2024 2025 | Predictions for Next 5 Years](https://gordcollins.com/real-estate/real-estate-forecast-next-5-years/)[Goldman Sachs' 5-Year Housing Forecast from 2024 to 2027](https://www.noradarealestate.com/blog/goldman-sachs-housing-market-forecast/).\n",
      "3. **Supply and Affordability**: A gradual increase in housing supply is anticipated as more homeowners sell due to easing conditions and demographic factors (e.g., life events). However, affordability will remain a significant issue, particularly if wages do not keep pace with home prices and interest rates remain relatively high[Where will U.S. home prices go through 2027? Goldman Sachs Vs. Moody's forecasts - Fast Company](https://www.fastcompany.com/91140840/housing-market-home-price-outlook-2024-2025-2026-2027)[Housing Market Predictions 2026: Economists Weigh In](https://www.noradarealestate.com/blog/housing-market-predictions-2026-economists-weigh-in/).\n",
      "\n",
      "### Market Activity and Sales\n",
      "\n",
      "**Goldman Sachs** expects that new home sales and existing home sales will see steady improvements, driven by a balance of supply and persistent demand[Goldman Sachs' 5-Year Housing Forecast from 2024 to 2027](https://www.noradarealestate.com/blog/goldman-sachs-housing-market-forecast/). **Bank of America** also forecasts continued price increases in 2025 but anticipates a slight dip in 2026 as the effects of the pandemic-driven demand surge wane[Housing Market Predictions 2026: Economists Weigh In](https://www.noradarealestate.com/blog/housing-market-predictions-2026-economists-weigh-in/). This dip could potentially bring some relief to the affordability constraints currently hindering the market.\n",
      "\n",
      "### Consumer Sentiment\n",
      "\n",
      "Consumer optimism around decreasing mortgage rates is rising, which could further boost the housing market. An increase in positive sentiment about future rate declines might encourage more potential buyers to enter the market, supporting higher sales volumes[Housing Market Forecast 2024 2025 | Predictions for Next 5 Years](https://gordcollins.com/real-estate/real-estate-forecast-next-5-years/).\n",
      "\n",
      "### Challenges\n",
      "\n",
      "The key challenge remains affordability. Stalled wage growth relative to home prices and higher short-term interest rates mean that many potential buyers are adopting a \"wait and see\" approach, hoping for a market correction before making a purchase[Housing Market Predictions 2026: Economists Weigh In](https://www.noradarealestate.com/blog/housing-market-predictions-2026-economists-weigh-in/). This cautious behavior could lead to prolonged periods of lower market activity and inventory turnover.\n",
      "\n",
      "In summary, the US housing market in 2025 and 2026 is expected to experience modest price growth with positive underlying demand factors but will continue to grapple with affordability issues and the balancing act of supply and demand adjustments.\n"
     ]
    }
   ],
   "execution_count": 122
  },
  {
   "metadata": {},
   "cell_type": "markdown",
   "source": [
    "**Example 2: Retrieve and format the results as a reference JSON**\n",
    "\n",
    "This example formats the text output in `message_content` using list of `annotations` generate a JSON List of web pages retrieved during the search in format: Title, Summary, and URL.  "
   ],
   "id": "9cfbdcf9743b642c"
  },
  {
   "metadata": {
    "ExecuteTime": {
     "end_time": "2024-07-09T18:32:27.471255Z",
     "start_time": "2024-07-09T18:32:27.467818Z"
    }
   },
   "cell_type": "code",
   "source": [
    "import json\n",
    "\n",
    "def chunk_document(message_content, annotations):\n",
    "    \"\"\"\n",
    "    Chunks the document into a JSON format based on annotations.\n",
    "\n",
    "    :param message_content: str, the original text with annotations\n",
    "    :param annotations: list, list of FileCitationAnnotation objects with replacement information\n",
    "    :return: list, chunked document in JSON format\n",
    "    \"\"\"\n",
    "    # Sort annotations by start_index\n",
    "    annotations = sorted(annotations, key=lambda x: x.start_index)\n",
    "    \n",
    "    chunks = []\n",
    "    previous_end_index = 0\n",
    "\n",
    "    for annotation in annotations:\n",
    "        start_index = annotation.start_index\n",
    "        end_index = annotation.end_index\n",
    "        url = annotation.url_citation['url']\n",
    "        title = annotation.url_citation['title']\n",
    "        \n",
    "        summary = message_content[previous_end_index:start_index].strip()\n",
    "        \n",
    "        # Post-processing for the annotations to get to the right format\n",
    "        summary = summary.replace('\\n','').replace('#','').replace(\"*\",'').lstrip(\".\").lstrip(\"-\").strip()    \n",
    "\n",
    "        # Remove the link that don't have a summary\n",
    "        if not summary == \"\": \n",
    "            # Create a chunk\n",
    "            chunk = {\n",
    "                \"title\": title,\n",
    "                \"Summary\": summary,\n",
    "                \"URL\": url\n",
    "            }\n",
    "            chunks.append(chunk)\n",
    "        previous_end_index = end_index\n",
    "    \n",
    "        \n",
    "    return json.dumps(chunks,  indent=4)\n"
   ],
   "id": "e1ff5c07b80da329",
   "outputs": [],
   "execution_count": 123
  },
  {
   "metadata": {
    "ExecuteTime": {
     "end_time": "2024-07-09T18:32:28.571878Z",
     "start_time": "2024-07-09T18:32:28.570146Z"
    }
   },
   "cell_type": "code",
   "source": "json_search_summary = chunk_document(message_content, annotations)",
   "id": "4e804fbab518472c",
   "outputs": [],
   "execution_count": 124
  },
  {
   "metadata": {
    "ExecuteTime": {
     "end_time": "2024-07-09T18:32:29.767443Z",
     "start_time": "2024-07-09T18:32:29.765735Z"
    }
   },
   "cell_type": "code",
   "source": "print(json_search_summary)",
   "id": "3b24c3306b66d611",
   "outputs": [
    {
     "name": "stdout",
     "output_type": "stream",
     "text": [
      "[\n",
      "    {\n",
      "        \"title\": \"Goldman Sachs' 5-Year Housing Forecast from 2024 to 2027\",\n",
      "        \"Summary\": \"The US housing market over the next two years (2025 and 2026) is expected to see modest growth, driven by a combination of demand from demographic trends and easing monetary policy, but tempered by ongoing affordability concerns. Home Price ProjectionsGoldman Sachs predicts a robust rebound in home prices, with growth rates of 3.8% for 2025 and 4.9% for 2026\",\n",
      "        \"URL\": \"https://www.noradarealestate.com/blog/goldman-sachs-housing-market-forecast/\"\n",
      "    },\n",
      "    {\n",
      "        \"title\": \"Where will U.S. home prices go through 2027? Goldman Sachs Vs. Moody's\\u00a0forecasts - Fast Company\",\n",
      "        \"Summary\": \"This outlook is supported by expectations of steady demand and a slight increase in housing supply. Moody's, in contrast, is more conservative, forecasting a slower growth rate of 0.3% in 2025 and 0.9% in 2026. They cite increasing housing supply from demographic changes and slightly lower mortgage rates as factors that will moderate price gains\",\n",
      "        \"URL\": \"https://www.fastcompany.com/91140840/housing-market-home-price-outlook-2024-2025-2026-2027\"\n",
      "    },\n",
      "    {\n",
      "        \"title\": \"Housing Market Forecast 2024 2025 | Predictions for Next 5 Years\",\n",
      "        \"Summary\": \"Factors Influencing the MarketThe market dynamics will be influenced by several key factors:1. Demographic Trends: The influx of Millennials and Generation Z entering prime home-buying years is expected to sustain demand. Additionally, new job creation and immigration will contribute to the need for more housing\",\n",
      "        \"URL\": \"https://gordcollins.com/real-estate/real-estate-forecast-next-5-years/\"\n",
      "    },\n",
      "    {\n",
      "        \"title\": \"Housing Market Forecast 2024 2025 | Predictions for Next 5 Years\",\n",
      "        \"Summary\": \"2. Monetary Policy and Interest Rates: Easing inflation and potentially lower interest rates could make borrowing more affordable, thereby supporting housing demand. However, high rates in the near term may keep some buyers sidelined\",\n",
      "        \"URL\": \"https://gordcollins.com/real-estate/real-estate-forecast-next-5-years/\"\n",
      "    },\n",
      "    {\n",
      "        \"title\": \"Where will U.S. home prices go through 2027? Goldman Sachs Vs. Moody's\\u00a0forecasts - Fast Company\",\n",
      "        \"Summary\": \"3. Supply and Affordability: A gradual increase in housing supply is anticipated as more homeowners sell due to easing conditions and demographic factors (e.g., life events). However, affordability will remain a significant issue, particularly if wages do not keep pace with home prices and interest rates remain relatively high\",\n",
      "        \"URL\": \"https://www.fastcompany.com/91140840/housing-market-home-price-outlook-2024-2025-2026-2027\"\n",
      "    },\n",
      "    {\n",
      "        \"title\": \"Goldman Sachs' 5-Year Housing Forecast from 2024 to 2027\",\n",
      "        \"Summary\": \"Market Activity and SalesGoldman Sachs expects that new home sales and existing home sales will see steady improvements, driven by a balance of supply and persistent demand\",\n",
      "        \"URL\": \"https://www.noradarealestate.com/blog/goldman-sachs-housing-market-forecast/\"\n",
      "    },\n",
      "    {\n",
      "        \"title\": \"Housing Market Predictions 2026: Economists Weigh In\",\n",
      "        \"Summary\": \"Bank of America also forecasts continued price increases in 2025 but anticipates a slight dip in 2026 as the effects of the pandemic-driven demand surge wane\",\n",
      "        \"URL\": \"https://www.noradarealestate.com/blog/housing-market-predictions-2026-economists-weigh-in/\"\n",
      "    },\n",
      "    {\n",
      "        \"title\": \"Housing Market Forecast 2024 2025 | Predictions for Next 5 Years\",\n",
      "        \"Summary\": \"This dip could potentially bring some relief to the affordability constraints currently hindering the market. Consumer SentimentConsumer optimism around decreasing mortgage rates is rising, which could further boost the housing market. An increase in positive sentiment about future rate declines might encourage more potential buyers to enter the market, supporting higher sales volumes\",\n",
      "        \"URL\": \"https://gordcollins.com/real-estate/real-estate-forecast-next-5-years/\"\n",
      "    },\n",
      "    {\n",
      "        \"title\": \"Housing Market Predictions 2026: Economists Weigh In\",\n",
      "        \"Summary\": \"ChallengesThe key challenge remains affordability. Stalled wage growth relative to home prices and higher short-term interest rates mean that many potential buyers are adopting a \\\"wait and see\\\" approach, hoping for a market correction before making a purchase\",\n",
      "        \"URL\": \"https://www.noradarealestate.com/blog/housing-market-predictions-2026-economists-weigh-in/\"\n",
      "    }\n",
      "]\n"
     ]
    }
   ],
   "execution_count": 125
  }
 ],
 "metadata": {
  "kernelspec": {
   "display_name": "Python 3",
   "language": "python",
   "name": "python3"
  },
  "language_info": {
   "codemirror_mode": {
    "name": "ipython",
    "version": 2
   },
   "file_extension": ".py",
   "mimetype": "text/x-python",
   "name": "python",
   "nbconvert_exporter": "python",
   "pygments_lexer": "ipython2",
   "version": "2.7.6"
  }
 },
 "nbformat": 4,
 "nbformat_minor": 5
}
