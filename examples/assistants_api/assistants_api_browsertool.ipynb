{
 "cells": [
  {
   "cell_type": "markdown",
   "id": "52503a21880a4e2f",
   "metadata": {},
   "source": [
    "#### Use Assistants API Browser tool to retrieve and summarize web search results with annotations   "
   ]
  },
  {
   "cell_type": "markdown",
   "id": "3e33daa1b7e0fad7",
   "metadata": {},
   "source": [
    "**[Note: Assistants Browser tool is in private alpha at present, this cookbook is to be published when it is offered as public beta.]**\n",
    "\n",
    "OpenAI's Assistants API enables developers to integrate AI-powered assistants into their applications, allowing them to perform a variety of tasks such as answering questions, generating text, translating languages, and more. Additionally, the Assistants API provides access to built-in tools like File Search and Code Interpreter.\n",
    "\n",
    "This cookbook focuses on the new Browser tool, which allows developers to search, retrieve, and summarize web content based on an input prompt. The Browser tool enhances the Assistants API by incorporating more recent data from web searches into its output."
   ]
  },
  {
   "cell_type": "markdown",
   "id": "9bef15ed0b7e5850",
   "metadata": {},
   "source": [
    "### Step 1: Setup an assistant with the browser tool\n",
    "In the code cell below we setup an Assistant to use the Browser tool. You can learn more about setting up and invoking assistants https://platform.openai.com/docs/assistants/overview. In summary, you need to create an assistant, create a thread, add message to the thread, and invoke run function on the given thread and assistant id.   "
   ]
  },
  {
   "cell_type": "code",
   "execution_count": 1,
   "id": "25b9e053dbb18beb",
   "metadata": {
    "ExecuteTime": {
     "end_time": "2024-07-10T20:10:27.602739Z",
     "start_time": "2024-07-10T20:10:26.631743Z"
    }
   },
   "outputs": [],
   "source": [
    "from openai import OpenAI\n",
    "\n",
    "# Model for assistant \n",
    "model = \"gpt-4o\"\n",
    "\n",
    "# Definition of the browser tool \n",
    "BROWSER_TOOL = [\n",
    "    {\n",
    "        \"type\": \"browser\",\n",
    "        \"browser\": {\n",
    "            \"locale\": \"en-US\"\n",
    "        }\n",
    "    }\n",
    "]\n",
    "\n",
    "# System prompts \n",
    "system_prompt = \"Conduct a thorough search on the topic provided by the user and output your findings. Provide more detailed text of each citation.\"\n",
    "\n",
    "# Create a client \n",
    "client = OpenAI()\n",
    "\n",
    "# Create an assistant \n",
    "assistant = client.beta.assistants.create(\n",
    "            name=\"INTERNET SEARCH ASSISTANT\",\n",
    "            instructions=system_prompt,\n",
    "            model=model,\n",
    "            tools=BROWSER_TOOL\n",
    "        )"
   ]
  },
  {
   "cell_type": "markdown",
   "id": "9aea7b73682608d0",
   "metadata": {},
   "source": [
    "### Step 2: Invoke the assistant with a user message\n",
    "In the step below, we'll create a thread, create and append message to the thread, and invoke run to execute assistant on the given thread (without streaming).  "
   ]
  },
  {
   "cell_type": "code",
   "execution_count": 2,
   "id": "c13a2f096a71923a",
   "metadata": {
    "ExecuteTime": {
     "end_time": "2024-07-10T20:10:57.862305Z",
     "start_time": "2024-07-10T20:10:45.164148Z"
    }
   },
   "outputs": [],
   "source": [
    "user_message = \"Housing market in the US in the next two years 2025 and 2026\"\n",
    "\n",
    "# Create a thread of conversation \n",
    "thread = client.beta.threads.create()\n",
    "\n",
    "# Create a message on the thread \n",
    "messages = client.beta.threads.messages.create(\n",
    "            thread_id=thread.id,\n",
    "            role=\"user\",\n",
    "            content=user_message\n",
    "        )\n",
    "\n",
    "# Run the assistant with given thread \n",
    "run = client.beta.threads.runs.create_and_poll(\n",
    "            thread_id=thread.id,\n",
    "            assistant_id=assistant.id,\n",
    "            temperature=1,\n",
    "            top_p=1\n",
    "        )"
   ]
  },
  {
   "cell_type": "markdown",
   "id": "4662c96cc63bced1",
   "metadata": {},
   "source": [
    "### Step 3: Retrieve the message text value and annotations \n",
    "The Browser tool will return a response from the LLM that summarizes a variety of sources on the topic, with annotations. You can retrieve the message and annotations as outlined below"
   ]
  },
  {
   "cell_type": "code",
   "execution_count": 3,
   "id": "cf08f8dca2c230a5",
   "metadata": {
    "ExecuteTime": {
     "end_time": "2024-07-10T20:11:40.650307Z",
     "start_time": "2024-07-10T20:11:40.470741Z"
    }
   },
   "outputs": [
    {
     "name": "stdout",
     "output_type": "stream",
     "text": [
      "----- Start of message content output -----\n",
      "The U.S. housing market in the next two years, 2025 and 2026, is expected to experience various dynamics influenced by factors such as mortgage rates, inventory levels, and economic conditions. Here is a synthesis of expert predictions:\n",
      "\n",
      "### Home Prices and Market Trends\n",
      "1. **Moderate Price Growth**:\n",
      "   - According to Goldman Sachs, home prices are projected to rise by approximately 3.8% in 2025 and 4.9% in 2026【8†source】【9†source】. This growth represents a recovery from the slower pace expected in 2024 but still reflects a tempered increase due to ongoing market corrections from previous highs during the pandemic.\n",
      "\n",
      "2. **Sellers' Market Continues**:\n",
      "   - The market is likely to remain a sellers' market, characterized by tight inventory and sustained demand. While there is some expectation of new home construction, it may not significantly alleviate the pressure on supply until 2027 or later【6†source】【7†source】.\n",
      "\n",
      "### Inventory and New Construction\n",
      "1. **Limited Housing Supply**:\n",
      "   - Inventory levels are expected to increase modestly, with a 5% rise in 2025 and a 7% rise in 2026【7†source】. However, these increases may not be sufficient to meet the high demand, especially in desirable metropolitan areas.\n",
      "\n",
      "2. **Challenges in Construction**:\n",
      "   - Factors such as rising construction costs, supply chain disruptions, and zoning regulations will continue to limit the pace of new home builds【7†source】. This constrained supply will likely maintain upward pressure on home prices.\n",
      "\n",
      "### Mortgage Rates and Affordability\n",
      "1. **Interest Rate Adjustments**:\n",
      "   - Mortgage rates, while predicted to moderate slightly from their peaks, will continue to influence affordability. The National Association of Realtors forecasts a gradual decrease in mortgage rates which might spur some market activity【5†source】.\n",
      "\n",
      "2. **Affordability Concerns**:\n",
      "   - As prices remain high and interest rates stabilize, affordability will remain a critical issue for many potential homebuyers. A shift towards a buyers' market might not occur until later, possibly extending beyond 2026【7†source】.\n",
      "\n",
      "### Regional Variations\n",
      "- Market conditions will vary significantly by region. Metropolitan areas with strong job markets and population growth will likely see more pronounced price increases, while some regions might experience stabilization or slight declines due to economic factors and local supply-demand imbalances【6†source】【7†source】.\n",
      "\n",
      "In summary, the U.S. housing market in 2025 and 2026 is poised for continued growth in home prices, albeit at a moderate pace compared to the rapid increases seen during the early pandemic years. Inventory constraints and affordability challenges will persist, keeping the market relatively competitive for buyers. Economic conditions, policy changes, and regional variations will play critical roles in shaping the specific outcomes in different housing markets across the country.\n",
      "----- End of message content output -----\n"
     ]
    }
   ],
   "source": [
    "# get the message back from the run \n",
    "message = client.beta.threads.messages.list(\n",
    "            thread_id=thread.id,\n",
    "            after=messages.id,\n",
    "            order=\"asc\"\n",
    "        )\n",
    "\n",
    "message_content = message.data[0].content[0].text.value \n",
    "print(\"----- Start of message content output -----\")\n",
    "print(message_content)\n",
    "print(\"----- End of message content output -----\")"
   ]
  },
  {
   "cell_type": "markdown",
   "id": "3363b601c60c56d7",
   "metadata": {},
   "source": [
    "The citations to the URLs retrieved by the API are stored in the `FileCitationAnnotation` object storied as list of annotations. This object includes fields that specify the annotation text appearing in the `message_content` variable, such as `text='【7†source】'`, the position of the annotation in the text (`start_index=371` to `end_index=381`), and the corresponding best-matching URL for the source ` `. For example, the URL citation for the first record in the list is:\n",
    "`url_citation = {\n",
    "    'url': 'https://www.noradarealestate.com/blog/goldman-sachs-housing-market-forecast/',\n",
    "    'title': \"Goldman Sachs' 5-Year Housing Forecast from 2024 to 2027\"\n",
    "}`"
   ]
  },
  {
   "cell_type": "code",
   "execution_count": 4,
   "id": "55f67e40579beb3a",
   "metadata": {
    "ExecuteTime": {
     "end_time": "2024-07-10T20:12:08.508028Z",
     "start_time": "2024-07-10T20:12:08.506201Z"
    }
   },
   "outputs": [
    {
     "name": "stdout",
     "output_type": "stream",
     "text": [
      "[FileCitationAnnotation(end_index=425, file_citation=None, start_index=415, text='【8†source】', type='url_citation', url_citation={'url': 'https://finance.yahoo.com/news/four-years-housing-market-gridlock-183219157.html', 'title': 'Four years of housing market gridlock? Goldman Sachs issues U.S. home price predictions through 2026'}), FileCitationAnnotation(end_index=435, file_citation=None, start_index=425, text='【9†source】', type='url_citation', url_citation={'url': 'https://www.noradarealestate.com/blog/goldman-sachs-housing-market-forecast/', 'title': \"Goldman Sachs' 5-Year Housing Forecast from 2024 to 2027\"}), FileCitationAnnotation(end_index=913, file_citation=None, start_index=903, text='【6†source】', type='url_citation', url_citation={'url': 'https://realwealth.com/learn/housing-market-predictions/', 'title': '25+ Housing Market Predictions for the Next 5 Years [2024-2028]'}), FileCitationAnnotation(end_index=923, file_citation=None, start_index=913, text='【7†source】', type='url_citation', url_citation={'url': 'https://themortgagereports.com/107380/real-estate-forecast-next-5-years', 'title': 'Housing Market Predictions: The Real Estate Forecast for the Next 5 Years'}), FileCitationAnnotation(end_index=1103, file_citation=None, start_index=1093, text='【7†source】', type='url_citation', url_citation={'url': 'https://themortgagereports.com/107380/real-estate-forecast-next-5-years', 'title': 'Housing Market Predictions: The Real Estate Forecast for the Next 5 Years'}), FileCitationAnnotation(end_index=1414, file_citation=None, start_index=1404, text='【7†source】', type='url_citation', url_citation={'url': 'https://themortgagereports.com/107380/real-estate-forecast-next-5-years', 'title': 'Housing Market Predictions: The Real Estate Forecast for the Next 5 Years'}), FileCitationAnnotation(end_index=1814, file_citation=None, start_index=1804, text='【5†source】', type='url_citation', url_citation={'url': 'https://www.noradarealestate.com/blog/housing-market-forecast-for-next-5-years/', 'title': 'Housing Market Predictions for Next 5 Years (2024-2028)'}), FileCitationAnnotation(end_index=2081, file_citation=None, start_index=2071, text='【7†source】', type='url_citation', url_citation={'url': 'https://themortgagereports.com/107380/real-estate-forecast-next-5-years', 'title': 'Housing Market Predictions: The Real Estate Forecast for the Next 5 Years'}), FileCitationAnnotation(end_index=2414, file_citation=None, start_index=2404, text='【6†source】', type='url_citation', url_citation={'url': 'https://realwealth.com/learn/housing-market-predictions/', 'title': '25+ Housing Market Predictions for the Next 5 Years [2024-2028]'}), FileCitationAnnotation(end_index=2424, file_citation=None, start_index=2414, text='【7†source】', type='url_citation', url_citation={'url': 'https://themortgagereports.com/107380/real-estate-forecast-next-5-years', 'title': 'Housing Market Predictions: The Real Estate Forecast for the Next 5 Years'})]\n"
     ]
    }
   ],
   "source": [
    "annotations = message.data[0].content[0].text.annotations\n",
    "\n",
    "print(annotations)"
   ]
  },
  {
   "cell_type": "markdown",
   "id": "84520c60140fef0d",
   "metadata": {},
   "source": [
    "### Step 4: Post-Processing\n",
    "\n",
    "After retrieving the message containing the text and its annotations, you can process this information based on your application's requirements using the data in the `Annotations`. Below are two examples to illustrate this.\n",
    "\n",
    "**Example 1: Adding Annotations to the Text**\n",
    "\n",
    "The annotations referenced in the text value returned by the Browser tool (stored in the `message_content` variable) do not include the actual URLs of the web pages. \n",
    "\n",
    "The following `add_annotations_to_text` function takes a string `message_content` and a list of `annotations`. Each annotation contains information about a portion of the text that needs to be replaced with a URL. The function processes these annotations to replace the specified parts of the message_content with corresponding URLs."
   ]
  },
  {
   "cell_type": "code",
   "execution_count": 5,
   "id": "dd3d55d9a416abc",
   "metadata": {
    "ExecuteTime": {
     "end_time": "2024-07-10T20:12:48.405702Z",
     "start_time": "2024-07-10T20:12:48.403241Z"
    }
   },
   "outputs": [
    {
     "name": "stdout",
     "output_type": "stream",
     "text": [
      "----- Start of message content output with inline annotations -----\n",
      "The U.S. housing market in the next two years, 2025 and 2026, is expected to experience various dynamics influenced by factors such as mortgage rates, inventory levels, and economic conditions. Here is a synthesis of expert predictions:\n",
      "\n",
      "### Home Prices and Market Trends\n",
      "1. **Moderate Price Growth**:\n",
      "   - According to Goldman Sachs, home prices are projected to rise by approximately 3.8% in 2025 and 4.9% in 2026[Four years of housing market gridlock? Goldman Sachs issues U.S. home price predictions through 2026](https://finance.yahoo.com/news/four-years-housing-market-gridlock-183219157.html)[Goldman Sachs' 5-Year Housing Forecast from 2024 to 2027](https://www.noradarealestate.com/blog/goldman-sachs-housing-market-forecast/). This growth represents a recovery from the slower pace expected in 2024 but still reflects a tempered increase due to ongoing market corrections from previous highs during the pandemic.\n",
      "\n",
      "2. **Sellers' Market Continues**:\n",
      "   - The market is likely to remain a sellers' market, characterized by tight inventory and sustained demand. While there is some expectation of new home construction, it may not significantly alleviate the pressure on supply until 2027 or later[25+ Housing Market Predictions for the Next 5 Years [2024-2028]](https://realwealth.com/learn/housing-market-predictions/)[Housing Market Predictions: The Real Estate Forecast for the Next 5 Years](https://themortgagereports.com/107380/real-estate-forecast-next-5-years).\n",
      "\n",
      "### Inventory and New Construction\n",
      "1. **Limited Housing Supply**:\n",
      "   - Inventory levels are expected to increase modestly, with a 5% rise in 2025 and a 7% rise in 2026[Housing Market Predictions: The Real Estate Forecast for the Next 5 Years](https://themortgagereports.com/107380/real-estate-forecast-next-5-years). However, these increases may not be sufficient to meet the high demand, especially in desirable metropolitan areas.\n",
      "\n",
      "2. **Challenges in Construction**:\n",
      "   - Factors such as rising construction costs, supply chain disruptions, and zoning regulations will continue to limit the pace of new home builds[Housing Market Predictions: The Real Estate Forecast for the Next 5 Years](https://themortgagereports.com/107380/real-estate-forecast-next-5-years). This constrained supply will likely maintain upward pressure on home prices.\n",
      "\n",
      "### Mortgage Rates and Affordability\n",
      "1. **Interest Rate Adjustments**:\n",
      "   - Mortgage rates, while predicted to moderate slightly from their peaks, will continue to influence affordability. The National Association of Realtors forecasts a gradual decrease in mortgage rates which might spur some market activity[Housing Market Predictions for Next 5 Years (2024-2028)](https://www.noradarealestate.com/blog/housing-market-forecast-for-next-5-years/).\n",
      "\n",
      "2. **Affordability Concerns**:\n",
      "   - As prices remain high and interest rates stabilize, affordability will remain a critical issue for many potential homebuyers. A shift towards a buyers' market might not occur until later, possibly extending beyond 2026[Housing Market Predictions: The Real Estate Forecast for the Next 5 Years](https://themortgagereports.com/107380/real-estate-forecast-next-5-years).\n",
      "\n",
      "### Regional Variations\n",
      "- Market conditions will vary significantly by region. Metropolitan areas with strong job markets and population growth will likely see more pronounced price increases, while some regions might experience stabilization or slight declines due to economic factors and local supply-demand imbalances[25+ Housing Market Predictions for the Next 5 Years [2024-2028]](https://realwealth.com/learn/housing-market-predictions/)[Housing Market Predictions: The Real Estate Forecast for the Next 5 Years](https://themortgagereports.com/107380/real-estate-forecast-next-5-years).\n",
      "\n",
      "In summary, the U.S. housing market in 2025 and 2026 is poised for continued growth in home prices, albeit at a moderate pace compared to the rapid increases seen during the early pandemic years. Inventory constraints and affordability challenges will persist, keeping the market relatively competitive for buyers. Economic conditions, policy changes, and regional variations will play critical roles in shaping the specific outcomes in different housing markets across the country.\n",
      "----- End of message content output with inline annotations -----\n"
     ]
    }
   ],
   "source": [
    "def add_annotations_to_text(message_content, annotations):\n",
    "    \"\"\"\n",
    "    Replaces source text in message_content with URLs from annotations.\n",
    "\n",
    "    :param message_content: str, the original text with annotations\n",
    "    :param annotations: list, list of annotation dictionaries with replacement information\n",
    "    :return: str, the modified message content with URLs\n",
    "    \"\"\"\n",
    "    # Sort annotations by start_index in descending order to avoid index shifting issues during replacement\n",
    "    \n",
    "    annotations = sorted(annotations, key=lambda x: x.start_index, reverse=True)\n",
    "    \n",
    "    for annotation in annotations:\n",
    "        start_index = annotation.start_index\n",
    "        end_index = annotation.end_index\n",
    "        url = annotation.url_citation['url']\n",
    "        title = annotation.url_citation['title']\n",
    "        \n",
    "        # Construct the replacement text\n",
    "        replacement_text = f'[{title}]({url})'\n",
    "        \n",
    "        # Replace the text in message_content\n",
    "        message_content = message_content[:start_index] + replacement_text + message_content[end_index:]\n",
    "    \n",
    "    return message_content\n",
    "\n",
    "# Invoke the function to update the annotations within the text \n",
    "annotated_message_content = add_annotations_to_text(message_content, annotations)\n",
    "\n",
    "print(\"----- Start of message content output with inline annotations -----\")\n",
    "print(annotated_message_content)\n",
    "print(\"----- End of message content output with inline annotations -----\")"
   ]
  },
  {
   "cell_type": "markdown",
   "id": "9cfbdcf9743b642c",
   "metadata": {},
   "source": [
    "**Example 2: Retrieve and format the results as a reference JSON**\n",
    "\n",
    "This example formats the text output in `message_content` using list of `annotations` generate a JSON List of web pages retrieved during the search in format: Title, Summary, and URL.  "
   ]
  },
  {
   "cell_type": "code",
   "execution_count": 6,
   "id": "e1ff5c07b80da329",
   "metadata": {
    "ExecuteTime": {
     "end_time": "2024-07-10T20:12:55.220886Z",
     "start_time": "2024-07-10T20:12:55.218091Z"
    }
   },
   "outputs": [],
   "source": [
    "import json\n",
    "\n",
    "def chunk_document(message_content, annotations):\n",
    "    \"\"\"\n",
    "    Chunks the document into a JSON format based on annotations.\n",
    "\n",
    "    :param message_content: str, the original text with annotations\n",
    "    :param annotations: list, list of FileCitationAnnotation objects with replacement information\n",
    "    :return: list, chunked document in JSON format\n",
    "    \"\"\"\n",
    "    # Sort annotations by start_index\n",
    "    annotations = sorted(annotations, key=lambda x: x.start_index)\n",
    "    \n",
    "    chunks = []\n",
    "    previous_end_index = 0\n",
    "\n",
    "    for annotation in annotations:\n",
    "        start_index = annotation.start_index\n",
    "        end_index = annotation.end_index\n",
    "        url = annotation.url_citation['url']\n",
    "        title = annotation.url_citation['title']\n",
    "        \n",
    "        summary = message_content[previous_end_index:start_index].strip()\n",
    "        \n",
    "        # Post-processing for the annotations to get to the right format\n",
    "        summary = summary.replace('\\n','').replace('#','').replace(\"*\",'').lstrip(\".\").lstrip(\"-\").strip()    \n",
    "\n",
    "        # Remove the link that don't have a summary\n",
    "        if not summary == \"\": \n",
    "            # Create a chunk\n",
    "            chunk = {\n",
    "                \"title\": title,\n",
    "                \"Summary\": summary,\n",
    "                \"URL\": url\n",
    "            }\n",
    "            chunks.append(chunk)\n",
    "        previous_end_index = end_index\n",
    "    \n",
    "        \n",
    "    return json.dumps(chunks,  indent=4)\n"
   ]
  },
  {
   "cell_type": "code",
   "execution_count": 7,
   "id": "4e804fbab518472c",
   "metadata": {
    "ExecuteTime": {
     "end_time": "2024-07-10T20:13:07.372768Z",
     "start_time": "2024-07-10T20:13:07.371040Z"
    }
   },
   "outputs": [
    {
     "name": "stdout",
     "output_type": "stream",
     "text": [
      "[\n",
      "    {\n",
      "        \"title\": \"Four years of housing market gridlock? Goldman Sachs issues U.S. home price predictions through 2026\",\n",
      "        \"Summary\": \"The U.S. housing market in the next two years, 2025 and 2026, is expected to experience various dynamics influenced by factors such as mortgage rates, inventory levels, and economic conditions. Here is a synthesis of expert predictions: Home Prices and Market Trends1. Moderate Price Growth:   - According to Goldman Sachs, home prices are projected to rise by approximately 3.8% in 2025 and 4.9% in 2026\",\n",
      "        \"URL\": \"https://finance.yahoo.com/news/four-years-housing-market-gridlock-183219157.html\"\n",
      "    },\n",
      "    {\n",
      "        \"title\": \"25+ Housing Market Predictions for the Next 5 Years [2024-2028]\",\n",
      "        \"Summary\": \"This growth represents a recovery from the slower pace expected in 2024 but still reflects a tempered increase due to ongoing market corrections from previous highs during the pandemic.2. Sellers' Market Continues:   - The market is likely to remain a sellers' market, characterized by tight inventory and sustained demand. While there is some expectation of new home construction, it may not significantly alleviate the pressure on supply until 2027 or later\",\n",
      "        \"URL\": \"https://realwealth.com/learn/housing-market-predictions/\"\n",
      "    },\n",
      "    {\n",
      "        \"title\": \"Housing Market Predictions: The Real Estate Forecast for the Next 5 Years\",\n",
      "        \"Summary\": \"Inventory and New Construction1. Limited Housing Supply:   - Inventory levels are expected to increase modestly, with a 5% rise in 2025 and a 7% rise in 2026\",\n",
      "        \"URL\": \"https://themortgagereports.com/107380/real-estate-forecast-next-5-years\"\n",
      "    },\n",
      "    {\n",
      "        \"title\": \"Housing Market Predictions: The Real Estate Forecast for the Next 5 Years\",\n",
      "        \"Summary\": \"However, these increases may not be sufficient to meet the high demand, especially in desirable metropolitan areas.2. Challenges in Construction:   - Factors such as rising construction costs, supply chain disruptions, and zoning regulations will continue to limit the pace of new home builds\",\n",
      "        \"URL\": \"https://themortgagereports.com/107380/real-estate-forecast-next-5-years\"\n",
      "    },\n",
      "    {\n",
      "        \"title\": \"Housing Market Predictions for Next 5 Years (2024-2028)\",\n",
      "        \"Summary\": \"This constrained supply will likely maintain upward pressure on home prices. Mortgage Rates and Affordability1. Interest Rate Adjustments:   - Mortgage rates, while predicted to moderate slightly from their peaks, will continue to influence affordability. The National Association of Realtors forecasts a gradual decrease in mortgage rates which might spur some market activity\",\n",
      "        \"URL\": \"https://www.noradarealestate.com/blog/housing-market-forecast-for-next-5-years/\"\n",
      "    },\n",
      "    {\n",
      "        \"title\": \"Housing Market Predictions: The Real Estate Forecast for the Next 5 Years\",\n",
      "        \"Summary\": \"2. Affordability Concerns:   - As prices remain high and interest rates stabilize, affordability will remain a critical issue for many potential homebuyers. A shift towards a buyers' market might not occur until later, possibly extending beyond 2026\",\n",
      "        \"URL\": \"https://themortgagereports.com/107380/real-estate-forecast-next-5-years\"\n",
      "    },\n",
      "    {\n",
      "        \"title\": \"25+ Housing Market Predictions for the Next 5 Years [2024-2028]\",\n",
      "        \"Summary\": \"Regional Variations- Market conditions will vary significantly by region. Metropolitan areas with strong job markets and population growth will likely see more pronounced price increases, while some regions might experience stabilization or slight declines due to economic factors and local supply-demand imbalances\",\n",
      "        \"URL\": \"https://realwealth.com/learn/housing-market-predictions/\"\n",
      "    }\n",
      "]\n"
     ]
    }
   ],
   "source": [
    "json_search_summary = chunk_document(message_content, annotations)\n",
    "print(json_search_summary)"
   ]
  },
  {
   "cell_type": "markdown",
   "id": "87e9610a35d1a8e6",
   "metadata": {},
   "source": [
    "To recap: In this cookbook, we explored how to use the Browser tool with the Assistants API. We demonstrated how to retrieve content and annotations for use in various applications with the help of two examples."
   ]
  }
 ],
 "metadata": {
  "kernelspec": {
   "display_name": "Python 3",
   "language": "python",
   "name": "python3"
  },
  "language_info": {
   "codemirror_mode": {
    "name": "ipython",
    "version": 2
   },
   "file_extension": ".py",
   "mimetype": "text/x-python",
   "name": "python",
   "nbconvert_exporter": "python",
   "pygments_lexer": "ipython2",
   "version": "2.7.6"
  }
 },
 "nbformat": 4,
 "nbformat_minor": 5
}
