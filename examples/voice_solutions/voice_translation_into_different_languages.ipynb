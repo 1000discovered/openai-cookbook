{
 "cells": [
  {
   "metadata": {},
   "cell_type": "markdown",
   "source": [
    "### Voice Translation of Audio files \n",
    "\n",
    "Ever wanted to translate a podcast into your native language? Translating and dubbing podcasts can make content more accessible to a global audience. This guide will walk you through the process of converting an English audio file into Hindi using OpenAI APIs. We will cover transcription of the audio, translation into target script, text-to-speech conversion into target language, and benchmarking to ensure quality and accuracy.\n",
    "\n",
    "A note on semantics used in this Cookbook regarding **Language** and **Script**. These words are generally used interchangeably, though it's important to understand the distinction given the task at hand. \n",
    "- **Language** refers to the spoken or written system of communication. For instance, Hindi and Marathi are different languages, but both use the Devanagari script. English and French are different languages, but are written in Latin script. \n",
    "- **Script** refers to the set of characters or symbols used to write the language. For example, Serbian language traditionally written in Cyrillic Script, is also written in Latin script.\n",
    "\n",
    "\n",
    "In this cookbook we will walk through steps to dub an audio podcast from English to Hindi. Overall steps are:    \n",
    "\n",
    "1. **Transcribe** the audio file into text with Whisper. \n",
    "2. **Translate** the English language text to Hindi in Devanagari script    \n",
    "3. **Text-to-speech** conversion of the Devanagari script into spoken Hindi language \n",
    "4. **Translation benchmarking** (BLEU or ROUGE) \n"
   ],
   "id": "4265ef1326248608"
  },
  {
   "metadata": {},
   "cell_type": "markdown",
   "source": [
    "**Step 1: Transcribe the audio file into text with Whisper**\n",
    "\n",
    "Whisper is an open-source automatic speech recognition (ASR) system developed by OpenAI. It can transcribe audio files with high accuracy across multiple languages. \n",
    "\n",
    "\n",
    "![Text-to-speech](./images/Whisper.png)\n",
    "\n",
    "[Learn more about Whisper here](https://platform.openai.com/docs/guides/speech-to-text) \n"
   ],
   "id": "d84f1356379946f6"
  },
  {
   "metadata": {
    "ExecuteTime": {
     "end_time": "2024-09-03T20:14:41.722893Z",
     "start_time": "2024-09-03T20:14:32.308041Z"
    }
   },
   "cell_type": "code",
   "source": [
    "from openai import OpenAI\n",
    "client = OpenAI()\n",
    "\n",
    "audio_file = \"../gpt4o/data/keynote_recap.mp3\"\n",
    "\n",
    "audio_file= open(audio_file, \"rb\")\n",
    "transcription = client.audio.transcriptions.create(\n",
    "  model=\"whisper-1\",  \n",
    "  file=audio_file\n",
    ")\n",
    "print(transcription.text)\n"
   ],
   "id": "7d10f34bb10ab45",
   "outputs": [
    {
     "name": "stdout",
     "output_type": "stream",
     "text": [
      "Welcome to our first-ever OpenAI Dev Day. Today, we are launching a new model, GPT-4 Turbo. GPT-4 Turbo supports up to 128,000 tokens of context. We have a new feature called JSON mode, which ensures that the model will respond with valid JSON. You can now call many functions at once, and it'll do better at following instructions in general. You want these models to be able to access better knowledge about the world. So do we. So we're launching retrieval in the platform. You can bring knowledge from outside documents or databases into whatever you're building. GPT-4 Turbo has knowledge about the world up to April of 2023, and we will continue to improve that over time. Dolly 3, GPT-4 Turbo with Vision, and the new Text-to-Speech model are all going into the API today. Today, we're launching a new program called Custom Models. With Custom Models, our researchers will work closely with the company to help them make a great custom model, especially for them and their use case using our tools, higher rate limits. We're doubling the tokens per minute for all of our established GPT-4 customers so that it's easier to do more, and you'll be able to request changes to further rate limits and quotas directly in your API account settings. And GPT-4 Turbo is considerably cheaper than GPT-4 by a factor of 3x for prompt tokens and 2x for completion tokens, starting today. We're thrilled to introduce GPTs. GPTs are tailored versions of chat GPT for a specific purpose. And because they combine instructions, expanded knowledge, and actions, they can be more helpful to you. They can work better in many contexts, and they can give you better control. We know that many people who want to build a GPT don't know how to code. We've made it so that you can program the GPT just by having a conversation. You can make private GPTs. You can share your creations publicly with a link for anyone to use. Or if you're on chat GPT Enterprise, you can make GPTs just for your company. And later this month, we're going to launch the GPT Store. So those are the GPTs, and we can't wait to see what you'll build. We're bringing the same concept to the API. The Assistance API includes persistent threads, so they don't have to figure out how to deal with long conversation history, built-in retrieval, code interpreter, a working Python interpreter in a sandbox environment, and of course, the improved function calling. As intelligence gets integrated everywhere, we will all have superpowers on demand. We're excited to see what you all will do with this technology, and to discover the new future that we're all going to architect together. We hope that you'll come back next year. What we launched today is going to look very quaint relative to what we're busy creating for you now. Thank you for all that you do. Thanks for coming here today.\n"
     ]
    }
   ],
   "execution_count": 12
  },
  {
   "metadata": {},
   "cell_type": "markdown",
   "source": "Note that the model transcribed \"Dall-e\" as \"Dolly\". This is a common issue with similar sounding words. It can be remediated by providing the correct transcription in the `prompt` parameter. ",
   "id": "3a8c242021ce3964"
  },
  {
   "metadata": {
    "ExecuteTime": {
     "end_time": "2024-09-03T20:17:27.129987Z",
     "start_time": "2024-09-03T20:17:18.545801Z"
    }
   },
   "cell_type": "code",
   "source": [
    "audio_file = \"../gpt4o/data/keynote_recap.mp3\"\n",
    "\n",
    "audio_file= open(audio_file, \"rb\")\n",
    "transcription = client.audio.transcriptions.create(\n",
    "  model=\"whisper-1\", \n",
    "    prompt=\"Dall-e\",   \n",
    "  file=audio_file\n",
    ")\n",
    "print(transcription.text)"
   ],
   "id": "261ed580658bd77f",
   "outputs": [
    {
     "name": "stdout",
     "output_type": "stream",
     "text": [
      "Welcome to our first ever OpenAI Dev Day. Today, we are launching a new model, GPT-4 Turbo. GPT-4 Turbo supports up to 128,000 tokens of context. We have a new feature called JSON mode, which ensures that the model will respond with valid JSON. You can now call many functions at once, and it will do better at following instructions in general. You want these models to be able to access better knowledge about the world. So do we. So we're launching retrieval in the platform. You can bring knowledge from outside documents or databases into whatever you're building. GPT-4 Turbo has knowledge about the world up to April of 2023, and we will continue to improve that over time. Dall-e 3, GPT-4 Turbo with Vision, and the new Text-to-Speech model are all going into the API today. Today, we're launching a new program called Custom Models. With Custom Models, our researchers will work closely with a company to help them make a great custom model, especially for them and their use case using our tools. Higher rate limits. We're doubling the tokens per minute for all of our established GPT-4 customers so that it's easier to do more, and you'll be able to request changes to further rate limits and quotas directly in your API account settings. And GPT-4 Turbo is considerably cheaper than GPT-4 by a factor of 3x for prompt tokens and 2x for completion tokens starting today. We're thrilled to introduce GPTs. GPTs are tailored versions of ChatGPT for a specific purpose. And because they combine instructions, expanded knowledge, and actions, they can be more helpful to you. They can work better in many contexts, and they can give you better control. We know that many people who want to build a GPT don't know how to code. We've made it so that you can program the GPT just by having a conversation. You can make private GPTs. You can share your creations publicly with a link for anyone to use. Or, if you're on ChatGPT Enterprise, you can make GPTs just for your company. And later this month, we're going to launch the GPT Store. So those are GPTs, and we can't wait to see what you'll build. We're bringing the same concept to the API. The Assistance API includes persistent threads, so they don't have to figure out how to deal with long conversation history, built-in retrieval, code interpreter, a working Python interpreter in a sandbox environment, and, of course, the improved function calling. As intelligence gets integrated everywhere, we will all have superpowers on demand. We're excited to see what you all will do with this technology, and to discover the new future that we're all going to architect together. We hope that you'll come back next year. What we launched today is going to look very quaint relative to what we're busy creating for you now. Thank you for all that you do. Thanks for coming here today. Thank you.\n"
     ]
    }
   ],
   "execution_count": 15
  },
  {
   "metadata": {},
   "cell_type": "markdown",
   "source": "Now the model accurately transcribed word \"Dall-e\". \n",
   "id": "671ccdbfa5c5238d"
  },
  {
   "metadata": {},
   "cell_type": "markdown",
   "source": [
    "**Step 2. Translate the English language text to Hindi in Devanagari script**\n",
    "\n",
    "Next step is to transcribe the text from the given language, to the target language script. In this case we prompt the gpt-4o model to translate the text from English (written in Latin script) to Hindi (written in Devanagari script). \n",
    "\n",
    "For certain new words in a language, there may not be an available translation in the target language. In such cases, we prompt the model to retain the words in original language. We can also provide examples of words to keep in the original script (E.g., English) \n"
   ],
   "id": "5d294fa712197b74"
  },
  {
   "metadata": {
    "ExecuteTime": {
     "end_time": "2024-09-03T20:24:31.135314Z",
     "start_time": "2024-09-03T20:24:19.563803Z"
    }
   },
   "cell_type": "code",
   "source": [
    "response = client.chat.completions.create(\n",
    "  model=\"gpt-4o\",\n",
    "  messages=[\n",
    "    {\"role\": \"system\", \"content\": \"You are an assistant that translates text from English to Hindi. User will provide content for you to translate. You may keep certain words in English for which a direct translation doesn't exist. Some words to keep in English include - Turbo, OpenAI, token, GPT, Dall-e, Python\"},\n",
    "    {\"role\": \"user\", \"content\": transcription.text},\n",
    "  ]\n",
    ")\n",
    "\n",
    "message = response.choices[0].message.content\n",
    "\n",
    "print(message)"
   ],
   "id": "330baa9a6e55530c",
   "outputs": [
    {
     "name": "stdout",
     "output_type": "stream",
     "text": [
      "हमारे पहले OpenAI Dev Day में आपका स्वागत है। आज, हम एक नया मॉडल, GPT-4 Turbo लॉन्च कर रहे हैं। GPT-4 Turbo 128,000 tokens तक के संदर्भ को सपोर्ट करता है। हमारे पास एक नया फीचर है जिसे JSON mode कहा जाता है, जो सुनिश्चित करता है कि मॉडल वैध JSON के साथ प्रतिक्रिया करेगा। आप अब कई functions को एक साथ कॉल कर सकते हैं, और यह सामान्य तौर पर निर्देशों का बेहतर पालन करेगा। आप चाहते हैं कि ये मॉडल विश्व के बारे में बेहतर ज्ञान तक पहुंच सकें। हम भी ऐसा ही चाहते हैं। इसलिए हम प्लेटफॉर्म में retrieval लॉन्च कर रहे हैं। आप बाहरी दस्तावेजों या डेटाबेस से ज्ञान को अपने जो भी निर्माण कर रहे हैं, उसमें ला सकते हैं। GPT-4 Turbo के पास अप्रैल 2023 तक दुनिया के बारे में ज्ञान है, और हम इसे समय के साथ सुधारते रहेंगे। Dall-e 3, GPT-4 Turbo with Vision, और नया Text-to-Speech मॉडल आज API में जा रहे हैं। आज, हम एक नया प्रोग्राम लॉन्च कर रहे हैं जिसे Custom Models कहा जाता है। Custom Models के साथ, हमारे शोधकर्ता कंपनी के साथ मिलकर काम करेंगे ताकि वे उनके लिए और उनके उपयोग के मामले के लिए एक शानदार कस्टम मॉडल तैयार कर सकें, हमारे टूल्स का उपयोग करके। उच्च दर सीमाएँ। हम अपने सभी स्थापित GPT-4 ग्राहकों के लिए प्रति मिनट tokens की संख्या को दोगुना कर रहे हैं ताकि अधिक काम करना आसान हो जाए, और आप अपने API अकाउंट सेटिंग्स में सीधे दर सीमाएँ और कोटा में बदलावों का अनुरोध कर सकते हैं। और GPT-4 Turbo में GPT-4 की तुलना में प्रयुक्त tokens की कीमत में 3x की कमी और प्रविष्टि tokens की कीमत में 2x की कमी है, आज से शुरू हो रही है। हम GPTs को पेश करने के लिए उत्साहित हैं। GPTs ChatGPT के विशिष्ट उद्देश्यों के लिए तैयार किए गए संस्करण हैं। और क्योंकि वे निर्देश, विस्तारित ज्ञान, और क्रियाओं को मिलाते हैं, वे आपके लिए अधिक सहायक हो सकते हैं। वे कई संदर्भों में बेहतर काम कर सकते हैं, और वे आपको बेहतर नियंत्रण दे सकते हैं। हम जानते हैं कि कई लोग जो एक GPT बनाना चाहते हैं, कोड करना नहीं जानते। हमने इसे इस प्रकार बनाया है कि आप बस बातचीत करके GPT को प्रोग्राम कर सकते हैं। आप निजी GPTs बना सकते हैं। आप अपने निर्माण सार्वजनिक रूप से एक लिंक के माध्यम से साझा कर सकते हैं ताकि कोई भी उनका उपयोग कर सके। या, अगर आप ChatGPT Enterprise पर हैं, तो आप अपने कंपनी के लिए GPTs बना सकते हैं। और इस महीने के अंत में, हम GPT Store लॉन्च करने जा रहे हैं। तो ये हैं GPTs, और हम यह देखने के लिए उत्साहित हैं कि आप क्या बनाएंगे। हम उसी अवधारणा को API में ला रहे हैं। Assistance API में permanently threads शामिल हैं, इसलिए उन्हें लंबी बातचीत इतिहास से निपटने का तरीका नहीं खोजना होगा, बिल्ट-इन retrieval, कोड इंटरप्रेटर, एक sandbox वातावरण में काम करने वाला Python इंटरप्रेटर, और निश्चित रूप से, सुधारित फंक्शन कॉलिंग शामिल है। जैसे-जैसे बुद्धिमत्ता हर जगह एकीकृत हो जाती है, हम सभी के पास मांग पर सुपरपॉवर्स होंगे। हम यह देखने के लिए उत्साहित हैं कि आप इस तकनीक के साथ क्या करेंगे, और उस नए भविष्य की खोज करने के जो हम सभी मिलकर बनाएंगे। हमें उम्मीद है कि आप अगले साल वापस आएंगे। जो हमने आज लॉन्च किया है वह उस तुलना में बहुत सरल लगेगा जिसे हम आपके लिए अभी बना रहे हैं। जो कुछ आप करते हैं उसके लिए धन्यवाद। आज यहां आने के लिए धन्यवाद। धन्यवाद।\n"
     ]
    }
   ],
   "execution_count": 16
  },
  {
   "metadata": {},
   "cell_type": "markdown",
   "source": "The transcribed text is a combination of Hindi and English languages, represented in their respective scripts Devanagari and Latin. ",
   "id": "d7d71ed42afacb8e"
  },
  {
   "metadata": {},
   "cell_type": "markdown",
   "source": [
    "**3. Text-to-speech conversion of the Devanagari script into spoken Hindi language**\n",
    "\n",
    "OpenAI tts model can take the translated text as input and provide the spoken language output with native sounding Hindi, intermingled with native sounding English words, where appropriate.   \n",
    "\n",
    "![Text-to-speech](./images/Text-to-speech.png)\n",
    " \n",
    "\n",
    "[Learn more about tts model here](https://platform.openai.com/docs/guides/text-to-speech)"
   ],
   "id": "67068cca4fe5211b"
  },
  {
   "metadata": {
    "ExecuteTime": {
     "end_time": "2024-09-03T20:26:22.958111Z",
     "start_time": "2024-09-03T20:25:53.350880Z"
    }
   },
   "cell_type": "code",
   "source": [
    "output_file_path = \"./sounds/output.mp3\"\n",
    "\n",
    "response = client.audio.speech.create(\n",
    "    model=\"tts-1\",\n",
    "    voice=\"alloy\",\n",
    "    input=message,\n",
    ")\n",
    "\n",
    "response.stream_to_file(output_file_path)"
   ],
   "id": "dc7922ea7f33b4d3",
   "outputs": [
    {
     "name": "stderr",
     "output_type": "stream",
     "text": [
      "/var/folders/jk/xl1ppdk94637355tx59m0kph0000gp/T/ipykernel_49771/2703525150.py:11: DeprecationWarning: Due to a bug, this method doesn't actually stream the response content, `.with_streaming_response.method()` should be used instead\n",
      "  response.stream_to_file(\"output.mp3\")\n"
     ]
    }
   ],
   "execution_count": 17
  },
  {
   "metadata": {},
   "cell_type": "markdown",
   "source": "",
   "id": "5a380d3df383d1e4"
  },
  {
   "metadata": {
    "ExecuteTime": {
     "end_time": "2024-09-03T20:34:22.383276Z",
     "start_time": "2024-09-03T20:30:48.013214Z"
    }
   },
   "cell_type": "code",
   "source": [
    "from playsound import playsound\n",
    "\n",
    "playsound(\"output.mp3\")"
   ],
   "id": "e5545d55bf8be52a",
   "outputs": [],
   "execution_count": 18
  },
  {
   "metadata": {},
   "cell_type": "markdown",
   "source": [
    "**Step 4. Translation benchmarking (e.g., BLEU or ROUGE)** \n",
    "\n"
   ],
   "id": "9f25e38cbf8dbd26"
  },
  {
   "metadata": {},
   "cell_type": "code",
   "outputs": [],
   "execution_count": null,
   "source": "",
   "id": "d662ac09494780a3"
  }
 ],
 "metadata": {
  "kernelspec": {
   "display_name": "Python 3",
   "language": "python",
   "name": "python3"
  },
  "language_info": {
   "codemirror_mode": {
    "name": "ipython",
    "version": 2
   },
   "file_extension": ".py",
   "mimetype": "text/x-python",
   "name": "python",
   "nbconvert_exporter": "python",
   "pygments_lexer": "ipython2",
   "version": "2.7.6"
  }
 },
 "nbformat": 4,
 "nbformat_minor": 5
}
