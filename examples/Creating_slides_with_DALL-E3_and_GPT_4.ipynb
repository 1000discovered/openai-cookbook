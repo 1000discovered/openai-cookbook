{
 "cells": [
  {
   "cell_type": "markdown",
   "metadata": {},
   "source": [
    "# Making slides with the Assistants API and DALL-E3\n",
    "\n",
    "This notebook demonstrates how to leverage DALL-E3 and GPT-4 to create informative and visually appealing slides. <br>\n",
    "Creating slides is an important component of many jobs, but can be time-consuming. Here, we will show how to use GPT-4 and DALL-E3 to help you create and improve your slides.\n"
   ]
  },
  {
   "cell_type": "code",
   "execution_count": 1,
   "metadata": {},
   "outputs": [],
   "source": [
    "from IPython.display import display, Image, Audio\n",
    "import base64\n",
    "import time\n",
    "from openai import OpenAI\n",
    "import os\n",
    "import requests\n",
    "import pandas as pd\n",
    "\n",
    "client = OpenAI()\n"
   ]
  },
  {
   "cell_type": "markdown",
   "metadata": {},
   "source": [
    "Once we have the video frames we craft our prompt and send a request to GPT (Note that we don't need to send every frame for GPT to understand what's going on):\n"
   ]
  },
  {
   "cell_type": "markdown",
   "metadata": {},
   "source": [
    "## 0. Setup"
   ]
  },
  {
   "cell_type": "code",
   "execution_count": 34,
   "metadata": {},
   "outputs": [],
   "source": [
    "import json\n",
    "\n",
    "#Lets import some functions from https://cookbook.openai.com/examples/assistants_api_overview_python\n",
    "def show_json(obj):\n",
    "    display(json.loads(obj.model_dump_json()))\n",
    "\n",
    "def submit_message(assistant_id, thread, user_message):\n",
    "    client.beta.threads.messages.create(\n",
    "    thread_id=thread.id, role=\"user\", content=user_message\n",
    ")\n",
    "    return client.beta.threads.runs.create(\n",
    "    thread_id=thread.id,\n",
    "    assistant_id=assistant_id,\n",
    ")\n",
    "\n",
    "def get_response(thread):\n",
    "    return client.beta.threads.messages.list(thread_id=thread.id)\n",
    "\n",
    "# assistant_id = \"asst_ITGfPF8ySQK2qUErH8YMIsop\"\n"
   ]
  },
  {
   "cell_type": "markdown",
   "metadata": {},
   "source": [
    "## 1. Creating the content"
   ]
  },
  {
   "cell_type": "markdown",
   "metadata": {},
   "source": [
    "Let's say we are creating a presentation for a quarterly financial review of our company, NotReal Corporation.\n",
    "We want to use the following data (*note: this dummy data was created using GPT-4/code interpreter*)"
   ]
  },
  {
   "cell_type": "markdown",
   "metadata": {},
   "source": [
    "Let's load in the data, and take a look"
   ]
  },
  {
   "cell_type": "code",
   "execution_count": 3,
   "metadata": {},
   "outputs": [
    {
     "data": {
      "text/html": [
       "<div>\n",
       "<style scoped>\n",
       "    .dataframe tbody tr th:only-of-type {\n",
       "        vertical-align: middle;\n",
       "    }\n",
       "\n",
       "    .dataframe tbody tr th {\n",
       "        vertical-align: top;\n",
       "    }\n",
       "\n",
       "    .dataframe thead th {\n",
       "        text-align: right;\n",
       "    }\n",
       "</style>\n",
       "<table border=\"1\" class=\"dataframe\">\n",
       "  <thead>\n",
       "    <tr style=\"text-align: right;\">\n",
       "      <th></th>\n",
       "      <th>Year</th>\n",
       "      <th>Quarter</th>\n",
       "      <th>Distribution channel</th>\n",
       "      <th>Revenue ($M)</th>\n",
       "      <th>Costs ($M)</th>\n",
       "      <th>Customer count</th>\n",
       "      <th>Time</th>\n",
       "    </tr>\n",
       "  </thead>\n",
       "  <tbody>\n",
       "    <tr>\n",
       "      <th>0</th>\n",
       "      <td>2021</td>\n",
       "      <td>Q1</td>\n",
       "      <td>Online Sales</td>\n",
       "      <td>1.50</td>\n",
       "      <td>1.301953</td>\n",
       "      <td>150</td>\n",
       "      <td>2021 Q1</td>\n",
       "    </tr>\n",
       "    <tr>\n",
       "      <th>1</th>\n",
       "      <td>2021</td>\n",
       "      <td>Q1</td>\n",
       "      <td>Direct Sales</td>\n",
       "      <td>1.50</td>\n",
       "      <td>1.380809</td>\n",
       "      <td>151</td>\n",
       "      <td>2021 Q1</td>\n",
       "    </tr>\n",
       "    <tr>\n",
       "      <th>2</th>\n",
       "      <td>2021</td>\n",
       "      <td>Q1</td>\n",
       "      <td>Retail Partners</td>\n",
       "      <td>1.50</td>\n",
       "      <td>1.348246</td>\n",
       "      <td>152</td>\n",
       "      <td>2021 Q1</td>\n",
       "    </tr>\n",
       "    <tr>\n",
       "      <th>3</th>\n",
       "      <td>2021</td>\n",
       "      <td>Q2</td>\n",
       "      <td>Online Sales</td>\n",
       "      <td>1.52</td>\n",
       "      <td>1.308608</td>\n",
       "      <td>152</td>\n",
       "      <td>2021 Q2</td>\n",
       "    </tr>\n",
       "    <tr>\n",
       "      <th>4</th>\n",
       "      <td>2021</td>\n",
       "      <td>Q2</td>\n",
       "      <td>Direct Sales</td>\n",
       "      <td>1.52</td>\n",
       "      <td>1.413305</td>\n",
       "      <td>153</td>\n",
       "      <td>2021 Q2</td>\n",
       "    </tr>\n",
       "  </tbody>\n",
       "</table>\n",
       "</div>"
      ],
      "text/plain": [
       "   Year Quarter Distribution channel  Revenue ($M)  Costs ($M)  \\\n",
       "0  2021      Q1         Online Sales          1.50    1.301953   \n",
       "1  2021      Q1         Direct Sales          1.50    1.380809   \n",
       "2  2021      Q1      Retail Partners          1.50    1.348246   \n",
       "3  2021      Q2         Online Sales          1.52    1.308608   \n",
       "4  2021      Q2         Direct Sales          1.52    1.413305   \n",
       "\n",
       "   Customer count     Time  \n",
       "0             150  2021 Q1  \n",
       "1             151  2021 Q1  \n",
       "2             152  2021 Q1  \n",
       "3             152  2021 Q2  \n",
       "4             153  2021 Q2  "
      ]
     },
     "execution_count": 3,
     "metadata": {},
     "output_type": "execute_result"
    }
   ],
   "source": [
    "financial_data = pd.read_json('data/NotRealCorp_financial_data.jsonl',lines=True)\n",
    "financial_data.head()\n"
   ]
  },
  {
   "cell_type": "markdown",
   "metadata": {},
   "source": [
    "As you can see, this data has quarterly revenue, costs and customer data across different distribution channels. Let's create an assistant\n",
    "that can act as a personal analyst and make a nice visualization for out PowerPoint!"
   ]
  },
  {
   "cell_type": "code",
   "execution_count": 9,
   "metadata": {},
   "outputs": [],
   "source": [
    "#Write JSON version\n",
    "financial_data.to_json('data/NotRealCorp_financial_data.json')\n"
   ]
  },
  {
   "cell_type": "code",
   "execution_count": null,
   "metadata": {},
   "outputs": [],
   "source": [
    "# file = client.files.create(\n",
    "#   file=open('data/NotRealCorp_financial_data.json',\"rb\"),\n",
    "#   purpose='assistants',\n",
    "# )\n"
   ]
  },
  {
   "cell_type": "code",
   "execution_count": 10,
   "metadata": {},
   "outputs": [],
   "source": [
    "# assistant = client.beta.assistants.create(\n",
    "#   instructions=\"You are a data scientist assistant. When given data and a query, write the proper code and create the proper visualization\",\n",
    "#   model=\"gpt-4-1106-preview\",\n",
    "#   tools=[{\"type\": \"code_interpreter\"}],\n",
    "#   file_ids=[file.id]\n",
    "# )\n"
   ]
  },
  {
   "cell_type": "code",
   "execution_count": 13,
   "metadata": {},
   "outputs": [],
   "source": [
    "thread = client.beta.threads.create(\n",
    "  messages=[\n",
    "    {\n",
    "      \"role\": \"user\",\n",
    "      \"content\": \"Calculate profit (revenue minus cost) by quarter and year, and visualize as a line plot across the distribution channels, where the colors of each line are significantly different\",\n",
    "      \"file_ids\": [file_id]\n",
    "    }\n",
    "  ]\n",
    ")\n"
   ]
  },
  {
   "cell_type": "code",
   "execution_count": 15,
   "metadata": {},
   "outputs": [],
   "source": [
    "file_id = 'file-5qpq4qe3hS6CINFtWNarDYc8'\n",
    "assistant_id = \"asst_ITGfPF8ySQK2qUErH8YMIsop\"\n",
    "thread_id = \"thread_siTiDz1y95uU20h1cKByjKgu\"\n"
   ]
  },
  {
   "cell_type": "code",
   "execution_count": null,
   "metadata": {},
   "outputs": [],
   "source": [
    "# api.openai.com/v1/threads/thread_8ytSSU22msIraTt9STHXIFnt/messages\\\n",
    "#     -H \"Content-Type: application/json\" \\\n",
    "#   -H \"Authorization: Bearer $OPENAI_API_KEY\" \\\n",
    "#   -H \"OpenAI-Beta: assistants=v1\"\n"
   ]
  },
  {
   "cell_type": "code",
   "execution_count": 16,
   "metadata": {},
   "outputs": [],
   "source": [
    "run = client.beta.threads.runs.create(\n",
    "    thread_id = thread_id,\n",
    "    assistant_id=assistant_id,\n",
    ")\n"
   ]
  },
  {
   "cell_type": "markdown",
   "metadata": {},
   "source": [
    "As the creation of a run is an asynchronous operations, let's use the helper function `wait_on_run` from\n",
    "  the fantastic Assistants API Overview cookbook (https://cookbook.openai.com/examples/assistants_api_overview_python)"
   ]
  },
  {
   "cell_type": "code",
   "execution_count": 17,
   "metadata": {},
   "outputs": [],
   "source": [
    "import time\n",
    "\n",
    "def wait_on_run(run, thread):\n",
    "    while run.status == \"queued\" or run.status == \"in_progress\":\n",
    "        run = client.beta.threads.runs.retrieve(\n",
    "            thread_id=thread.id,\n",
    "            run_id=run.id,\n",
    "        )\n",
    "        time.sleep(0.5)\n",
    "    return run\n"
   ]
  },
  {
   "cell_type": "code",
   "execution_count": 19,
   "metadata": {},
   "outputs": [],
   "source": [
    "run = wait_on_run(run,thread)\n"
   ]
  },
  {
   "cell_type": "code",
   "execution_count": null,
   "metadata": {},
   "outputs": [],
   "source": [
    "run\n"
   ]
  },
  {
   "cell_type": "markdown",
   "metadata": {},
   "source": [
    "Let's see the messages the Assistant added."
   ]
  },
  {
   "cell_type": "code",
   "execution_count": 20,
   "metadata": {},
   "outputs": [
    {
     "data": {
      "text/plain": [
       "{'data': [{'id': 'msg_aUY9hpdcbeq1X5VkKqfXaWbH',\n",
       "   'assistant_id': 'asst_ITGfPF8ySQK2qUErH8YMIsop',\n",
       "   'content': [{'image_file': {'file_id': 'file-10tOO4QmT4ymhNIfqLrh237N'},\n",
       "     'type': 'image_file'},\n",
       "    {'text': {'annotations': [],\n",
       "      'value': 'Here is the line plot visualizing the profit per quarter and year across the different distribution channels. Each distribution channel is represented by a line with a unique color, as requested.\\n\\nThe plot shows the trend of profit over time for each channel, allowing you to easily compare their performance.'},\n",
       "     'type': 'text'}],\n",
       "   'created_at': 1700012299,\n",
       "   'file_ids': [],\n",
       "   'metadata': {},\n",
       "   'object': 'thread.message',\n",
       "   'role': 'assistant',\n",
       "   'run_id': 'run_gmBZmly2a6l8FEQ4zqHnixzh',\n",
       "   'thread_id': 'thread_siTiDz1y95uU20h1cKByjKgu'},\n",
       "  {'id': 'msg_Tkc9pamwW4U9CEWGg6u7Exkb',\n",
       "   'assistant_id': 'asst_ITGfPF8ySQK2qUErH8YMIsop',\n",
       "   'content': [{'text': {'annotations': [],\n",
       "      'value': 'The profits have been successfully calculated and pivoted for plotting. Now I will create a line plot to visualize the profit per quarter and year across different distribution channels with significantly different colors for each line.'},\n",
       "     'type': 'text'}],\n",
       "   'created_at': 1700012286,\n",
       "   'file_ids': [],\n",
       "   'metadata': {},\n",
       "   'object': 'thread.message',\n",
       "   'role': 'assistant',\n",
       "   'run_id': 'run_gmBZmly2a6l8FEQ4zqHnixzh',\n",
       "   'thread_id': 'thread_siTiDz1y95uU20h1cKByjKgu'},\n",
       "  {'id': 'msg_PQ0lQLXonJued1QAcZUa4c1U',\n",
       "   'assistant_id': 'asst_ITGfPF8ySQK2qUErH8YMIsop',\n",
       "   'content': [{'text': {'annotations': [],\n",
       "      'value': \"The data has now been correctly loaded into the DataFrame. Before calculating the profit, let's create a new column 'Profit' in the DataFrame which is the difference between 'Revenue ($M)' and 'Costs ($M)'.\\n\\nOnce we have the profits calculated, I will group the data by 'Year', 'Quarter', and 'Distribution channel' to get profits per quarter and year for each distribution channel, and then visualize the results with a line plot. The graph will have separate lines for each distribution channel with significantly different colors. Let's start with the calculations.\"},\n",
       "     'type': 'text'}],\n",
       "   'created_at': 1700012274,\n",
       "   'file_ids': [],\n",
       "   'metadata': {},\n",
       "   'object': 'thread.message',\n",
       "   'role': 'assistant',\n",
       "   'run_id': 'run_gmBZmly2a6l8FEQ4zqHnixzh',\n",
       "   'thread_id': 'thread_siTiDz1y95uU20h1cKByjKgu'},\n",
       "  {'id': 'msg_RVHhGgK5HlRviSXG0PM5kcHH',\n",
       "   'assistant_id': 'asst_ITGfPF8ySQK2qUErH8YMIsop',\n",
       "   'content': [{'text': {'annotations': [],\n",
       "      'value': 'The content appears to be JSON-formatted data, with each column as a key and the values under each key appearing to correspond to the column data. The error we encountered earlier suggests that this JSON is already structured in a columnar format, with dictionary values containing the row indices and cell values for each column. It was my mistake to check for lists—instead, we should be able to directly create a DataFrame from this data.\\n\\nLet me correct the conversion to DataFrame by handling each JSON column dictionary separately.'},\n",
       "     'type': 'text'}],\n",
       "   'created_at': 1700012265,\n",
       "   'file_ids': [],\n",
       "   'metadata': {},\n",
       "   'object': 'thread.message',\n",
       "   'role': 'assistant',\n",
       "   'run_id': 'run_gmBZmly2a6l8FEQ4zqHnixzh',\n",
       "   'thread_id': 'thread_siTiDz1y95uU20h1cKByjKgu'},\n",
       "  {'id': 'msg_KRqzv58QGwIT1GT9rQ3WCQIx',\n",
       "   'assistant_id': 'asst_ITGfPF8ySQK2qUErH8YMIsop',\n",
       "   'content': [{'text': {'annotations': [],\n",
       "      'value': \"The file content seems not to be of a standard JSON structure suitable for direct conversion to a DataFrame. It appears that the structure is more complex than anticipated.\\n\\nI will attempt to parse the content we extracted and manually transform it into a structured format that can be converted into a DataFrame. Let's first see if we can understand the nested structure more fully by printing a part of the file content.\"},\n",
       "     'type': 'text'}],\n",
       "   'created_at': 1700012257,\n",
       "   'file_ids': [],\n",
       "   'metadata': {},\n",
       "   'object': 'thread.message',\n",
       "   'role': 'assistant',\n",
       "   'run_id': 'run_gmBZmly2a6l8FEQ4zqHnixzh',\n",
       "   'thread_id': 'thread_siTiDz1y95uU20h1cKByjKgu'},\n",
       "  {'id': 'msg_xDxqjxvNTUNCD8uNdPQpAe5j',\n",
       "   'assistant_id': 'asst_ITGfPF8ySQK2qUErH8YMIsop',\n",
       "   'content': [{'text': {'annotations': [],\n",
       "      'value': \"It appears that the data was not read correctly. The dataframe loaded seems to contain a nested JSON-like object instead of a flat table, which is why it's displayed as an empty dataframe with a complex column structure.\\n\\nThe file might be in JSON format or another non-CSV format. I will attempt to load it as a JSON file and inspect its structure. If this is not successful, I might need to try other parsing methods to unravel the file's structure. Let's try loading it as a JSON file next.\"},\n",
       "     'type': 'text'}],\n",
       "   'created_at': 1700012244,\n",
       "   'file_ids': [],\n",
       "   'metadata': {},\n",
       "   'object': 'thread.message',\n",
       "   'role': 'assistant',\n",
       "   'run_id': 'run_gmBZmly2a6l8FEQ4zqHnixzh',\n",
       "   'thread_id': 'thread_siTiDz1y95uU20h1cKByjKgu'},\n",
       "  {'id': 'msg_FA6nmKqnRsmSUM4QfuoEMWxl',\n",
       "   'assistant_id': 'asst_ITGfPF8ySQK2qUErH8YMIsop',\n",
       "   'content': [{'text': {'annotations': [],\n",
       "      'value': \"First, I need to examine the contents of the file in order to understand the data structure. This will allow me to determine how to calculate profits by quarter and year, and subsequently plot the data for the different distribution channels.\\n\\nLet's start by loading the file and taking a look at the first few rows.\"},\n",
       "     'type': 'text'}],\n",
       "   'created_at': 1700012231,\n",
       "   'file_ids': [],\n",
       "   'metadata': {},\n",
       "   'object': 'thread.message',\n",
       "   'role': 'assistant',\n",
       "   'run_id': 'run_gmBZmly2a6l8FEQ4zqHnixzh',\n",
       "   'thread_id': 'thread_siTiDz1y95uU20h1cKByjKgu'},\n",
       "  {'id': 'msg_WT5O98qKQYgJ9NxhAaZiBWpK',\n",
       "   'assistant_id': None,\n",
       "   'content': [{'text': {'annotations': [],\n",
       "      'value': 'Calculate profit (revenue minus cost) by quarter and year, and visualize as a line plot across the distribution channels, where the colors of each line are significantly different'},\n",
       "     'type': 'text'}],\n",
       "   'created_at': 1700012199,\n",
       "   'file_ids': ['file-5qpq4qe3hS6CINFtWNarDYc8'],\n",
       "   'metadata': {},\n",
       "   'object': 'thread.message',\n",
       "   'role': 'user',\n",
       "   'run_id': None,\n",
       "   'thread_id': 'thread_siTiDz1y95uU20h1cKByjKgu'}],\n",
       " 'object': 'list',\n",
       " 'first_id': 'msg_aUY9hpdcbeq1X5VkKqfXaWbH',\n",
       " 'last_id': 'msg_WT5O98qKQYgJ9NxhAaZiBWpK',\n",
       " 'has_more': False}"
      ]
     },
     "metadata": {},
     "output_type": "display_data"
    }
   ],
   "source": [
    "messages = client.beta.threads.messages.list(thread_id=thread.id)\n",
    "show_json(messages)\n",
    "\n",
    "plot_file_id = messages.data[0].content[0].image_file.file_id\n",
    "image_path = \"data/NotRealCorp_plot.png\"\n"
   ]
  },
  {
   "cell_type": "code",
   "execution_count": 73,
   "metadata": {},
   "outputs": [],
   "source": [
    "def convert_file_to_png(file_id, write_path):\n",
    "    data = client.files.content(file_id)\n",
    "    data_bytes = data.read()\n",
    "    with open(write_path, \"wb\") as file:\n",
    "        file.write(data_bytes)\n",
    "\n"
   ]
  },
  {
   "cell_type": "markdown",
   "metadata": {},
   "source": [
    "Let's load in the plot!"
   ]
  },
  {
   "cell_type": "markdown",
   "metadata": {},
   "source": [
    "![Financial data plot](data/NotRealCorp_plot.png)"
   ]
  },
  {
   "cell_type": "markdown",
   "metadata": {},
   "source": [
    "Nice! So, with just one sentence, we were able to have our assistant use code interpreter to\n",
    "calculate the profitability, and graph the three lineplots of the various distribution channels.<br><br>\n",
    "Now we have a nice visual for our slide, but we want some insights to go along with it. Let's use GPT-Vision to help us generate those."
   ]
  },
  {
   "cell_type": "markdown",
   "metadata": {},
   "source": [
    "## Generating insights"
   ]
  },
  {
   "cell_type": "code",
   "execution_count": null,
   "metadata": {},
   "outputs": [],
   "source": [
    "company_summary = \"NotReal Corp is a prominent hardware company that manufactures and sells processors, graphics cards and other essential computer hardware.\"\n"
   ]
  },
  {
   "cell_type": "markdown",
   "metadata": {},
   "source": [
    "First lets encode the image"
   ]
  },
  {
   "cell_type": "code",
   "execution_count": null,
   "metadata": {},
   "outputs": [],
   "source": [
    "# Function to encode the image\n",
    "def encode_image(image_path):\n",
    "  with open(image_path, \"rb\") as image_file:\n",
    "    return base64.b64encode(image_file.read()).decode('utf-8')\n",
    "\n",
    "# Getting the base64 string\n",
    "base64_image = encode_image(image_path)\n"
   ]
  },
  {
   "cell_type": "code",
   "execution_count": 46,
   "metadata": {},
   "outputs": [],
   "source": [
    "# submit_message(assistant_id,thread,\"Give me two concise bullets of the \\\n",
    "#       most important takeaways and insights from the plot you just created.\\\n",
    "#              These will be used for a slide deck, so keep them brief and informative,\\\n",
    "#                  but they should be more than just a summary, they should be the\\\n",
    "#                      'so what' behind the data.\"\n",
    "# )\n",
    "\n",
    "response = get_response(thread)\n",
    "#get the bullet points\n",
    "bullet_points = response.data[0].content[0].text.value\n"
   ]
  },
  {
   "cell_type": "code",
   "execution_count": 47,
   "metadata": {},
   "outputs": [
    {
     "data": {
      "text/plain": [
       "\"- **Seasonal Fluctuations Indicated**: Profit trends exhibit a cyclical pattern within each year, suggesting that certain quarters may consistently outperform or underperform others across the distribution channels. This insight can be leveraged for strategic planning and forecasting, indicating that particular attention should be paid to optimizing operations and marketing efforts during peak and off-peak seasons to maximize profitability.\\n\\n- **Channel Performance Disparity**: There are evident disparities in profit generation between distribution channels. For example, 'Retail Partners' may represent a more stable and generally higher profit stream, while 'Direct Sales' and 'Online Sales' show more variation and occasionally lag behind. This suggests a need to evaluate the effectiveness of each channel's strategy and possibly redistribute investments to enhance the overall profitability and balance of the revenue mix.\""
      ]
     },
     "execution_count": 47,
     "metadata": {},
     "output_type": "execute_result"
    }
   ],
   "source": [
    "bullet_points\n"
   ]
  },
  {
   "cell_type": "markdown",
   "metadata": {},
   "source": [
    "Cool! Now we have some insight to accompany our plot. Let's get a compelling title for the slide."
   ]
  },
  {
   "cell_type": "code",
   "execution_count": 58,
   "metadata": {},
   "outputs": [],
   "source": [
    "submit_message(assistant_id,thread,\"Given the plot and bullet points you created,\\\n",
    " come up with a brief title for a slide. It should reflect the insights you came up with.\"\n",
    ")\n",
    "response = get_response(thread)\n",
    "#get the bullet points\n",
    "title = response.data[0].content[0].text.value\n",
    "#title = \"Maximizing Returns: Navigating Seasonal Peaks and Channel Dynamics\"\n"
   ]
  },
  {
   "cell_type": "markdown",
   "metadata": {},
   "source": [
    "Nice, now we have a title, a plot and two bullet points. As a final step, let's have DALL-E3 come up with an image to use as the title slide of the presentation. <br><br>\n",
    "To do this, we just need to ask our Assistant!"
   ]
  },
  {
   "cell_type": "code",
   "execution_count": 60,
   "metadata": {},
   "outputs": [
    {
     "data": {
      "text/plain": [
       "Run(id='run_1Y5bPVSWrNgUoDAHUG6wnSbv', assistant_id='asst_ITGfPF8ySQK2qUErH8YMIsop', cancelled_at=None, completed_at=None, created_at=1700013279, expires_at=1700013879, failed_at=None, file_ids=['file-lGWbUeGIC5PDxh8SkqSqEDw8'], instructions='You are a data scientist assistant. When given data and a query, write the proper code and create the proper visualization', last_error=None, metadata={}, model='gpt-4-1106-preview', object='thread.run', required_action=None, started_at=None, status='queued', thread_id='thread_siTiDz1y95uU20h1cKByjKgu', tools=[ToolAssistantToolsCode(type='code_interpreter')])"
      ]
     },
     "execution_count": 60,
     "metadata": {},
     "output_type": "execute_result"
    }
   ],
   "source": [
    "submit_message(assistant_id,thread,\"Generate an image that represents our company NotRealCorp and \\\n",
    "the trajectory we are on! It should have an inspirational tone\"\n",
    ")\n"
   ]
  },
  {
   "cell_type": "code",
   "execution_count": 61,
   "metadata": {},
   "outputs": [],
   "source": [
    "response = get_response(thread)\n"
   ]
  },
  {
   "cell_type": "code",
   "execution_count": 63,
   "metadata": {},
   "outputs": [],
   "source": [
    "messages = client.beta.threads.messages.list(thread_id=thread.id)\n"
   ]
  },
  {
   "cell_type": "code",
   "execution_count": 75,
   "metadata": {},
   "outputs": [],
   "source": [
    "title_img_file_id = messages.data[0].content[0].image_file.file_id\n",
    "title_img_write_path = 'data/NotRealCorp_title_image.png'\n",
    "\n"
   ]
  },
  {
   "cell_type": "code",
   "execution_count": 92,
   "metadata": {},
   "outputs": [
    {
     "data": {
      "text/plain": [
       "[ThreadMessage(id='msg_ujCSns8vpJTFpZnXXeCDopx2', assistant_id='asst_ITGfPF8ySQK2qUErH8YMIsop', content=[MessageContentImageFile(image_file=ImageFile(file_id='file-wbr9e8peOrcsUOSANlS6WxnK'), type='image_file'), MessageContentText(text=Text(annotations=[TextAnnotationFilePath(end_index=345, file_path=TextAnnotationFilePathFilePath(file_id='file-17N9sra9Tz5yRt8QdSq5sZtj'), start_index=292, text='sandbox:/mnt/data/notrealcorp_inspirational_image.png', type='file_path')], value='I have created an inspirational image that reflects an upward trajectory and a sense of new beginnings for NotRealCorp, showing a sunrise and an ascending path to symbolize growth and progress.\\n\\nYou can download the image using the following link:\\n\\n[Download NotRealCorp Inspirational Image](sandbox:/mnt/data/notrealcorp_inspirational_image.png)'), type='text')], created_at=1700013308, file_ids=['file-17N9sra9Tz5yRt8QdSq5sZtj'], metadata={}, object='thread.message', role='assistant', run_id='run_1Y5bPVSWrNgUoDAHUG6wnSbv', thread_id='thread_siTiDz1y95uU20h1cKByjKgu'),\n",
       " ThreadMessage(id='msg_K06V6gYEzGCcgAI7VYW2WsHc', assistant_id='asst_ITGfPF8ySQK2qUErH8YMIsop', content=[MessageContentText(text=Text(annotations=[], value=\"Creating a fitting company image with an inspirational tone requires understanding NotRealCorp's brand, values, and the trajectory it aims to represent. Since NotRealCorp is a fictional entity, I will use general elements that often signify growth, progress, and inspiration.\\n\\nLet's design an image with:\\n\\n- An upward trajectory symbolizing growth and forward momentum.\\n- Elements like a sunrise or horizon to represent a positive outlook and new beginnings.\\n- The company's name and possibly an abstract logo.\\n\\nSince I don't have existing branding elements for NotRealCorp, I'll create a concept from scratch with these themes in mind. Here's a depiction:\"), type='text')], created_at=1700013280, file_ids=[], metadata={}, object='thread.message', role='assistant', run_id='run_1Y5bPVSWrNgUoDAHUG6wnSbv', thread_id='thread_siTiDz1y95uU20h1cKByjKgu'),\n",
       " ThreadMessage(id='msg_izFO9C4d4cr9fEKdXSxJLuTD', assistant_id=None, content=[MessageContentText(text=Text(annotations=[], value='Generate an image that represents our company NotRealCorp and the trajectory we are on! It should have an inspirational tone'), type='text')], created_at=1700013279, file_ids=[], metadata={}, object='thread.message', role='user', run_id=None, thread_id='thread_siTiDz1y95uU20h1cKByjKgu'),\n",
       " ThreadMessage(id='msg_Ha62EOcWo8dMchcnGhiVDJZh', assistant_id='asst_ITGfPF8ySQK2qUErH8YMIsop', content=[MessageContentText(text=Text(annotations=[], value='\"Seasonality & Channel Effectiveness: Key to Profit Optimization\"'), type='text')], created_at=1700013097, file_ids=[], metadata={}, object='thread.message', role='assistant', run_id='run_HaThtZ7HTNQKsCrPFSF8yJGl', thread_id='thread_siTiDz1y95uU20h1cKByjKgu'),\n",
       " ThreadMessage(id='msg_bkhJQEwjyoIyVQUtjBmfWKs0', assistant_id=None, content=[MessageContentText(text=Text(annotations=[], value='Given the plot and bullet points you created, come up with a brief title for a slide. It should reflect the insights you came up with.'), type='text')], created_at=1700013095, file_ids=[], metadata={}, object='thread.message', role='user', run_id=None, thread_id='thread_siTiDz1y95uU20h1cKByjKgu'),\n",
       " ThreadMessage(id='msg_V5ql3AYSNKNlEyMI3fXjhT7Q', assistant_id='asst_ITGfPF8ySQK2qUErH8YMIsop', content=[MessageContentText(text=Text(annotations=[], value='\"Maximizing Returns: Navigating Seasonal Peaks and Channel Dynamics\"'), type='text')], created_at=1700013087, file_ids=[], metadata={}, object='thread.message', role='assistant', run_id='run_UrrS7IR8pskk7FF7JImIxbrl', thread_id='thread_siTiDz1y95uU20h1cKByjKgu'),\n",
       " ThreadMessage(id='msg_DT8t93b37425llFk5pweaj41', assistant_id=None, content=[MessageContentText(text=Text(annotations=[], value='Given the plot and bullet points you created, come up with a brief title for a slide. It should reflect the insights you came up with.'), type='text')], created_at=1700013085, file_ids=[], metadata={}, object='thread.message', role='user', run_id=None, thread_id='thread_siTiDz1y95uU20h1cKByjKgu'),\n",
       " ThreadMessage(id='msg_W7qep17KdrliXrLOgmavH9Io', assistant_id='asst_ITGfPF8ySQK2qUErH8YMIsop', content=[MessageContentText(text=Text(annotations=[], value='\"Profit Analysis by Channel: Seasonal Trends and Strategic Opportunities\"'), type='text')], created_at=1700013037, file_ids=[], metadata={}, object='thread.message', role='assistant', run_id='run_jdjztvF9UY88YUiiuzUoALFY', thread_id='thread_siTiDz1y95uU20h1cKByjKgu'),\n",
       " ThreadMessage(id='msg_Dp1GTRGrbSFFhUjEqjrpDu9q', assistant_id=None, content=[MessageContentText(text=Text(annotations=[], value='Given the plot and bullet points you created, come up with a brief title for a slide.'), type='text')], created_at=1700013036, file_ids=[], metadata={}, object='thread.message', role='user', run_id=None, thread_id='thread_siTiDz1y95uU20h1cKByjKgu'),\n",
       " ThreadMessage(id='msg_4DBkKEqL5myXNQ9sm1NWEbs6', assistant_id='asst_ITGfPF8ySQK2qUErH8YMIsop', content=[MessageContentText(text=Text(annotations=[], value=\"- **Seasonal Fluctuations Indicated**: Profit trends exhibit a cyclical pattern within each year, suggesting that certain quarters may consistently outperform or underperform others across the distribution channels. This insight can be leveraged for strategic planning and forecasting, indicating that particular attention should be paid to optimizing operations and marketing efforts during peak and off-peak seasons to maximize profitability.\\n\\n- **Channel Performance Disparity**: There are evident disparities in profit generation between distribution channels. For example, 'Retail Partners' may represent a more stable and generally higher profit stream, while 'Direct Sales' and 'Online Sales' show more variation and occasionally lag behind. This suggests a need to evaluate the effectiveness of each channel's strategy and possibly redistribute investments to enhance the overall profitability and balance of the revenue mix.\"), type='text')], created_at=1700012578, file_ids=[], metadata={}, object='thread.message', role='assistant', run_id='run_V2NhGC8Go6pa5H2IbSWsWuvU', thread_id='thread_siTiDz1y95uU20h1cKByjKgu'),\n",
       " ThreadMessage(id='msg_E7i2ffnXnF46ZqYe031pKAyT', assistant_id=None, content=[MessageContentText(text=Text(annotations=[], value=\"Give me two concise bullets of the       most important takeaways and insights from the plot you just created.             These will be used for a slide deck, so keep them brief and informative,                 but they should be more than just a summary, they should be the                     'so what' behind the data.\"), type='text')], created_at=1700012577, file_ids=[], metadata={}, object='thread.message', role='user', run_id=None, thread_id='thread_siTiDz1y95uU20h1cKByjKgu'),\n",
       " ThreadMessage(id='msg_aUY9hpdcbeq1X5VkKqfXaWbH', assistant_id='asst_ITGfPF8ySQK2qUErH8YMIsop', content=[MessageContentImageFile(image_file=ImageFile(file_id='file-10tOO4QmT4ymhNIfqLrh237N'), type='image_file'), MessageContentText(text=Text(annotations=[], value='Here is the line plot visualizing the profit per quarter and year across the different distribution channels. Each distribution channel is represented by a line with a unique color, as requested.\\n\\nThe plot shows the trend of profit over time for each channel, allowing you to easily compare their performance.'), type='text')], created_at=1700012299, file_ids=[], metadata={}, object='thread.message', role='assistant', run_id='run_gmBZmly2a6l8FEQ4zqHnixzh', thread_id='thread_siTiDz1y95uU20h1cKByjKgu'),\n",
       " ThreadMessage(id='msg_Tkc9pamwW4U9CEWGg6u7Exkb', assistant_id='asst_ITGfPF8ySQK2qUErH8YMIsop', content=[MessageContentText(text=Text(annotations=[], value='The profits have been successfully calculated and pivoted for plotting. Now I will create a line plot to visualize the profit per quarter and year across different distribution channels with significantly different colors for each line.'), type='text')], created_at=1700012286, file_ids=[], metadata={}, object='thread.message', role='assistant', run_id='run_gmBZmly2a6l8FEQ4zqHnixzh', thread_id='thread_siTiDz1y95uU20h1cKByjKgu'),\n",
       " ThreadMessage(id='msg_PQ0lQLXonJued1QAcZUa4c1U', assistant_id='asst_ITGfPF8ySQK2qUErH8YMIsop', content=[MessageContentText(text=Text(annotations=[], value=\"The data has now been correctly loaded into the DataFrame. Before calculating the profit, let's create a new column 'Profit' in the DataFrame which is the difference between 'Revenue ($M)' and 'Costs ($M)'.\\n\\nOnce we have the profits calculated, I will group the data by 'Year', 'Quarter', and 'Distribution channel' to get profits per quarter and year for each distribution channel, and then visualize the results with a line plot. The graph will have separate lines for each distribution channel with significantly different colors. Let's start with the calculations.\"), type='text')], created_at=1700012274, file_ids=[], metadata={}, object='thread.message', role='assistant', run_id='run_gmBZmly2a6l8FEQ4zqHnixzh', thread_id='thread_siTiDz1y95uU20h1cKByjKgu'),\n",
       " ThreadMessage(id='msg_RVHhGgK5HlRviSXG0PM5kcHH', assistant_id='asst_ITGfPF8ySQK2qUErH8YMIsop', content=[MessageContentText(text=Text(annotations=[], value='The content appears to be JSON-formatted data, with each column as a key and the values under each key appearing to correspond to the column data. The error we encountered earlier suggests that this JSON is already structured in a columnar format, with dictionary values containing the row indices and cell values for each column. It was my mistake to check for lists—instead, we should be able to directly create a DataFrame from this data.\\n\\nLet me correct the conversion to DataFrame by handling each JSON column dictionary separately.'), type='text')], created_at=1700012265, file_ids=[], metadata={}, object='thread.message', role='assistant', run_id='run_gmBZmly2a6l8FEQ4zqHnixzh', thread_id='thread_siTiDz1y95uU20h1cKByjKgu'),\n",
       " ThreadMessage(id='msg_KRqzv58QGwIT1GT9rQ3WCQIx', assistant_id='asst_ITGfPF8ySQK2qUErH8YMIsop', content=[MessageContentText(text=Text(annotations=[], value=\"The file content seems not to be of a standard JSON structure suitable for direct conversion to a DataFrame. It appears that the structure is more complex than anticipated.\\n\\nI will attempt to parse the content we extracted and manually transform it into a structured format that can be converted into a DataFrame. Let's first see if we can understand the nested structure more fully by printing a part of the file content.\"), type='text')], created_at=1700012257, file_ids=[], metadata={}, object='thread.message', role='assistant', run_id='run_gmBZmly2a6l8FEQ4zqHnixzh', thread_id='thread_siTiDz1y95uU20h1cKByjKgu'),\n",
       " ThreadMessage(id='msg_xDxqjxvNTUNCD8uNdPQpAe5j', assistant_id='asst_ITGfPF8ySQK2qUErH8YMIsop', content=[MessageContentText(text=Text(annotations=[], value=\"It appears that the data was not read correctly. The dataframe loaded seems to contain a nested JSON-like object instead of a flat table, which is why it's displayed as an empty dataframe with a complex column structure.\\n\\nThe file might be in JSON format or another non-CSV format. I will attempt to load it as a JSON file and inspect its structure. If this is not successful, I might need to try other parsing methods to unravel the file's structure. Let's try loading it as a JSON file next.\"), type='text')], created_at=1700012244, file_ids=[], metadata={}, object='thread.message', role='assistant', run_id='run_gmBZmly2a6l8FEQ4zqHnixzh', thread_id='thread_siTiDz1y95uU20h1cKByjKgu'),\n",
       " ThreadMessage(id='msg_FA6nmKqnRsmSUM4QfuoEMWxl', assistant_id='asst_ITGfPF8ySQK2qUErH8YMIsop', content=[MessageContentText(text=Text(annotations=[], value=\"First, I need to examine the contents of the file in order to understand the data structure. This will allow me to determine how to calculate profits by quarter and year, and subsequently plot the data for the different distribution channels.\\n\\nLet's start by loading the file and taking a look at the first few rows.\"), type='text')], created_at=1700012231, file_ids=[], metadata={}, object='thread.message', role='assistant', run_id='run_gmBZmly2a6l8FEQ4zqHnixzh', thread_id='thread_siTiDz1y95uU20h1cKByjKgu'),\n",
       " ThreadMessage(id='msg_WT5O98qKQYgJ9NxhAaZiBWpK', assistant_id=None, content=[MessageContentText(text=Text(annotations=[], value='Calculate profit (revenue minus cost) by quarter and year, and visualize as a line plot across the distribution channels, where the colors of each line are significantly different'), type='text')], created_at=1700012199, file_ids=['file-5qpq4qe3hS6CINFtWNarDYc8'], metadata={}, object='thread.message', role='user', run_id=None, thread_id='thread_siTiDz1y95uU20h1cKByjKgu')]"
      ]
     },
     "execution_count": 92,
     "metadata": {},
     "output_type": "execute_result"
    }
   ],
   "source": [
    "messages.data\n"
   ]
  },
  {
   "cell_type": "code",
   "execution_count": 89,
   "metadata": {},
   "outputs": [
    {
     "data": {
      "text/plain": [
       "'file-wbr9e8peOrcsUOSANlS6WxnK'"
      ]
     },
     "execution_count": 89,
     "metadata": {},
     "output_type": "execute_result"
    }
   ],
   "source": [
    "messages.data[0].content[0].image_file.file_ida\n"
   ]
  },
  {
   "cell_type": "code",
   "execution_count": null,
   "metadata": {},
   "outputs": [],
   "source": [
    "title_img_file_id = messages.data[0].content[0].image_file.file_id\n",
    "title_img_write_path = 'data/NotRealCorp_title_image.png'\n",
    "\n"
   ]
  },
  {
   "cell_type": "code",
   "execution_count": 97,
   "metadata": {},
   "outputs": [
    {
     "ename": "NotFoundError",
     "evalue": "Error code: 404 - {'error': {'message': 'Invalid URL (GET /v1/files/mnt/data/notrealcorp_inspirational_image.png/content)', 'type': 'invalid_request_error', 'param': None, 'code': None}}",
     "output_type": "error",
     "traceback": [
      "\u001b[0;31m---------------------------------------------------------------------------\u001b[0m",
      "\u001b[0;31mNotFoundError\u001b[0m                             Traceback (most recent call last)",
      "\u001b[1;32m/Users/james.hills/Projects/openai-cookbook/examples/Creating_slides_with_DALL-E3_and_GPT_4.ipynb Cell 44\u001b[0m line \u001b[0;36m1\n\u001b[0;32m----> <a href='vscode-notebook-cell:/Users/james.hills/Projects/openai-cookbook/examples/Creating_slides_with_DALL-E3_and_GPT_4.ipynb#Y163sZmlsZQ%3D%3D?line=0'>1</a>\u001b[0m client\u001b[39m.\u001b[39;49mfiles\u001b[39m.\u001b[39;49mcontent(\u001b[39m'\u001b[39;49m\u001b[39m/mnt/data/notrealcorp_inspirational_image.png\u001b[39;49m\u001b[39m'\u001b[39;49m)\n",
      "File \u001b[0;32m~/.pyenv/versions/3.9.16/envs/openai-cookbook/lib/python3.9/site-packages/openai/resources/files.py:228\u001b[0m, in \u001b[0;36mFiles.content\u001b[0;34m(self, file_id, extra_headers, extra_query, extra_body, timeout)\u001b[0m\n\u001b[1;32m    205\u001b[0m \u001b[39mdef\u001b[39;00m \u001b[39mcontent\u001b[39m(\n\u001b[1;32m    206\u001b[0m     \u001b[39mself\u001b[39m,\n\u001b[1;32m    207\u001b[0m     file_id: \u001b[39mstr\u001b[39m,\n\u001b[0;32m   (...)\u001b[0m\n\u001b[1;32m    214\u001b[0m     timeout: \u001b[39mfloat\u001b[39m \u001b[39m|\u001b[39m httpx\u001b[39m.\u001b[39mTimeout \u001b[39m|\u001b[39m \u001b[39mNone\u001b[39;00m \u001b[39m|\u001b[39m NotGiven \u001b[39m=\u001b[39m NOT_GIVEN,\n\u001b[1;32m    215\u001b[0m ) \u001b[39m-\u001b[39m\u001b[39m>\u001b[39m HttpxBinaryResponseContent:\n\u001b[1;32m    216\u001b[0m \u001b[39m    \u001b[39m\u001b[39m\"\"\"\u001b[39;00m\n\u001b[1;32m    217\u001b[0m \u001b[39m    Returns the contents of the specified file.\u001b[39;00m\n\u001b[1;32m    218\u001b[0m \n\u001b[0;32m   (...)\u001b[0m\n\u001b[1;32m    226\u001b[0m \u001b[39m      timeout: Override the client-level default timeout for this request, in seconds\u001b[39;00m\n\u001b[1;32m    227\u001b[0m \u001b[39m    \"\"\"\u001b[39;00m\n\u001b[0;32m--> 228\u001b[0m     \u001b[39mreturn\u001b[39;00m \u001b[39mself\u001b[39;49m\u001b[39m.\u001b[39;49m_get(\n\u001b[1;32m    229\u001b[0m         \u001b[39mf\u001b[39;49m\u001b[39m\"\u001b[39;49m\u001b[39m/files/\u001b[39;49m\u001b[39m{\u001b[39;49;00mfile_id\u001b[39m}\u001b[39;49;00m\u001b[39m/content\u001b[39;49m\u001b[39m\"\u001b[39;49m,\n\u001b[1;32m    230\u001b[0m         options\u001b[39m=\u001b[39;49mmake_request_options(\n\u001b[1;32m    231\u001b[0m             extra_headers\u001b[39m=\u001b[39;49mextra_headers, extra_query\u001b[39m=\u001b[39;49mextra_query, extra_body\u001b[39m=\u001b[39;49mextra_body, timeout\u001b[39m=\u001b[39;49mtimeout\n\u001b[1;32m    232\u001b[0m         ),\n\u001b[1;32m    233\u001b[0m         cast_to\u001b[39m=\u001b[39;49mHttpxBinaryResponseContent,\n\u001b[1;32m    234\u001b[0m     )\n",
      "File \u001b[0;32m~/.pyenv/versions/3.9.16/envs/openai-cookbook/lib/python3.9/site-packages/openai/_base_client.py:998\u001b[0m, in \u001b[0;36mSyncAPIClient.get\u001b[0;34m(self, path, cast_to, options, stream, stream_cls)\u001b[0m\n\u001b[1;32m    995\u001b[0m opts \u001b[39m=\u001b[39m FinalRequestOptions\u001b[39m.\u001b[39mconstruct(method\u001b[39m=\u001b[39m\u001b[39m\"\u001b[39m\u001b[39mget\u001b[39m\u001b[39m\"\u001b[39m, url\u001b[39m=\u001b[39mpath, \u001b[39m*\u001b[39m\u001b[39m*\u001b[39moptions)\n\u001b[1;32m    996\u001b[0m \u001b[39m# cast is required because mypy complains about returning Any even though\u001b[39;00m\n\u001b[1;32m    997\u001b[0m \u001b[39m# it understands the type variables\u001b[39;00m\n\u001b[0;32m--> 998\u001b[0m \u001b[39mreturn\u001b[39;00m cast(ResponseT, \u001b[39mself\u001b[39;49m\u001b[39m.\u001b[39;49mrequest(cast_to, opts, stream\u001b[39m=\u001b[39;49mstream, stream_cls\u001b[39m=\u001b[39;49mstream_cls))\n",
      "File \u001b[0;32m~/.pyenv/versions/3.9.16/envs/openai-cookbook/lib/python3.9/site-packages/openai/_base_client.py:834\u001b[0m, in \u001b[0;36mSyncAPIClient.request\u001b[0;34m(self, cast_to, options, remaining_retries, stream, stream_cls)\u001b[0m\n\u001b[1;32m    825\u001b[0m \u001b[39mdef\u001b[39;00m \u001b[39mrequest\u001b[39m(\n\u001b[1;32m    826\u001b[0m     \u001b[39mself\u001b[39m,\n\u001b[1;32m    827\u001b[0m     cast_to: Type[ResponseT],\n\u001b[0;32m   (...)\u001b[0m\n\u001b[1;32m    832\u001b[0m     stream_cls: \u001b[39mtype\u001b[39m[_StreamT] \u001b[39m|\u001b[39m \u001b[39mNone\u001b[39;00m \u001b[39m=\u001b[39m \u001b[39mNone\u001b[39;00m,\n\u001b[1;32m    833\u001b[0m ) \u001b[39m-\u001b[39m\u001b[39m>\u001b[39m ResponseT \u001b[39m|\u001b[39m _StreamT:\n\u001b[0;32m--> 834\u001b[0m     \u001b[39mreturn\u001b[39;00m \u001b[39mself\u001b[39;49m\u001b[39m.\u001b[39;49m_request(\n\u001b[1;32m    835\u001b[0m         cast_to\u001b[39m=\u001b[39;49mcast_to,\n\u001b[1;32m    836\u001b[0m         options\u001b[39m=\u001b[39;49moptions,\n\u001b[1;32m    837\u001b[0m         stream\u001b[39m=\u001b[39;49mstream,\n\u001b[1;32m    838\u001b[0m         stream_cls\u001b[39m=\u001b[39;49mstream_cls,\n\u001b[1;32m    839\u001b[0m         remaining_retries\u001b[39m=\u001b[39;49mremaining_retries,\n\u001b[1;32m    840\u001b[0m     )\n",
      "File \u001b[0;32m~/.pyenv/versions/3.9.16/envs/openai-cookbook/lib/python3.9/site-packages/openai/_base_client.py:877\u001b[0m, in \u001b[0;36mSyncAPIClient._request\u001b[0;34m(self, cast_to, options, remaining_retries, stream, stream_cls)\u001b[0m\n\u001b[1;32m    874\u001b[0m     \u001b[39m# If the response is streamed then we need to explicitly read the response\u001b[39;00m\n\u001b[1;32m    875\u001b[0m     \u001b[39m# to completion before attempting to access the response text.\u001b[39;00m\n\u001b[1;32m    876\u001b[0m     err\u001b[39m.\u001b[39mresponse\u001b[39m.\u001b[39mread()\n\u001b[0;32m--> 877\u001b[0m     \u001b[39mraise\u001b[39;00m \u001b[39mself\u001b[39m\u001b[39m.\u001b[39m_make_status_error_from_response(err\u001b[39m.\u001b[39mresponse) \u001b[39mfrom\u001b[39;00m \u001b[39mNone\u001b[39;00m\n\u001b[1;32m    878\u001b[0m \u001b[39mexcept\u001b[39;00m httpx\u001b[39m.\u001b[39mTimeoutException \u001b[39mas\u001b[39;00m err:\n\u001b[1;32m    879\u001b[0m     \u001b[39mif\u001b[39;00m retries \u001b[39m>\u001b[39m \u001b[39m0\u001b[39m:\n",
      "\u001b[0;31mNotFoundError\u001b[0m: Error code: 404 - {'error': {'message': 'Invalid URL (GET /v1/files/mnt/data/notrealcorp_inspirational_image.png/content)', 'type': 'invalid_request_error', 'param': None, 'code': None}}"
     ]
    }
   ],
   "source": [
    "client.files.content('mnt/data/notrealcorp_inspirational_image.png')\n"
   ]
  },
  {
   "cell_type": "code",
   "execution_count": 81,
   "metadata": {},
   "outputs": [
    {
     "ename": "NotFoundError",
     "evalue": "Error code: 404 - {'error': {'message': 'No such File object: file-wbr9e8peOrcsUOSANlS6WxnK', 'type': 'invalid_request_error', 'param': 'id', 'code': None}}",
     "output_type": "error",
     "traceback": [
      "\u001b[0;31m---------------------------------------------------------------------------\u001b[0m",
      "\u001b[0;31mNotFoundError\u001b[0m                             Traceback (most recent call last)",
      "\u001b[1;32m/Users/james.hills/Projects/openai-cookbook/examples/Creating_slides_with_DALL-E3_and_GPT_4.ipynb Cell 43\u001b[0m line \u001b[0;36m1\n\u001b[0;32m----> <a href='vscode-notebook-cell:/Users/james.hills/Projects/openai-cookbook/examples/Creating_slides_with_DALL-E3_and_GPT_4.ipynb#Y160sZmlsZQ%3D%3D?line=0'>1</a>\u001b[0m convert_file_to_png(title_img_file_id,title_img_write_path)\n",
      "\u001b[1;32m/Users/james.hills/Projects/openai-cookbook/examples/Creating_slides_with_DALL-E3_and_GPT_4.ipynb Cell 43\u001b[0m line \u001b[0;36m2\n\u001b[1;32m      <a href='vscode-notebook-cell:/Users/james.hills/Projects/openai-cookbook/examples/Creating_slides_with_DALL-E3_and_GPT_4.ipynb#Y160sZmlsZQ%3D%3D?line=0'>1</a>\u001b[0m \u001b[39mdef\u001b[39;00m \u001b[39mconvert_file_to_png\u001b[39m(file_id, write_path):\n\u001b[0;32m----> <a href='vscode-notebook-cell:/Users/james.hills/Projects/openai-cookbook/examples/Creating_slides_with_DALL-E3_and_GPT_4.ipynb#Y160sZmlsZQ%3D%3D?line=1'>2</a>\u001b[0m     data \u001b[39m=\u001b[39m client\u001b[39m.\u001b[39;49mfiles\u001b[39m.\u001b[39;49mcontent(file_id)\n\u001b[1;32m      <a href='vscode-notebook-cell:/Users/james.hills/Projects/openai-cookbook/examples/Creating_slides_with_DALL-E3_and_GPT_4.ipynb#Y160sZmlsZQ%3D%3D?line=2'>3</a>\u001b[0m     data_bytes \u001b[39m=\u001b[39m data\u001b[39m.\u001b[39mread()\n\u001b[1;32m      <a href='vscode-notebook-cell:/Users/james.hills/Projects/openai-cookbook/examples/Creating_slides_with_DALL-E3_and_GPT_4.ipynb#Y160sZmlsZQ%3D%3D?line=3'>4</a>\u001b[0m     \u001b[39mwith\u001b[39;00m \u001b[39mopen\u001b[39m(write_path, \u001b[39m\"\u001b[39m\u001b[39mwb\u001b[39m\u001b[39m\"\u001b[39m) \u001b[39mas\u001b[39;00m file:\n",
      "File \u001b[0;32m~/.pyenv/versions/3.9.16/envs/openai-cookbook/lib/python3.9/site-packages/openai/resources/files.py:228\u001b[0m, in \u001b[0;36mFiles.content\u001b[0;34m(self, file_id, extra_headers, extra_query, extra_body, timeout)\u001b[0m\n\u001b[1;32m    205\u001b[0m \u001b[39mdef\u001b[39;00m \u001b[39mcontent\u001b[39m(\n\u001b[1;32m    206\u001b[0m     \u001b[39mself\u001b[39m,\n\u001b[1;32m    207\u001b[0m     file_id: \u001b[39mstr\u001b[39m,\n\u001b[0;32m   (...)\u001b[0m\n\u001b[1;32m    214\u001b[0m     timeout: \u001b[39mfloat\u001b[39m \u001b[39m|\u001b[39m httpx\u001b[39m.\u001b[39mTimeout \u001b[39m|\u001b[39m \u001b[39mNone\u001b[39;00m \u001b[39m|\u001b[39m NotGiven \u001b[39m=\u001b[39m NOT_GIVEN,\n\u001b[1;32m    215\u001b[0m ) \u001b[39m-\u001b[39m\u001b[39m>\u001b[39m HttpxBinaryResponseContent:\n\u001b[1;32m    216\u001b[0m \u001b[39m    \u001b[39m\u001b[39m\"\"\"\u001b[39;00m\n\u001b[1;32m    217\u001b[0m \u001b[39m    Returns the contents of the specified file.\u001b[39;00m\n\u001b[1;32m    218\u001b[0m \n\u001b[0;32m   (...)\u001b[0m\n\u001b[1;32m    226\u001b[0m \u001b[39m      timeout: Override the client-level default timeout for this request, in seconds\u001b[39;00m\n\u001b[1;32m    227\u001b[0m \u001b[39m    \"\"\"\u001b[39;00m\n\u001b[0;32m--> 228\u001b[0m     \u001b[39mreturn\u001b[39;00m \u001b[39mself\u001b[39;49m\u001b[39m.\u001b[39;49m_get(\n\u001b[1;32m    229\u001b[0m         \u001b[39mf\u001b[39;49m\u001b[39m\"\u001b[39;49m\u001b[39m/files/\u001b[39;49m\u001b[39m{\u001b[39;49;00mfile_id\u001b[39m}\u001b[39;49;00m\u001b[39m/content\u001b[39;49m\u001b[39m\"\u001b[39;49m,\n\u001b[1;32m    230\u001b[0m         options\u001b[39m=\u001b[39;49mmake_request_options(\n\u001b[1;32m    231\u001b[0m             extra_headers\u001b[39m=\u001b[39;49mextra_headers, extra_query\u001b[39m=\u001b[39;49mextra_query, extra_body\u001b[39m=\u001b[39;49mextra_body, timeout\u001b[39m=\u001b[39;49mtimeout\n\u001b[1;32m    232\u001b[0m         ),\n\u001b[1;32m    233\u001b[0m         cast_to\u001b[39m=\u001b[39;49mHttpxBinaryResponseContent,\n\u001b[1;32m    234\u001b[0m     )\n",
      "File \u001b[0;32m~/.pyenv/versions/3.9.16/envs/openai-cookbook/lib/python3.9/site-packages/openai/_base_client.py:998\u001b[0m, in \u001b[0;36mSyncAPIClient.get\u001b[0;34m(self, path, cast_to, options, stream, stream_cls)\u001b[0m\n\u001b[1;32m    995\u001b[0m opts \u001b[39m=\u001b[39m FinalRequestOptions\u001b[39m.\u001b[39mconstruct(method\u001b[39m=\u001b[39m\u001b[39m\"\u001b[39m\u001b[39mget\u001b[39m\u001b[39m\"\u001b[39m, url\u001b[39m=\u001b[39mpath, \u001b[39m*\u001b[39m\u001b[39m*\u001b[39moptions)\n\u001b[1;32m    996\u001b[0m \u001b[39m# cast is required because mypy complains about returning Any even though\u001b[39;00m\n\u001b[1;32m    997\u001b[0m \u001b[39m# it understands the type variables\u001b[39;00m\n\u001b[0;32m--> 998\u001b[0m \u001b[39mreturn\u001b[39;00m cast(ResponseT, \u001b[39mself\u001b[39;49m\u001b[39m.\u001b[39;49mrequest(cast_to, opts, stream\u001b[39m=\u001b[39;49mstream, stream_cls\u001b[39m=\u001b[39;49mstream_cls))\n",
      "File \u001b[0;32m~/.pyenv/versions/3.9.16/envs/openai-cookbook/lib/python3.9/site-packages/openai/_base_client.py:834\u001b[0m, in \u001b[0;36mSyncAPIClient.request\u001b[0;34m(self, cast_to, options, remaining_retries, stream, stream_cls)\u001b[0m\n\u001b[1;32m    825\u001b[0m \u001b[39mdef\u001b[39;00m \u001b[39mrequest\u001b[39m(\n\u001b[1;32m    826\u001b[0m     \u001b[39mself\u001b[39m,\n\u001b[1;32m    827\u001b[0m     cast_to: Type[ResponseT],\n\u001b[0;32m   (...)\u001b[0m\n\u001b[1;32m    832\u001b[0m     stream_cls: \u001b[39mtype\u001b[39m[_StreamT] \u001b[39m|\u001b[39m \u001b[39mNone\u001b[39;00m \u001b[39m=\u001b[39m \u001b[39mNone\u001b[39;00m,\n\u001b[1;32m    833\u001b[0m ) \u001b[39m-\u001b[39m\u001b[39m>\u001b[39m ResponseT \u001b[39m|\u001b[39m _StreamT:\n\u001b[0;32m--> 834\u001b[0m     \u001b[39mreturn\u001b[39;00m \u001b[39mself\u001b[39;49m\u001b[39m.\u001b[39;49m_request(\n\u001b[1;32m    835\u001b[0m         cast_to\u001b[39m=\u001b[39;49mcast_to,\n\u001b[1;32m    836\u001b[0m         options\u001b[39m=\u001b[39;49moptions,\n\u001b[1;32m    837\u001b[0m         stream\u001b[39m=\u001b[39;49mstream,\n\u001b[1;32m    838\u001b[0m         stream_cls\u001b[39m=\u001b[39;49mstream_cls,\n\u001b[1;32m    839\u001b[0m         remaining_retries\u001b[39m=\u001b[39;49mremaining_retries,\n\u001b[1;32m    840\u001b[0m     )\n",
      "File \u001b[0;32m~/.pyenv/versions/3.9.16/envs/openai-cookbook/lib/python3.9/site-packages/openai/_base_client.py:877\u001b[0m, in \u001b[0;36mSyncAPIClient._request\u001b[0;34m(self, cast_to, options, remaining_retries, stream, stream_cls)\u001b[0m\n\u001b[1;32m    874\u001b[0m     \u001b[39m# If the response is streamed then we need to explicitly read the response\u001b[39;00m\n\u001b[1;32m    875\u001b[0m     \u001b[39m# to completion before attempting to access the response text.\u001b[39;00m\n\u001b[1;32m    876\u001b[0m     err\u001b[39m.\u001b[39mresponse\u001b[39m.\u001b[39mread()\n\u001b[0;32m--> 877\u001b[0m     \u001b[39mraise\u001b[39;00m \u001b[39mself\u001b[39m\u001b[39m.\u001b[39m_make_status_error_from_response(err\u001b[39m.\u001b[39mresponse) \u001b[39mfrom\u001b[39;00m \u001b[39mNone\u001b[39;00m\n\u001b[1;32m    878\u001b[0m \u001b[39mexcept\u001b[39;00m httpx\u001b[39m.\u001b[39mTimeoutException \u001b[39mas\u001b[39;00m err:\n\u001b[1;32m    879\u001b[0m     \u001b[39mif\u001b[39;00m retries \u001b[39m>\u001b[39m \u001b[39m0\u001b[39m:\n",
      "\u001b[0;31mNotFoundError\u001b[0m: Error code: 404 - {'error': {'message': 'No such File object: file-wbr9e8peOrcsUOSANlS6WxnK', 'type': 'invalid_request_error', 'param': 'id', 'code': None}}"
     ]
    }
   ],
   "source": [
    "convert_file_to_png(title_img_file_id,title_img_write_path)\n"
   ]
  },
  {
   "cell_type": "markdown",
   "metadata": {},
   "source": [
    "Once we have the video frames we craft our prompt and send a request to GPT (Note that we don't need to send every frame for GPT to understand what's going on):\n"
   ]
  },
  {
   "cell_type": "code",
   "execution_count": null,
   "metadata": {},
   "outputs": [],
   "source": [
    "PROMPT_MESSAGES = [\n",
    "    {\n",
    "        \"role\": \"user\",\n",
    "        \"content\": [\n",
    "            \"These are frames from a video that I want to upload. Generate a compelling description that I can upload along with the video.\",\n",
    "            *map(lambda x: {\"image\": x, \"resize\": 768}, base64Frames[0::10]),\n",
    "        ],\n",
    "    },\n",
    "]\n",
    "params = {\n",
    "    \"model\": \"gpt-4-vision-preview\",\n",
    "    \"messages\": PROMPT_MESSAGES,\n",
    "    \"api_key\": os.environ[\"OPENAI_API_KEY\"],\n",
    "    \"headers\": {\"Openai-Version\": \"2020-11-07\"},\n",
    "    \"max_tokens\": 200,\n",
    "}\n",
    "\n",
    "result = openai.ChatCompletion.create(**params)\n",
    "print(result.choices[0].message.content)\n"
   ]
  },
  {
   "cell_type": "markdown",
   "metadata": {},
   "source": [
    "## 2. Generating a voiceover for a video with GPT-4 and the TTS API\n"
   ]
  },
  {
   "cell_type": "markdown",
   "metadata": {},
   "source": [
    "Let's create a voiceover for this video in the style of David Attenborough. Using the same video frames we prompt GPT to give us a short script:\n"
   ]
  },
  {
   "cell_type": "code",
   "execution_count": null,
   "metadata": {},
   "outputs": [],
   "source": [
    "PROMPT_MESSAGES = [\n",
    "    {\n",
    "        \"role\": \"user\",\n",
    "        \"content\": [\n",
    "            \"These are frames of a video. Create a short voiceover script in the style of David Attenborough. Only include the narration.\",\n",
    "            *map(lambda x: {\"image\": x, \"resize\": 768}, base64Frames[0::10]),\n",
    "        ],\n",
    "    },\n",
    "]\n",
    "params = {\n",
    "    \"model\": \"gpt-4-vision-preview\",\n",
    "    \"messages\": PROMPT_MESSAGES,\n",
    "    \"api_key\": os.environ[\"OPENAI_API_KEY\"],\n",
    "    \"headers\": {\"Openai-Version\": \"2020-11-07\"},\n",
    "    \"max_tokens\": 500,\n",
    "}\n",
    "\n",
    "result = openai.ChatCompletion.create(**params)\n",
    "print(result.choices[0].message.content)\n"
   ]
  },
  {
   "cell_type": "markdown",
   "metadata": {},
   "source": [
    "Now we can pass the script to the TTS API where it will generate a mp3 of the voiceover:\n"
   ]
  },
  {
   "cell_type": "code",
   "execution_count": null,
   "metadata": {},
   "outputs": [],
   "source": [
    "response = requests.post(\n",
    "    \"https://api.openai.com/v1/audio/speech\",\n",
    "    headers={\n",
    "        \"Authorization\": f\"Bearer {os.environ['OPENAI_API_KEY']}\",\n",
    "    },\n",
    "    json={\n",
    "        \"model\": \"tts-1\",\n",
    "        \"input\": result.choices[0].message.content,\n",
    "        \"voice\": \"onyx\",\n",
    "    },\n",
    ")\n",
    "\n",
    "audio = b\"\"\n",
    "for chunk in response.iter_content(chunk_size=1024 * 1024):\n",
    "    audio += chunk\n",
    "Audio(audio)\n"
   ]
  }
 ],
 "metadata": {
  "kernelspec": {
   "display_name": "openai",
   "language": "python",
   "name": "python3"
  },
  "language_info": {
   "codemirror_mode": {
    "name": "ipython",
    "version": 3
   },
   "file_extension": ".py",
   "mimetype": "text/x-python",
   "name": "python",
   "nbconvert_exporter": "python",
   "pygments_lexer": "ipython3",
   "version": "3.9.16"
  }
 },
 "nbformat": 4,
 "nbformat_minor": 2
}
