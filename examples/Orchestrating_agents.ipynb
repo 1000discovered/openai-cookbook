{
 "cells": [
  {
   "cell_type": "markdown",
   "metadata": {},
   "source": [
    "# Orchestrating Agents: Routines and Handoffs\n",
    "\n",
    "Quite often all you need is a good prompt and solid tools; however, dealing with many unique flows may require you to coordinate multiple prompts and tools.\n",
    "\n",
    "This cookbook will introduce the notion of **routines** and **handoffs**. We'll walk through their implementation, and show how they can be used to orchestrate multiple agents in a simple, powerful, and controllable way.\n",
    "\n",
    "\n",
    "# Routines\n",
    "\n",
    "We'll define a routine to be a list of instructions in natural langauge, along with the tools necessary to complete them. Let's take a look at an example:"
   ]
  },
  {
   "cell_type": "code",
   "execution_count": null,
   "metadata": {},
   "outputs": [],
   "source": [
    "tools = []\n",
    "intructions = \"\"\"\n",
    "You are a customer service agent.\n",
    "\n",
    "1. Greet the user with a welcome message.\n",
    "2. \n",
    "\"\"\".strip()"
   ]
  }
 ],
 "metadata": {
  "language_info": {
   "name": "python"
  }
 },
 "nbformat": 4,
 "nbformat_minor": 2
}
